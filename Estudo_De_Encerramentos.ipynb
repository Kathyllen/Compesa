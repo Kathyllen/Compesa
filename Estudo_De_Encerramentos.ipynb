{
  "cells": [
    {
      "cell_type": "markdown",
      "metadata": {
        "id": "view-in-github",
        "colab_type": "text"
      },
      "source": [
        "<a href=\"https://colab.research.google.com/github/Kathyllen/Compesa/blob/matr%C3%ADculas/Estudo_De_Encerramentos.ipynb\" target=\"_parent\"><img src=\"https://colab.research.google.com/assets/colab-badge.svg\" alt=\"Open In Colab\"/></a>"
      ]
    },
    {
      "cell_type": "markdown",
      "source": [
        "### Importações"
      ],
      "metadata": {
        "id": "rTgcUdkNKqCG"
      }
    },
    {
      "cell_type": "code",
      "execution_count": 511,
      "metadata": {
        "id": "gI6ETadWc8ij",
        "colab": {
          "base_uri": "https://localhost:8080/"
        },
        "outputId": "7b60dac3-5747-4771-e121-34595b7305b6"
      },
      "outputs": [
        {
          "output_type": "stream",
          "name": "stderr",
          "text": [
            "[nltk_data] Downloading package stopwords to /root/nltk_data...\n",
            "[nltk_data]   Package stopwords is already up-to-date!\n"
          ]
        }
      ],
      "source": [
        "import re\n",
        "import nltk\n",
        "import unicodedata\n",
        "import numpy as np\n",
        "import pandas as pd\n",
        "import datetime as dt\n",
        "import xgboost as xgb\n",
        "nltk.download('stopwords')\n",
        "import matplotlib.pyplot as plt\n",
        "from nltk.corpus import stopwords\n",
        "from sklearn.preprocessing import LabelEncoder\n",
        "from sklearn.model_selection import train_test_split\n",
        "from sklearn.model_selection import learning_curve\n",
        "from sklearn.feature_extraction.text import CountVectorizer\n",
        "from sklearn.metrics import plot_confusion_matrix, accuracy_score\n",
        "from collections import defaultdict"
      ]
    },
    {
      "cell_type": "code",
      "execution_count": 512,
      "metadata": {
        "id": "h7l546JBbvsu",
        "colab": {
          "base_uri": "https://localhost:8080/"
        },
        "outputId": "9e85fd43-0ada-43f8-8f33-cf98cbe5bf64"
      },
      "outputs": [
        {
          "output_type": "stream",
          "name": "stderr",
          "text": [
            "<ipython-input-512-cab0ff8dea43>:4: FutureWarning: Inferring datetime64[ns] from data containing strings is deprecated and will be removed in a future version. To retain the old behavior explicitly pass Series(data, dtype={value.dtype})\n",
            "  train_df = pd.read_excel(path_train)\n"
          ]
        }
      ],
      "source": [
        "path_train = r'/content/20221025_Estudo_Encerramentos.xlsx'\n",
        "path_predict = r'/content/Estudo de encerramentos.xlsx'\n",
        "\n",
        "train_df = pd.read_excel(path_train)\n",
        "predict_df = pd.read_excel(path_predict)"
      ]
    },
    {
      "cell_type": "code",
      "source": [
        "predict_df = predict_df.loc[~predict_df['Número OS'].isin(train_df['Número OS'])]"
      ],
      "metadata": {
        "id": "YgjJPJs2jfzU"
      },
      "execution_count": 513,
      "outputs": []
    },
    {
      "cell_type": "code",
      "source": [
        "predict_df['GERENCIA'].value_counts()"
      ],
      "metadata": {
        "colab": {
          "base_uri": "https://localhost:8080/"
        },
        "id": "92MRENKzLUY0",
        "outputId": "9803caf3-4548-4453-b4b4-88c44662bca8"
      },
      "execution_count": 514,
      "outputs": [
        {
          "output_type": "execute_result",
          "data": {
            "text/plain": [
              "GNM OESTE                 1066\n",
              "GNR SAO FRANCISCO          976\n",
              "GNR AGRESTE CENTRAL        644\n",
              "GNM NORTE                  520\n",
              "GNM LESTE                  498\n",
              "GNM CENTRO SUL             415\n",
              "GNM SUL                    390\n",
              "GNR IPOJUCA                385\n",
              "GNM CENTRO NORTE           353\n",
              "GNR AGRESTE MERIDIONAL     306\n",
              "GNR MATA NORTE             228\n",
              "GNR RUSSAS                 212\n",
              "GNR MATA SUL               180\n",
              "GNR ALTO CAPIBARIBE        167\n",
              "GNM CENTRO                  75\n",
              "Name: GERENCIA, dtype: int64"
            ]
          },
          "metadata": {},
          "execution_count": 514
        }
      ]
    },
    {
      "cell_type": "code",
      "source": [
        "predict_df_sampled = predict_df[predict_df['GERENCIA'] == 'GNM CENTRO NORTE']"
      ],
      "metadata": {
        "id": "wc1elr03KyZH"
      },
      "execution_count": 515,
      "outputs": []
    },
    {
      "cell_type": "code",
      "source": [
        "#predict_df_sampled = predict_df.sample(50, random_state = 3)"
      ],
      "metadata": {
        "id": "AWIm2TgMHnDa"
      },
      "execution_count": 516,
      "outputs": []
    },
    {
      "cell_type": "code",
      "execution_count": 517,
      "metadata": {
        "id": "0C-q1oGEeXql",
        "colab": {
          "base_uri": "https://localhost:8080/"
        },
        "outputId": "e331ada4-e714-4eda-fb0c-a8f2a2646d14"
      },
      "outputs": [
        {
          "output_type": "stream",
          "name": "stdout",
          "text": [
            "<class 'pandas.core.frame.DataFrame'>\n",
            "RangeIndex: 1576 entries, 0 to 1575\n",
            "Data columns (total 14 columns):\n",
            " #   Column           Non-Null Count  Dtype         \n",
            "---  ------           --------------  -----         \n",
            " 0   Número OS        1576 non-null   int64         \n",
            " 1   IMOV_ID          1576 non-null   int64         \n",
            " 2   GERENCIA         1576 non-null   object        \n",
            " 3   Município        1576 non-null   object        \n",
            " 4   AM Geração OS    1576 non-null   int64         \n",
            " 5   AM Encer OS      1576 non-null   int64         \n",
            " 6   Dt Geração OS    1576 non-null   datetime64[ns]\n",
            " 7   Dt Encer OS      1576 non-null   datetime64[ns]\n",
            " 8   Tipo Serviço OS  1576 non-null   object        \n",
            " 9   Unid Abert OS    1576 non-null   object        \n",
            " 10  Motivo encer OS  1576 non-null   object        \n",
            " 11  Parecer Enc OS   1576 non-null   object        \n",
            " 12  Comentários      1576 non-null   object        \n",
            " 13  Conclusão        1576 non-null   object        \n",
            "dtypes: datetime64[ns](2), int64(4), object(8)\n",
            "memory usage: 172.5+ KB\n"
          ]
        }
      ],
      "source": [
        "train_df.info()"
      ]
    },
    {
      "cell_type": "code",
      "source": [
        "limite_train = train_df.shape[0]"
      ],
      "metadata": {
        "id": "JBxaf3Ne4ANi"
      },
      "execution_count": 518,
      "outputs": []
    },
    {
      "cell_type": "code",
      "source": [
        "train_df['Conclusão'] = (train_df['Conclusão']\n",
        "                         .replace(['É possível realizar o serviço.', 'Não é possível realizar o serviço.', 'Não precisa gerar outra OS. ', 'Gerar OS de remoção.', 'Gerar OS para instalar HD.', 'Inconclusivo'], \n",
        "                   [0, 1, 1, 2, 3, 4]))"
      ],
      "metadata": {
        "id": "1qciA2GRXfXa"
      },
      "execution_count": 519,
      "outputs": []
    },
    {
      "cell_type": "code",
      "source": [
        "train_df['Conclusão'].value_counts()"
      ],
      "metadata": {
        "colab": {
          "base_uri": "https://localhost:8080/"
        },
        "id": "3zeVy5k6-12I",
        "outputId": "afc1bda6-951a-4aec-82ae-fdaf0160be4f"
      },
      "execution_count": 520,
      "outputs": [
        {
          "output_type": "execute_result",
          "data": {
            "text/plain": [
              "0    762\n",
              "1    561\n",
              "4    121\n",
              "2     82\n",
              "3     50\n",
              "Name: Conclusão, dtype: int64"
            ]
          },
          "metadata": {},
          "execution_count": 520
        }
      ]
    },
    {
      "cell_type": "code",
      "source": [
        "dataframe = pd.concat([train_df, predict_df_sampled], axis = 0).copy()"
      ],
      "metadata": {
        "id": "Gdj5K6YU_t2u"
      },
      "execution_count": 521,
      "outputs": []
    },
    {
      "cell_type": "code",
      "source": [
        "dataframe['Dt Encer OS'] = pd.to_datetime(dataframe['Dt Encer OS'])\n",
        "\n",
        "today = pd.datetime.today()\n",
        "\n",
        "dataframe['TEMPO_DESDE_ENCERRAMENTO'] = (dt.datetime(2022, 11, 3) - dataframe['Dt Encer OS'])"
      ],
      "metadata": {
        "colab": {
          "base_uri": "https://localhost:8080/"
        },
        "id": "2LE7x8uIfpQX",
        "outputId": "67e9d427-763d-43cc-b904-bc3d4b71f379"
      },
      "execution_count": 522,
      "outputs": [
        {
          "output_type": "stream",
          "name": "stderr",
          "text": [
            "<ipython-input-522-cd487c4f836f>:3: FutureWarning: The pandas.datetime class is deprecated and will be removed from pandas in a future version. Import from datetime module instead.\n",
            "  today = pd.datetime.today()\n"
          ]
        }
      ]
    },
    {
      "cell_type": "code",
      "source": [
        "dataframe['TEMPO_DESDE_ENCERRAMENTO'] = dataframe['TEMPO_DESDE_ENCERRAMENTO'].dt.days"
      ],
      "metadata": {
        "id": "VEf51muEAs7Y"
      },
      "execution_count": 523,
      "outputs": []
    },
    {
      "cell_type": "code",
      "source": [
        "# dataframe = dataframe.drop(columns = ['Localidade', 'Número OS', 'IMOV_ID', 'AM Geração OS', 'AM Encer OS', 'Dt Geração OS', 'Dt Encer OS'])\n",
        "dataframe = dataframe.drop(columns = ['Localidade', 'Número OS', 'AM Geração OS', 'AM Encer OS', 'Dt Geração OS', 'Dt Encer OS'])"
      ],
      "metadata": {
        "id": "2egu1nmWIsv1"
      },
      "execution_count": 524,
      "outputs": []
    },
    {
      "cell_type": "code",
      "source": [
        "Var_Categoricas = ['GERENCIA', 'Município', 'Tipo Serviço OS', 'Unid Abert OS', 'Motivo encer OS']"
      ],
      "metadata": {
        "id": "DSXOrlNLflSv"
      },
      "execution_count": 525,
      "outputs": []
    },
    {
      "cell_type": "code",
      "source": [
        "dataframe[Var_Categoricas] = dataframe[Var_Categoricas].astype('category')"
      ],
      "metadata": {
        "id": "8U9ajBYoR9aG"
      },
      "execution_count": 526,
      "outputs": []
    },
    {
      "cell_type": "code",
      "source": [
        "class MultiColumnLabelEncoder:\n",
        "\n",
        "    def __init__(self, columns=None):\n",
        "        self.columns = columns # array of column names to encode\n",
        "\n",
        "    def fit(self, X, y=None):\n",
        "        self.encoders = {}\n",
        "        columns = X.columns if self.columns is None else self.columns\n",
        "        for col in columns:\n",
        "            self.encoders[col] = LabelEncoder().fit(X[col])\n",
        "        return self\n",
        "\n",
        "    def transform(self, X):\n",
        "        output = X.copy()\n",
        "        columns = X.columns if self.columns is None else self.columns\n",
        "        for col in columns:\n",
        "            output[col] = self.encoders[col].transform(X[col])\n",
        "        return output\n",
        "\n",
        "    def fit_transform(self, X, y=None):\n",
        "        return self.fit(X,y).transform(X)\n",
        "\n",
        "    def inverse_transform(self, X):\n",
        "        output = X.copy()\n",
        "        columns = X.columns if self.columns is None else self.columns\n",
        "        for col in columns:\n",
        "            output[col] = self.encoders[col].inverse_transform(X[col])\n",
        "        return output"
      ],
      "metadata": {
        "id": "_iJwv-Nczj2o"
      },
      "execution_count": 527,
      "outputs": []
    },
    {
      "cell_type": "code",
      "source": [
        "multi = MultiColumnLabelEncoder(columns = Var_Categoricas)\n",
        "encoded_data = multi.fit_transform(dataframe)"
      ],
      "metadata": {
        "id": "Ux0AFqbrzu5G"
      },
      "execution_count": 528,
      "outputs": []
    },
    {
      "cell_type": "code",
      "source": [
        "dataframe_encoded = pd.DataFrame(encoded_data, columns = dataframe.columns)"
      ],
      "metadata": {
        "id": "Q9pOVOq70jBu"
      },
      "execution_count": 529,
      "outputs": []
    },
    {
      "cell_type": "code",
      "source": [
        "dataframe_encoded"
      ],
      "metadata": {
        "colab": {
          "base_uri": "https://localhost:8080/",
          "height": 554
        },
        "id": "j3hEJutj2q2y",
        "outputId": "0fcb972e-7bcf-40c5-d6a6-e0b8dd4a0210"
      },
      "execution_count": 530,
      "outputs": [
        {
          "output_type": "execute_result",
          "data": {
            "text/plain": [
              "       IMOV_ID  GERENCIA  Município  Tipo Serviço OS  Unid Abert OS  \\\n",
              "0     57860731         0         47                1              1   \n",
              "1     68325994         1         40                1              1   \n",
              "2     68380863         1         40                1              1   \n",
              "3     57921285         0         47                1              1   \n",
              "4     57920963         0         47                1              1   \n",
              "...        ...       ...        ...              ...            ...   \n",
              "7664  68180511         1         40                1              1   \n",
              "7670  15680601         1         40                1              1   \n",
              "7673  68202868         1         40                1              1   \n",
              "7678  16253316         1         40                1              1   \n",
              "7684  68126266         1         40                1              1   \n",
              "\n",
              "      Motivo encer OS                                     Parecer Enc OS  \\\n",
              "0                  15  CLIENTE NAO PERMITIU, MAS SOLICITOU O CARRO, P...   \n",
              "1                  15                                  HD nAo localizado   \n",
              "2                  15                                  HD nAo localizado   \n",
              "3                  15                                      TUBETE COLADO   \n",
              "4                  15                                      TUBETE COLADO   \n",
              "...               ...                                                ...   \n",
              "7664                7                                                  -   \n",
              "7670                0                               cliente nAo permitiu   \n",
              "7673                7                                                  -   \n",
              "7678                0                              cliente nAo permitiu,   \n",
              "7684                6                  imóvel fechado HD interno remoCAo   \n",
              "\n",
              "                                            Comentários  Conclusão  \\\n",
              "0     Nada físico impede de fazer o serviço, apenas ...        0.0   \n",
              "1                  Pode ter sido um problema temporário        0.0   \n",
              "2      Segundo as fotos anteriores, o imóvel era outro.        0.0   \n",
              "3     Não dá para saber se foi colado ou se está sot...        4.0   \n",
              "4     Concretaram dentro da caixa de proteção do HD ...        1.0   \n",
              "...                                                 ...        ...   \n",
              "7664                                                NaN        NaN   \n",
              "7670                                                NaN        NaN   \n",
              "7673                                                NaN        NaN   \n",
              "7678                                                NaN        NaN   \n",
              "7684                                                NaN        NaN   \n",
              "\n",
              "      TEMPO_DESDE_ENCERRAMENTO  \n",
              "0                           12  \n",
              "1                           12  \n",
              "2                           12  \n",
              "3                           12  \n",
              "4                           12  \n",
              "...                        ...  \n",
              "7664                       -15  \n",
              "7670                        34  \n",
              "7673                       -27  \n",
              "7678                        82  \n",
              "7684                       184  \n",
              "\n",
              "[1929 rows x 10 columns]"
            ],
            "text/html": [
              "\n",
              "  <div id=\"df-ed7c55b6-ca0a-4a48-9df7-4b51ce77a7cc\">\n",
              "    <div class=\"colab-df-container\">\n",
              "      <div>\n",
              "<style scoped>\n",
              "    .dataframe tbody tr th:only-of-type {\n",
              "        vertical-align: middle;\n",
              "    }\n",
              "\n",
              "    .dataframe tbody tr th {\n",
              "        vertical-align: top;\n",
              "    }\n",
              "\n",
              "    .dataframe thead th {\n",
              "        text-align: right;\n",
              "    }\n",
              "</style>\n",
              "<table border=\"1\" class=\"dataframe\">\n",
              "  <thead>\n",
              "    <tr style=\"text-align: right;\">\n",
              "      <th></th>\n",
              "      <th>IMOV_ID</th>\n",
              "      <th>GERENCIA</th>\n",
              "      <th>Município</th>\n",
              "      <th>Tipo Serviço OS</th>\n",
              "      <th>Unid Abert OS</th>\n",
              "      <th>Motivo encer OS</th>\n",
              "      <th>Parecer Enc OS</th>\n",
              "      <th>Comentários</th>\n",
              "      <th>Conclusão</th>\n",
              "      <th>TEMPO_DESDE_ENCERRAMENTO</th>\n",
              "    </tr>\n",
              "  </thead>\n",
              "  <tbody>\n",
              "    <tr>\n",
              "      <th>0</th>\n",
              "      <td>57860731</td>\n",
              "      <td>0</td>\n",
              "      <td>47</td>\n",
              "      <td>1</td>\n",
              "      <td>1</td>\n",
              "      <td>15</td>\n",
              "      <td>CLIENTE NAO PERMITIU, MAS SOLICITOU O CARRO, P...</td>\n",
              "      <td>Nada físico impede de fazer o serviço, apenas ...</td>\n",
              "      <td>0.0</td>\n",
              "      <td>12</td>\n",
              "    </tr>\n",
              "    <tr>\n",
              "      <th>1</th>\n",
              "      <td>68325994</td>\n",
              "      <td>1</td>\n",
              "      <td>40</td>\n",
              "      <td>1</td>\n",
              "      <td>1</td>\n",
              "      <td>15</td>\n",
              "      <td>HD nAo localizado</td>\n",
              "      <td>Pode ter sido um problema temporário</td>\n",
              "      <td>0.0</td>\n",
              "      <td>12</td>\n",
              "    </tr>\n",
              "    <tr>\n",
              "      <th>2</th>\n",
              "      <td>68380863</td>\n",
              "      <td>1</td>\n",
              "      <td>40</td>\n",
              "      <td>1</td>\n",
              "      <td>1</td>\n",
              "      <td>15</td>\n",
              "      <td>HD nAo localizado</td>\n",
              "      <td>Segundo as fotos anteriores, o imóvel era outro.</td>\n",
              "      <td>0.0</td>\n",
              "      <td>12</td>\n",
              "    </tr>\n",
              "    <tr>\n",
              "      <th>3</th>\n",
              "      <td>57921285</td>\n",
              "      <td>0</td>\n",
              "      <td>47</td>\n",
              "      <td>1</td>\n",
              "      <td>1</td>\n",
              "      <td>15</td>\n",
              "      <td>TUBETE COLADO</td>\n",
              "      <td>Não dá para saber se foi colado ou se está sot...</td>\n",
              "      <td>4.0</td>\n",
              "      <td>12</td>\n",
              "    </tr>\n",
              "    <tr>\n",
              "      <th>4</th>\n",
              "      <td>57920963</td>\n",
              "      <td>0</td>\n",
              "      <td>47</td>\n",
              "      <td>1</td>\n",
              "      <td>1</td>\n",
              "      <td>15</td>\n",
              "      <td>TUBETE COLADO</td>\n",
              "      <td>Concretaram dentro da caixa de proteção do HD ...</td>\n",
              "      <td>1.0</td>\n",
              "      <td>12</td>\n",
              "    </tr>\n",
              "    <tr>\n",
              "      <th>...</th>\n",
              "      <td>...</td>\n",
              "      <td>...</td>\n",
              "      <td>...</td>\n",
              "      <td>...</td>\n",
              "      <td>...</td>\n",
              "      <td>...</td>\n",
              "      <td>...</td>\n",
              "      <td>...</td>\n",
              "      <td>...</td>\n",
              "      <td>...</td>\n",
              "    </tr>\n",
              "    <tr>\n",
              "      <th>7664</th>\n",
              "      <td>68180511</td>\n",
              "      <td>1</td>\n",
              "      <td>40</td>\n",
              "      <td>1</td>\n",
              "      <td>1</td>\n",
              "      <td>7</td>\n",
              "      <td>-</td>\n",
              "      <td>NaN</td>\n",
              "      <td>NaN</td>\n",
              "      <td>-15</td>\n",
              "    </tr>\n",
              "    <tr>\n",
              "      <th>7670</th>\n",
              "      <td>15680601</td>\n",
              "      <td>1</td>\n",
              "      <td>40</td>\n",
              "      <td>1</td>\n",
              "      <td>1</td>\n",
              "      <td>0</td>\n",
              "      <td>cliente nAo permitiu</td>\n",
              "      <td>NaN</td>\n",
              "      <td>NaN</td>\n",
              "      <td>34</td>\n",
              "    </tr>\n",
              "    <tr>\n",
              "      <th>7673</th>\n",
              "      <td>68202868</td>\n",
              "      <td>1</td>\n",
              "      <td>40</td>\n",
              "      <td>1</td>\n",
              "      <td>1</td>\n",
              "      <td>7</td>\n",
              "      <td>-</td>\n",
              "      <td>NaN</td>\n",
              "      <td>NaN</td>\n",
              "      <td>-27</td>\n",
              "    </tr>\n",
              "    <tr>\n",
              "      <th>7678</th>\n",
              "      <td>16253316</td>\n",
              "      <td>1</td>\n",
              "      <td>40</td>\n",
              "      <td>1</td>\n",
              "      <td>1</td>\n",
              "      <td>0</td>\n",
              "      <td>cliente nAo permitiu,</td>\n",
              "      <td>NaN</td>\n",
              "      <td>NaN</td>\n",
              "      <td>82</td>\n",
              "    </tr>\n",
              "    <tr>\n",
              "      <th>7684</th>\n",
              "      <td>68126266</td>\n",
              "      <td>1</td>\n",
              "      <td>40</td>\n",
              "      <td>1</td>\n",
              "      <td>1</td>\n",
              "      <td>6</td>\n",
              "      <td>imóvel fechado HD interno remoCAo</td>\n",
              "      <td>NaN</td>\n",
              "      <td>NaN</td>\n",
              "      <td>184</td>\n",
              "    </tr>\n",
              "  </tbody>\n",
              "</table>\n",
              "<p>1929 rows × 10 columns</p>\n",
              "</div>\n",
              "      <button class=\"colab-df-convert\" onclick=\"convertToInteractive('df-ed7c55b6-ca0a-4a48-9df7-4b51ce77a7cc')\"\n",
              "              title=\"Convert this dataframe to an interactive table.\"\n",
              "              style=\"display:none;\">\n",
              "        \n",
              "  <svg xmlns=\"http://www.w3.org/2000/svg\" height=\"24px\"viewBox=\"0 0 24 24\"\n",
              "       width=\"24px\">\n",
              "    <path d=\"M0 0h24v24H0V0z\" fill=\"none\"/>\n",
              "    <path d=\"M18.56 5.44l.94 2.06.94-2.06 2.06-.94-2.06-.94-.94-2.06-.94 2.06-2.06.94zm-11 1L8.5 8.5l.94-2.06 2.06-.94-2.06-.94L8.5 2.5l-.94 2.06-2.06.94zm10 10l.94 2.06.94-2.06 2.06-.94-2.06-.94-.94-2.06-.94 2.06-2.06.94z\"/><path d=\"M17.41 7.96l-1.37-1.37c-.4-.4-.92-.59-1.43-.59-.52 0-1.04.2-1.43.59L10.3 9.45l-7.72 7.72c-.78.78-.78 2.05 0 2.83L4 21.41c.39.39.9.59 1.41.59.51 0 1.02-.2 1.41-.59l7.78-7.78 2.81-2.81c.8-.78.8-2.07 0-2.86zM5.41 20L4 18.59l7.72-7.72 1.47 1.35L5.41 20z\"/>\n",
              "  </svg>\n",
              "      </button>\n",
              "      \n",
              "  <style>\n",
              "    .colab-df-container {\n",
              "      display:flex;\n",
              "      flex-wrap:wrap;\n",
              "      gap: 12px;\n",
              "    }\n",
              "\n",
              "    .colab-df-convert {\n",
              "      background-color: #E8F0FE;\n",
              "      border: none;\n",
              "      border-radius: 50%;\n",
              "      cursor: pointer;\n",
              "      display: none;\n",
              "      fill: #1967D2;\n",
              "      height: 32px;\n",
              "      padding: 0 0 0 0;\n",
              "      width: 32px;\n",
              "    }\n",
              "\n",
              "    .colab-df-convert:hover {\n",
              "      background-color: #E2EBFA;\n",
              "      box-shadow: 0px 1px 2px rgba(60, 64, 67, 0.3), 0px 1px 3px 1px rgba(60, 64, 67, 0.15);\n",
              "      fill: #174EA6;\n",
              "    }\n",
              "\n",
              "    [theme=dark] .colab-df-convert {\n",
              "      background-color: #3B4455;\n",
              "      fill: #D2E3FC;\n",
              "    }\n",
              "\n",
              "    [theme=dark] .colab-df-convert:hover {\n",
              "      background-color: #434B5C;\n",
              "      box-shadow: 0px 1px 3px 1px rgba(0, 0, 0, 0.15);\n",
              "      filter: drop-shadow(0px 1px 2px rgba(0, 0, 0, 0.3));\n",
              "      fill: #FFFFFF;\n",
              "    }\n",
              "  </style>\n",
              "\n",
              "      <script>\n",
              "        const buttonEl =\n",
              "          document.querySelector('#df-ed7c55b6-ca0a-4a48-9df7-4b51ce77a7cc button.colab-df-convert');\n",
              "        buttonEl.style.display =\n",
              "          google.colab.kernel.accessAllowed ? 'block' : 'none';\n",
              "\n",
              "        async function convertToInteractive(key) {\n",
              "          const element = document.querySelector('#df-ed7c55b6-ca0a-4a48-9df7-4b51ce77a7cc');\n",
              "          const dataTable =\n",
              "            await google.colab.kernel.invokeFunction('convertToInteractive',\n",
              "                                                     [key], {});\n",
              "          if (!dataTable) return;\n",
              "\n",
              "          const docLinkHtml = 'Like what you see? Visit the ' +\n",
              "            '<a target=\"_blank\" href=https://colab.research.google.com/notebooks/data_table.ipynb>data table notebook</a>'\n",
              "            + ' to learn more about interactive tables.';\n",
              "          element.innerHTML = '';\n",
              "          dataTable['output_type'] = 'display_data';\n",
              "          await google.colab.output.renderOutput(dataTable, element);\n",
              "          const docLink = document.createElement('div');\n",
              "          docLink.innerHTML = docLinkHtml;\n",
              "          element.appendChild(docLink);\n",
              "        }\n",
              "      </script>\n",
              "    </div>\n",
              "  </div>\n",
              "  "
            ]
          },
          "metadata": {},
          "execution_count": 530
        }
      ]
    },
    {
      "cell_type": "code",
      "execution_count": 531,
      "metadata": {
        "id": "IAEqh-t4nBAp"
      },
      "outputs": [],
      "source": [
        "#Função para tirar símbolos e acentos e deixar o texto em lowercase:\n",
        "def remove_punctuation(text):\n",
        "  # Unicode normalize transforma um caracter em seu equivalente em latin.\n",
        "    nfkd = unicodedata.normalize('NFKD', text)\n",
        "    no_punct = u\"\".join([c for c in nfkd if not unicodedata.combining(c)])\n",
        "\n",
        "    # Uso de re para retornar a palavra apenas com números, letras e espaço\n",
        "    return re.sub('[^a-zA-Z0-9 \\\\\\]', '', no_punct.lower())"
      ]
    },
    {
      "cell_type": "code",
      "source": [
        "dataframe_encoded['Parecer Enc OS'] = dataframe_encoded['Parecer Enc OS'].apply(lambda x:remove_punctuation(x))"
      ],
      "metadata": {
        "id": "FbMf9N6RAtbz"
      },
      "execution_count": 532,
      "outputs": []
    },
    {
      "cell_type": "code",
      "execution_count": 533,
      "metadata": {
        "id": "lUH1uA2UNkt2"
      },
      "outputs": [],
      "source": [
        "#Função para remover as palavras da lista:\n",
        "lista_palavras = ['dia', 'visita', 'realizada', 'antonio', 'amos', 'sendo', 'santana']\n",
        "def remove_words(text):\n",
        "  if(type(text)==float):\n",
        "    return text\n",
        "  ans=\"\"  \n",
        "  for texto in text:     \n",
        "    if texto not in lista_palavras:\n",
        "      ans+= \" \" + texto\n",
        "  return ans.lstrip()"
      ]
    },
    {
      "cell_type": "code",
      "source": [
        "dataframe_encoded['Parecer Enc OS'] = dataframe_encoded['Parecer Enc OS'].apply(lambda x:remove_words(x.split()))"
      ],
      "metadata": {
        "id": "cS_T7qpYAyu8"
      },
      "execution_count": 534,
      "outputs": []
    },
    {
      "cell_type": "code",
      "source": [
        "train_df_ = dataframe_encoded.iloc[:limite_train,:].copy()\n",
        "\n",
        "predict_df_ = dataframe_encoded.iloc[limite_train:,:].copy()"
      ],
      "metadata": {
        "id": "z8HI7j3uHBT2"
      },
      "execution_count": 535,
      "outputs": []
    },
    {
      "cell_type": "code",
      "execution_count": 536,
      "metadata": {
        "id": "qlisr-5Tf84D",
        "colab": {
          "base_uri": "https://localhost:8080/"
        },
        "outputId": "fbe045a2-917d-4126-9464-9ed1e5e2adca"
      },
      "outputs": [
        {
          "output_type": "stream",
          "name": "stderr",
          "text": [
            "/usr/local/lib/python3.8/dist-packages/pandas/core/frame.py:4486: PerformanceWarning: DataFrame is highly fragmented.  This is usually the result of calling `frame.insert` many times, which has poor performance.  Consider joining all columns at once using pd.concat(axis=1) instead.  To get a de-fragmented frame, use `newframe = frame.copy()`\n",
            "  data[k] = com.apply_if_callable(v, data)\n",
            "/usr/local/lib/python3.8/dist-packages/pandas/core/frame.py:4486: PerformanceWarning: DataFrame is highly fragmented.  This is usually the result of calling `frame.insert` many times, which has poor performance.  Consider joining all columns at once using pd.concat(axis=1) instead.  To get a de-fragmented frame, use `newframe = frame.copy()`\n",
            "  data[k] = com.apply_if_callable(v, data)\n",
            "/usr/local/lib/python3.8/dist-packages/pandas/core/frame.py:4486: PerformanceWarning: DataFrame is highly fragmented.  This is usually the result of calling `frame.insert` many times, which has poor performance.  Consider joining all columns at once using pd.concat(axis=1) instead.  To get a de-fragmented frame, use `newframe = frame.copy()`\n",
            "  data[k] = com.apply_if_callable(v, data)\n",
            "/usr/local/lib/python3.8/dist-packages/pandas/core/frame.py:4486: PerformanceWarning: DataFrame is highly fragmented.  This is usually the result of calling `frame.insert` many times, which has poor performance.  Consider joining all columns at once using pd.concat(axis=1) instead.  To get a de-fragmented frame, use `newframe = frame.copy()`\n",
            "  data[k] = com.apply_if_callable(v, data)\n",
            "/usr/local/lib/python3.8/dist-packages/pandas/core/frame.py:4486: PerformanceWarning: DataFrame is highly fragmented.  This is usually the result of calling `frame.insert` many times, which has poor performance.  Consider joining all columns at once using pd.concat(axis=1) instead.  To get a de-fragmented frame, use `newframe = frame.copy()`\n",
            "  data[k] = com.apply_if_callable(v, data)\n",
            "/usr/local/lib/python3.8/dist-packages/pandas/core/frame.py:4486: PerformanceWarning: DataFrame is highly fragmented.  This is usually the result of calling `frame.insert` many times, which has poor performance.  Consider joining all columns at once using pd.concat(axis=1) instead.  To get a de-fragmented frame, use `newframe = frame.copy()`\n",
            "  data[k] = com.apply_if_callable(v, data)\n",
            "/usr/local/lib/python3.8/dist-packages/pandas/core/frame.py:4486: PerformanceWarning: DataFrame is highly fragmented.  This is usually the result of calling `frame.insert` many times, which has poor performance.  Consider joining all columns at once using pd.concat(axis=1) instead.  To get a de-fragmented frame, use `newframe = frame.copy()`\n",
            "  data[k] = com.apply_if_callable(v, data)\n",
            "/usr/local/lib/python3.8/dist-packages/pandas/core/frame.py:4486: PerformanceWarning: DataFrame is highly fragmented.  This is usually the result of calling `frame.insert` many times, which has poor performance.  Consider joining all columns at once using pd.concat(axis=1) instead.  To get a de-fragmented frame, use `newframe = frame.copy()`\n",
            "  data[k] = com.apply_if_callable(v, data)\n",
            "/usr/local/lib/python3.8/dist-packages/pandas/core/frame.py:4486: PerformanceWarning: DataFrame is highly fragmented.  This is usually the result of calling `frame.insert` many times, which has poor performance.  Consider joining all columns at once using pd.concat(axis=1) instead.  To get a de-fragmented frame, use `newframe = frame.copy()`\n",
            "  data[k] = com.apply_if_callable(v, data)\n",
            "/usr/local/lib/python3.8/dist-packages/pandas/core/frame.py:4486: PerformanceWarning: DataFrame is highly fragmented.  This is usually the result of calling `frame.insert` many times, which has poor performance.  Consider joining all columns at once using pd.concat(axis=1) instead.  To get a de-fragmented frame, use `newframe = frame.copy()`\n",
            "  data[k] = com.apply_if_callable(v, data)\n",
            "/usr/local/lib/python3.8/dist-packages/pandas/core/frame.py:4486: PerformanceWarning: DataFrame is highly fragmented.  This is usually the result of calling `frame.insert` many times, which has poor performance.  Consider joining all columns at once using pd.concat(axis=1) instead.  To get a de-fragmented frame, use `newframe = frame.copy()`\n",
            "  data[k] = com.apply_if_callable(v, data)\n",
            "/usr/local/lib/python3.8/dist-packages/pandas/core/frame.py:4486: PerformanceWarning: DataFrame is highly fragmented.  This is usually the result of calling `frame.insert` many times, which has poor performance.  Consider joining all columns at once using pd.concat(axis=1) instead.  To get a de-fragmented frame, use `newframe = frame.copy()`\n",
            "  data[k] = com.apply_if_callable(v, data)\n",
            "/usr/local/lib/python3.8/dist-packages/pandas/core/frame.py:4486: PerformanceWarning: DataFrame is highly fragmented.  This is usually the result of calling `frame.insert` many times, which has poor performance.  Consider joining all columns at once using pd.concat(axis=1) instead.  To get a de-fragmented frame, use `newframe = frame.copy()`\n",
            "  data[k] = com.apply_if_callable(v, data)\n",
            "/usr/local/lib/python3.8/dist-packages/pandas/core/frame.py:4486: PerformanceWarning: DataFrame is highly fragmented.  This is usually the result of calling `frame.insert` many times, which has poor performance.  Consider joining all columns at once using pd.concat(axis=1) instead.  To get a de-fragmented frame, use `newframe = frame.copy()`\n",
            "  data[k] = com.apply_if_callable(v, data)\n",
            "/usr/local/lib/python3.8/dist-packages/pandas/core/frame.py:4486: PerformanceWarning: DataFrame is highly fragmented.  This is usually the result of calling `frame.insert` many times, which has poor performance.  Consider joining all columns at once using pd.concat(axis=1) instead.  To get a de-fragmented frame, use `newframe = frame.copy()`\n",
            "  data[k] = com.apply_if_callable(v, data)\n",
            "/usr/local/lib/python3.8/dist-packages/pandas/core/frame.py:4486: PerformanceWarning: DataFrame is highly fragmented.  This is usually the result of calling `frame.insert` many times, which has poor performance.  Consider joining all columns at once using pd.concat(axis=1) instead.  To get a de-fragmented frame, use `newframe = frame.copy()`\n",
            "  data[k] = com.apply_if_callable(v, data)\n",
            "/usr/local/lib/python3.8/dist-packages/pandas/core/frame.py:4486: PerformanceWarning: DataFrame is highly fragmented.  This is usually the result of calling `frame.insert` many times, which has poor performance.  Consider joining all columns at once using pd.concat(axis=1) instead.  To get a de-fragmented frame, use `newframe = frame.copy()`\n",
            "  data[k] = com.apply_if_callable(v, data)\n",
            "/usr/local/lib/python3.8/dist-packages/pandas/core/frame.py:4486: PerformanceWarning: DataFrame is highly fragmented.  This is usually the result of calling `frame.insert` many times, which has poor performance.  Consider joining all columns at once using pd.concat(axis=1) instead.  To get a de-fragmented frame, use `newframe = frame.copy()`\n",
            "  data[k] = com.apply_if_callable(v, data)\n",
            "/usr/local/lib/python3.8/dist-packages/pandas/core/frame.py:4486: PerformanceWarning: DataFrame is highly fragmented.  This is usually the result of calling `frame.insert` many times, which has poor performance.  Consider joining all columns at once using pd.concat(axis=1) instead.  To get a de-fragmented frame, use `newframe = frame.copy()`\n",
            "  data[k] = com.apply_if_callable(v, data)\n",
            "/usr/local/lib/python3.8/dist-packages/pandas/core/frame.py:4486: PerformanceWarning: DataFrame is highly fragmented.  This is usually the result of calling `frame.insert` many times, which has poor performance.  Consider joining all columns at once using pd.concat(axis=1) instead.  To get a de-fragmented frame, use `newframe = frame.copy()`\n",
            "  data[k] = com.apply_if_callable(v, data)\n",
            "/usr/local/lib/python3.8/dist-packages/pandas/core/frame.py:4486: PerformanceWarning: DataFrame is highly fragmented.  This is usually the result of calling `frame.insert` many times, which has poor performance.  Consider joining all columns at once using pd.concat(axis=1) instead.  To get a de-fragmented frame, use `newframe = frame.copy()`\n",
            "  data[k] = com.apply_if_callable(v, data)\n",
            "/usr/local/lib/python3.8/dist-packages/pandas/core/frame.py:4486: PerformanceWarning: DataFrame is highly fragmented.  This is usually the result of calling `frame.insert` many times, which has poor performance.  Consider joining all columns at once using pd.concat(axis=1) instead.  To get a de-fragmented frame, use `newframe = frame.copy()`\n",
            "  data[k] = com.apply_if_callable(v, data)\n",
            "/usr/local/lib/python3.8/dist-packages/pandas/core/frame.py:4486: PerformanceWarning: DataFrame is highly fragmented.  This is usually the result of calling `frame.insert` many times, which has poor performance.  Consider joining all columns at once using pd.concat(axis=1) instead.  To get a de-fragmented frame, use `newframe = frame.copy()`\n",
            "  data[k] = com.apply_if_callable(v, data)\n",
            "/usr/local/lib/python3.8/dist-packages/pandas/core/frame.py:4486: PerformanceWarning: DataFrame is highly fragmented.  This is usually the result of calling `frame.insert` many times, which has poor performance.  Consider joining all columns at once using pd.concat(axis=1) instead.  To get a de-fragmented frame, use `newframe = frame.copy()`\n",
            "  data[k] = com.apply_if_callable(v, data)\n",
            "/usr/local/lib/python3.8/dist-packages/pandas/core/frame.py:4486: PerformanceWarning: DataFrame is highly fragmented.  This is usually the result of calling `frame.insert` many times, which has poor performance.  Consider joining all columns at once using pd.concat(axis=1) instead.  To get a de-fragmented frame, use `newframe = frame.copy()`\n",
            "  data[k] = com.apply_if_callable(v, data)\n",
            "/usr/local/lib/python3.8/dist-packages/pandas/core/frame.py:4486: PerformanceWarning: DataFrame is highly fragmented.  This is usually the result of calling `frame.insert` many times, which has poor performance.  Consider joining all columns at once using pd.concat(axis=1) instead.  To get a de-fragmented frame, use `newframe = frame.copy()`\n",
            "  data[k] = com.apply_if_callable(v, data)\n",
            "/usr/local/lib/python3.8/dist-packages/pandas/core/frame.py:4486: PerformanceWarning: DataFrame is highly fragmented.  This is usually the result of calling `frame.insert` many times, which has poor performance.  Consider joining all columns at once using pd.concat(axis=1) instead.  To get a de-fragmented frame, use `newframe = frame.copy()`\n",
            "  data[k] = com.apply_if_callable(v, data)\n",
            "/usr/local/lib/python3.8/dist-packages/pandas/core/frame.py:4486: PerformanceWarning: DataFrame is highly fragmented.  This is usually the result of calling `frame.insert` many times, which has poor performance.  Consider joining all columns at once using pd.concat(axis=1) instead.  To get a de-fragmented frame, use `newframe = frame.copy()`\n",
            "  data[k] = com.apply_if_callable(v, data)\n",
            "/usr/local/lib/python3.8/dist-packages/pandas/core/frame.py:4486: PerformanceWarning: DataFrame is highly fragmented.  This is usually the result of calling `frame.insert` many times, which has poor performance.  Consider joining all columns at once using pd.concat(axis=1) instead.  To get a de-fragmented frame, use `newframe = frame.copy()`\n",
            "  data[k] = com.apply_if_callable(v, data)\n",
            "/usr/local/lib/python3.8/dist-packages/pandas/core/frame.py:4486: PerformanceWarning: DataFrame is highly fragmented.  This is usually the result of calling `frame.insert` many times, which has poor performance.  Consider joining all columns at once using pd.concat(axis=1) instead.  To get a de-fragmented frame, use `newframe = frame.copy()`\n",
            "  data[k] = com.apply_if_callable(v, data)\n",
            "/usr/local/lib/python3.8/dist-packages/pandas/core/frame.py:4486: PerformanceWarning: DataFrame is highly fragmented.  This is usually the result of calling `frame.insert` many times, which has poor performance.  Consider joining all columns at once using pd.concat(axis=1) instead.  To get a de-fragmented frame, use `newframe = frame.copy()`\n",
            "  data[k] = com.apply_if_callable(v, data)\n",
            "/usr/local/lib/python3.8/dist-packages/pandas/core/frame.py:4486: PerformanceWarning: DataFrame is highly fragmented.  This is usually the result of calling `frame.insert` many times, which has poor performance.  Consider joining all columns at once using pd.concat(axis=1) instead.  To get a de-fragmented frame, use `newframe = frame.copy()`\n",
            "  data[k] = com.apply_if_callable(v, data)\n",
            "/usr/local/lib/python3.8/dist-packages/pandas/core/frame.py:4486: PerformanceWarning: DataFrame is highly fragmented.  This is usually the result of calling `frame.insert` many times, which has poor performance.  Consider joining all columns at once using pd.concat(axis=1) instead.  To get a de-fragmented frame, use `newframe = frame.copy()`\n",
            "  data[k] = com.apply_if_callable(v, data)\n",
            "/usr/local/lib/python3.8/dist-packages/pandas/core/frame.py:4486: PerformanceWarning: DataFrame is highly fragmented.  This is usually the result of calling `frame.insert` many times, which has poor performance.  Consider joining all columns at once using pd.concat(axis=1) instead.  To get a de-fragmented frame, use `newframe = frame.copy()`\n",
            "  data[k] = com.apply_if_callable(v, data)\n",
            "/usr/local/lib/python3.8/dist-packages/pandas/core/frame.py:4486: PerformanceWarning: DataFrame is highly fragmented.  This is usually the result of calling `frame.insert` many times, which has poor performance.  Consider joining all columns at once using pd.concat(axis=1) instead.  To get a de-fragmented frame, use `newframe = frame.copy()`\n",
            "  data[k] = com.apply_if_callable(v, data)\n",
            "/usr/local/lib/python3.8/dist-packages/pandas/core/frame.py:4486: PerformanceWarning: DataFrame is highly fragmented.  This is usually the result of calling `frame.insert` many times, which has poor performance.  Consider joining all columns at once using pd.concat(axis=1) instead.  To get a de-fragmented frame, use `newframe = frame.copy()`\n",
            "  data[k] = com.apply_if_callable(v, data)\n",
            "/usr/local/lib/python3.8/dist-packages/pandas/core/frame.py:4486: PerformanceWarning: DataFrame is highly fragmented.  This is usually the result of calling `frame.insert` many times, which has poor performance.  Consider joining all columns at once using pd.concat(axis=1) instead.  To get a de-fragmented frame, use `newframe = frame.copy()`\n",
            "  data[k] = com.apply_if_callable(v, data)\n",
            "/usr/local/lib/python3.8/dist-packages/pandas/core/frame.py:4486: PerformanceWarning: DataFrame is highly fragmented.  This is usually the result of calling `frame.insert` many times, which has poor performance.  Consider joining all columns at once using pd.concat(axis=1) instead.  To get a de-fragmented frame, use `newframe = frame.copy()`\n",
            "  data[k] = com.apply_if_callable(v, data)\n",
            "/usr/local/lib/python3.8/dist-packages/pandas/core/frame.py:4486: PerformanceWarning: DataFrame is highly fragmented.  This is usually the result of calling `frame.insert` many times, which has poor performance.  Consider joining all columns at once using pd.concat(axis=1) instead.  To get a de-fragmented frame, use `newframe = frame.copy()`\n",
            "  data[k] = com.apply_if_callable(v, data)\n",
            "/usr/local/lib/python3.8/dist-packages/pandas/core/frame.py:4486: PerformanceWarning: DataFrame is highly fragmented.  This is usually the result of calling `frame.insert` many times, which has poor performance.  Consider joining all columns at once using pd.concat(axis=1) instead.  To get a de-fragmented frame, use `newframe = frame.copy()`\n",
            "  data[k] = com.apply_if_callable(v, data)\n",
            "/usr/local/lib/python3.8/dist-packages/pandas/core/frame.py:4486: PerformanceWarning: DataFrame is highly fragmented.  This is usually the result of calling `frame.insert` many times, which has poor performance.  Consider joining all columns at once using pd.concat(axis=1) instead.  To get a de-fragmented frame, use `newframe = frame.copy()`\n",
            "  data[k] = com.apply_if_callable(v, data)\n",
            "/usr/local/lib/python3.8/dist-packages/pandas/core/frame.py:4486: PerformanceWarning: DataFrame is highly fragmented.  This is usually the result of calling `frame.insert` many times, which has poor performance.  Consider joining all columns at once using pd.concat(axis=1) instead.  To get a de-fragmented frame, use `newframe = frame.copy()`\n",
            "  data[k] = com.apply_if_callable(v, data)\n",
            "/usr/local/lib/python3.8/dist-packages/pandas/core/frame.py:4486: PerformanceWarning: DataFrame is highly fragmented.  This is usually the result of calling `frame.insert` many times, which has poor performance.  Consider joining all columns at once using pd.concat(axis=1) instead.  To get a de-fragmented frame, use `newframe = frame.copy()`\n",
            "  data[k] = com.apply_if_callable(v, data)\n",
            "/usr/local/lib/python3.8/dist-packages/pandas/core/frame.py:4486: PerformanceWarning: DataFrame is highly fragmented.  This is usually the result of calling `frame.insert` many times, which has poor performance.  Consider joining all columns at once using pd.concat(axis=1) instead.  To get a de-fragmented frame, use `newframe = frame.copy()`\n",
            "  data[k] = com.apply_if_callable(v, data)\n",
            "/usr/local/lib/python3.8/dist-packages/pandas/core/frame.py:4486: PerformanceWarning: DataFrame is highly fragmented.  This is usually the result of calling `frame.insert` many times, which has poor performance.  Consider joining all columns at once using pd.concat(axis=1) instead.  To get a de-fragmented frame, use `newframe = frame.copy()`\n",
            "  data[k] = com.apply_if_callable(v, data)\n",
            "/usr/local/lib/python3.8/dist-packages/pandas/core/frame.py:4486: PerformanceWarning: DataFrame is highly fragmented.  This is usually the result of calling `frame.insert` many times, which has poor performance.  Consider joining all columns at once using pd.concat(axis=1) instead.  To get a de-fragmented frame, use `newframe = frame.copy()`\n",
            "  data[k] = com.apply_if_callable(v, data)\n",
            "/usr/local/lib/python3.8/dist-packages/pandas/core/frame.py:4486: PerformanceWarning: DataFrame is highly fragmented.  This is usually the result of calling `frame.insert` many times, which has poor performance.  Consider joining all columns at once using pd.concat(axis=1) instead.  To get a de-fragmented frame, use `newframe = frame.copy()`\n",
            "  data[k] = com.apply_if_callable(v, data)\n",
            "/usr/local/lib/python3.8/dist-packages/pandas/core/frame.py:4486: PerformanceWarning: DataFrame is highly fragmented.  This is usually the result of calling `frame.insert` many times, which has poor performance.  Consider joining all columns at once using pd.concat(axis=1) instead.  To get a de-fragmented frame, use `newframe = frame.copy()`\n",
            "  data[k] = com.apply_if_callable(v, data)\n",
            "/usr/local/lib/python3.8/dist-packages/pandas/core/frame.py:4486: PerformanceWarning: DataFrame is highly fragmented.  This is usually the result of calling `frame.insert` many times, which has poor performance.  Consider joining all columns at once using pd.concat(axis=1) instead.  To get a de-fragmented frame, use `newframe = frame.copy()`\n",
            "  data[k] = com.apply_if_callable(v, data)\n",
            "/usr/local/lib/python3.8/dist-packages/pandas/core/frame.py:4486: PerformanceWarning: DataFrame is highly fragmented.  This is usually the result of calling `frame.insert` many times, which has poor performance.  Consider joining all columns at once using pd.concat(axis=1) instead.  To get a de-fragmented frame, use `newframe = frame.copy()`\n",
            "  data[k] = com.apply_if_callable(v, data)\n",
            "/usr/local/lib/python3.8/dist-packages/pandas/core/frame.py:4486: PerformanceWarning: DataFrame is highly fragmented.  This is usually the result of calling `frame.insert` many times, which has poor performance.  Consider joining all columns at once using pd.concat(axis=1) instead.  To get a de-fragmented frame, use `newframe = frame.copy()`\n",
            "  data[k] = com.apply_if_callable(v, data)\n",
            "/usr/local/lib/python3.8/dist-packages/pandas/core/frame.py:4486: PerformanceWarning: DataFrame is highly fragmented.  This is usually the result of calling `frame.insert` many times, which has poor performance.  Consider joining all columns at once using pd.concat(axis=1) instead.  To get a de-fragmented frame, use `newframe = frame.copy()`\n",
            "  data[k] = com.apply_if_callable(v, data)\n",
            "/usr/local/lib/python3.8/dist-packages/pandas/core/frame.py:4486: PerformanceWarning: DataFrame is highly fragmented.  This is usually the result of calling `frame.insert` many times, which has poor performance.  Consider joining all columns at once using pd.concat(axis=1) instead.  To get a de-fragmented frame, use `newframe = frame.copy()`\n",
            "  data[k] = com.apply_if_callable(v, data)\n",
            "/usr/local/lib/python3.8/dist-packages/pandas/core/frame.py:4486: PerformanceWarning: DataFrame is highly fragmented.  This is usually the result of calling `frame.insert` many times, which has poor performance.  Consider joining all columns at once using pd.concat(axis=1) instead.  To get a de-fragmented frame, use `newframe = frame.copy()`\n",
            "  data[k] = com.apply_if_callable(v, data)\n",
            "/usr/local/lib/python3.8/dist-packages/pandas/core/frame.py:4486: PerformanceWarning: DataFrame is highly fragmented.  This is usually the result of calling `frame.insert` many times, which has poor performance.  Consider joining all columns at once using pd.concat(axis=1) instead.  To get a de-fragmented frame, use `newframe = frame.copy()`\n",
            "  data[k] = com.apply_if_callable(v, data)\n",
            "/usr/local/lib/python3.8/dist-packages/pandas/core/frame.py:4486: PerformanceWarning: DataFrame is highly fragmented.  This is usually the result of calling `frame.insert` many times, which has poor performance.  Consider joining all columns at once using pd.concat(axis=1) instead.  To get a de-fragmented frame, use `newframe = frame.copy()`\n",
            "  data[k] = com.apply_if_callable(v, data)\n"
          ]
        }
      ],
      "source": [
        "x_vec = train_df_['Parecer Enc OS'].values\n",
        "\n",
        "ctv = CountVectorizer(analyzer='word',token_pattern=r'\\w{1,}',\n",
        "            ngram_range = (1, 3), stop_words = set(stopwords.words('portuguese')))\n",
        "\n",
        "# Fitting Count Vectorizer to both training and test sets (semi-supervised learning)\n",
        "ctv.fit(list(x_vec))\n",
        "x_ctv = ctv.transform(x_vec) \n",
        "\n",
        "# Add the columns from the sparse matrix to the existing DataFrame\n",
        "x_vec_com_tudo = train_df_.assign(**{col: x_ctv[:, i].toarray().ravel() for i, col in enumerate(ctv.get_feature_names_out())})"
      ]
    },
    {
      "cell_type": "code",
      "source": [
        "x_vec_pred = predict_df_['Parecer Enc OS'].values\n",
        "\n",
        "ctv_pred = CountVectorizer(analyzer='word',token_pattern=r'\\w{1,}',\n",
        "            ngram_range = (1, 3), stop_words = set(stopwords.words('portuguese')))\n",
        "\n",
        "# Fitting Count Vectorizer to both training and test sets (semi-supervised learning)\n",
        "ctv_pred.fit(list(x_vec_pred))\n",
        "x_ctv_pred = ctv_pred.transform(x_vec_pred) \n",
        "\n",
        "# Add the columns from the sparse matrix to the existing DataFrame\n",
        "x_vec_com_tudo_pred = (predict_df_.assign(**{col: x_ctv_pred[:, i]\n",
        "                                             .toarray()\n",
        "                                             .ravel() for i, col in enumerate(ctv_pred.get_feature_names())})).copy()"
      ],
      "metadata": {
        "id": "bo3w2NubArq0",
        "colab": {
          "base_uri": "https://localhost:8080/"
        },
        "outputId": "fa3c1b01-dd0a-4087-8105-7f62e70d2c78"
      },
      "execution_count": 537,
      "outputs": [
        {
          "output_type": "stream",
          "name": "stderr",
          "text": [
            "/usr/local/lib/python3.8/dist-packages/sklearn/utils/deprecation.py:87: FutureWarning: Function get_feature_names is deprecated; get_feature_names is deprecated in 1.0 and will be removed in 1.2. Please use get_feature_names_out instead.\n",
            "  warnings.warn(msg, category=FutureWarning)\n"
          ]
        }
      ]
    },
    {
      "cell_type": "code",
      "source": [
        "# Removendo os dados que não se repetem pelo menos duas vezes\n",
        "x_vec_temp = (x_vec_com_tudo_pred.iloc[:,9:]\n",
        "              .loc[:, x_vec_com_tudo_pred.iloc[:,9:]\n",
        "                   .sum() > 1]).copy()\n",
        "\n",
        "x_vec_filtered = pd.concat([x_vec_com_tudo_pred.iloc[:,1:9], x_vec_temp], axis=1).drop(columns= ['Parecer Enc OS', 'Comentários', 'Conclusão']).copy()"
      ],
      "metadata": {
        "id": "dXHA7DXCwLOf"
      },
      "execution_count": 538,
      "outputs": []
    },
    {
      "cell_type": "markdown",
      "source": [
        "### XGBoost"
      ],
      "metadata": {
        "id": "IihF63xGSYRy"
      }
    },
    {
      "cell_type": "code",
      "source": [
        "Y = x_vec_com_tudo.iloc[:, 8]\n",
        "\n",
        "X = x_vec_com_tudo.loc[:, x_vec_com_tudo.columns.intersection(x_vec_filtered.columns)]\n",
        "\n",
        "x = x_vec_com_tudo.loc[:, x_vec_com_tudo.columns.intersection((pd.concat([x_vec_com_tudo_pred.iloc[:,:9], x_vec_temp], axis=1).drop(columns= ['Parecer Enc OS', 'Comentários', 'Conclusão']).copy()).columns)]\n",
        "\n",
        "X_train, X_test, Y_train, Y_test = train_test_split(X, Y, test_size = 0.2, random_state = 5)"
      ],
      "metadata": {
        "id": "na4hdZ-ESWSi"
      },
      "execution_count": 539,
      "outputs": []
    },
    {
      "cell_type": "code",
      "source": [
        "reg = xgb.XGBClassifier()\n",
        "\n",
        "reg.fit(X_train, Y_train,\n",
        "        eval_metric=\"auc\")"
      ],
      "metadata": {
        "id": "tabArHuEWZdT",
        "colab": {
          "base_uri": "https://localhost:8080/"
        },
        "outputId": "18754314-1d39-4557-ac32-f7293584745f"
      },
      "execution_count": 540,
      "outputs": [
        {
          "output_type": "execute_result",
          "data": {
            "text/plain": [
              "XGBClassifier(objective='multi:softprob')"
            ]
          },
          "metadata": {},
          "execution_count": 540
        }
      ]
    },
    {
      "cell_type": "code",
      "source": [
        "#ypred = reg.predict_proba(X_test)\n",
        "\n",
        "#ypred = reg.predict(X_test)\n",
        "\n",
        "print(\"Accuracy do modelo: {:.2%}\".format(accuracy_score(ypred,Y_test)))\n",
        "print('\\n')\n",
        "print('Confusion Matrix:')\n",
        "\n",
        "plot_confusion_matrix(reg, X_test, Y_test)\n",
        "\n",
        "plt.show()"
      ],
      "metadata": {
        "id": "dIgW6VRHmREC",
        "colab": {
          "base_uri": "https://localhost:8080/",
          "height": 403
        },
        "outputId": "efb82446-774d-4d91-e9ab-2870abe66ed2"
      },
      "execution_count": 541,
      "outputs": [
        {
          "output_type": "stream",
          "name": "stdout",
          "text": [
            "Accuracy do modelo: 86.39%\n",
            "\n",
            "\n",
            "Confusion Matrix:\n"
          ]
        },
        {
          "output_type": "stream",
          "name": "stderr",
          "text": [
            "/usr/local/lib/python3.8/dist-packages/sklearn/utils/deprecation.py:87: FutureWarning: Function plot_confusion_matrix is deprecated; Function `plot_confusion_matrix` is deprecated in 1.0 and will be removed in 1.2. Use one of the class methods: ConfusionMatrixDisplay.from_predictions or ConfusionMatrixDisplay.from_estimator.\n",
            "  warnings.warn(msg, category=FutureWarning)\n"
          ]
        },
        {
          "output_type": "display_data",
          "data": {
            "text/plain": [
              "<Figure size 432x288 with 2 Axes>"
            ],
            "image/png": "[encoded data removed]"
          },
          "metadata": {
            "needs_background": "light"
          }
        }
      ]
    },
    {
      "cell_type": "code",
      "source": [
        "unique, counts = np.unique(ypred, return_counts=True)"
      ],
      "metadata": {
        "id": "aQgzg8UXR0yG"
      },
      "execution_count": 542,
      "outputs": []
    },
    {
      "cell_type": "code",
      "source": [
        "X_pred = x_vec_com_tudo_pred.loc[: , x_vec_com_tudo_pred.columns[x_vec_com_tudo_pred.columns.isin(X)]]\n",
        "\n",
        "x_pred = x_vec_com_tudo_pred.loc[: , x_vec_com_tudo_pred.columns[x_vec_com_tudo_pred.columns.isin(x)]]\n",
        "\n",
        "y_pred_x = reg.predict(X_pred)\n",
        "\n",
        "y_pred_x_index = reg.predict(X_pred.sort_index())"
      ],
      "metadata": {
        "id": "cVW2Nbm307cH"
      },
      "execution_count": 543,
      "outputs": []
    },
    {
      "cell_type": "code",
      "source": [
        "previsões = pd.concat([multi.inverse_transform(x_pred).reset_index().drop(columns='index'), \n",
        "                       pd.Series(y_pred_x, name = 'Predição'),\n",
        "                       pd.Series(reg.predict_proba(X_pred)[:,1], name = 'Probabilidade')], axis = 1)"
      ],
      "metadata": {
        "id": "9PPjyEYNGn0R"
      },
      "execution_count": 559,
      "outputs": []
    },
    {
      "cell_type": "code",
      "source": [
        "previsões.sort_values(by='Probabilidade', ascending = False)"
      ],
      "metadata": {
        "colab": {
          "base_uri": "https://localhost:8080/",
          "height": 870
        },
        "id": "iNE8xDAmh2_V",
        "outputId": "ee772aaf-6c1d-47e9-854e-856de0c8b2a0"
      },
      "execution_count": 564,
      "outputs": [
        {
          "output_type": "execute_result",
          "data": {
            "text/plain": [
              "       IMOV_ID          GERENCIA Município             Tipo Serviço OS  \\\n",
              "306  105964760  GNM CENTRO NORTE    OLINDA  SUBSTITUICAO DE HIDROMETRO   \n",
              "74    15788046  GNM CENTRO NORTE    OLINDA  SUBSTITUICAO DE HIDROMETRO   \n",
              "182   15689757  GNM CENTRO NORTE    OLINDA    SUBSTITUICAO COM REMOCAO   \n",
              "329   16085278  GNM CENTRO NORTE    OLINDA  SUBSTITUICAO DE HIDROMETRO   \n",
              "206   15712511  GNM CENTRO NORTE    OLINDA  SUBSTITUICAO DE HIDROMETRO   \n",
              "..         ...               ...       ...                         ...   \n",
              "302   16388521  GNM CENTRO NORTE    OLINDA  SUBSTITUICAO DE HIDROMETRO   \n",
              "318   16033650  GNM CENTRO NORTE    OLINDA  SUBSTITUICAO DE HIDROMETRO   \n",
              "338  103629360  GNM CENTRO NORTE    OLINDA  SUBSTITUICAO DE HIDROMETRO   \n",
              "173   36664339  GNM CENTRO NORTE    OLINDA  SUBSTITUICAO DE HIDROMETRO   \n",
              "303   68387000  GNM CENTRO NORTE    OLINDA    SUBSTITUICAO COM REMOCAO   \n",
              "\n",
              "                             Unid Abert OS       Motivo encer OS  \\\n",
              "306  HIDROMETROPOLITANA DEMANDA DE SERVICO  SERVICO JA EXECUTADO   \n",
              "74   HIDROMETROPOLITANA DEMANDA DE SERVICO  SERVICO JA EXECUTADO   \n",
              "182  HIDROMETROPOLITANA DEMANDA DE SERVICO  SERVICO JA EXECUTADO   \n",
              "329  HIDROMETROPOLITANA DEMANDA DE SERVICO  SERVICO JA EXECUTADO   \n",
              "206  HIDROMETROPOLITANA DEMANDA DE SERVICO  SERVICO JA EXECUTADO   \n",
              "..                                     ...                   ...   \n",
              "302  HIDROMETROPOLITANA DEMANDA DE SERVICO  CLIENTE NAO PERMITIU   \n",
              "318  HIDROMETROPOLITANA DEMANDA DE SERVICO  CLIENTE NAO PERMITIU   \n",
              "338  HIDROMETROPOLITANA DEMANDA DE SERVICO        IMOVEL FECHADO   \n",
              "173  HIDROMETROPOLITANA DEMANDA DE SERVICO        IMOVEL FECHADO   \n",
              "303  HIDROMETROPOLITANA DEMANDA DE SERVICO  CLIENTE NAO PERMITIU   \n",
              "\n",
              "     TEMPO_DESDE_ENCERRAMENTO  01  29092022  3  ...  terreo nao  \\\n",
              "306                        61   0         0  0  ...           0   \n",
              "74                         29   0         0  0  ...           0   \n",
              "182                        65   0         0  0  ...           0   \n",
              "329                        34   0         0  0  ...           0   \n",
              "206                        28   0         0  0  ...           0   \n",
              "..                        ...  ..       ... ..  ...         ...   \n",
              "302                       -31   0         0  0  ...           0   \n",
              "318                       -31   0         0  0  ...           0   \n",
              "338                        14   0         0  0  ...           0   \n",
              "173                        14   0         0  0  ...           0   \n",
              "303                        97   0         0  0  ...           0   \n",
              "\n",
              "     terreo nao permitiu  toda  troca  troca hd  troca pois  vizinhos  \\\n",
              "306                    0     0      0         0           0         0   \n",
              "74                     0     0      1         1           0         0   \n",
              "182                    0     0      0         0           0         0   \n",
              "329                    0     0      0         0           0         0   \n",
              "206                    0     0      0         0           0         0   \n",
              "..                   ...   ...    ...       ...         ...       ...   \n",
              "302                    0     0      0         0           0         0   \n",
              "318                    0     0      1         0           1         0   \n",
              "338                    0     0      0         0           0         0   \n",
              "173                    0     0      0         0           0         0   \n",
              "303                    0     0      0         0           0         0   \n",
              "\n",
              "     vizinhos cliente  Predição  Probabilidade  \n",
              "306                 0       1.0       0.931337  \n",
              "74                  0       1.0       0.928148  \n",
              "182                 0       1.0       0.922400  \n",
              "329                 0       1.0       0.922384  \n",
              "206                 0       1.0       0.904531  \n",
              "..                ...       ...            ...  \n",
              "302                 0       0.0       0.003343  \n",
              "318                 0       0.0       0.002969  \n",
              "338                 0       2.0       0.002440  \n",
              "173                 0       2.0       0.002440  \n",
              "303                 0       0.0       0.001795  \n",
              "\n",
              "[353 rows x 220 columns]"
            ],
            "text/html": [
              "\n",
              "  <div id=\"df-ae4d5c99-758d-4b52-89a8-c48db22f86be\">\n",
              "    <div class=\"colab-df-container\">\n",
              "      <div>\n",
              "<style scoped>\n",
              "    .dataframe tbody tr th:only-of-type {\n",
              "        vertical-align: middle;\n",
              "    }\n",
              "\n",
              "    .dataframe tbody tr th {\n",
              "        vertical-align: top;\n",
              "    }\n",
              "\n",
              "    .dataframe thead th {\n",
              "        text-align: right;\n",
              "    }\n",
              "</style>\n",
              "<table border=\"1\" class=\"dataframe\">\n",
              "  <thead>\n",
              "    <tr style=\"text-align: right;\">\n",
              "      <th></th>\n",
              "      <th>IMOV_ID</th>\n",
              "      <th>GERENCIA</th>\n",
              "      <th>Município</th>\n",
              "      <th>Tipo Serviço OS</th>\n",
              "      <th>Unid Abert OS</th>\n",
              "      <th>Motivo encer OS</th>\n",
              "      <th>TEMPO_DESDE_ENCERRAMENTO</th>\n",
              "      <th>01</th>\n",
              "      <th>29092022</th>\n",
              "      <th>3</th>\n",
              "      <th>...</th>\n",
              "      <th>terreo nao</th>\n",
              "      <th>terreo nao permitiu</th>\n",
              "      <th>toda</th>\n",
              "      <th>troca</th>\n",
              "      <th>troca hd</th>\n",
              "      <th>troca pois</th>\n",
              "      <th>vizinhos</th>\n",
              "      <th>vizinhos cliente</th>\n",
              "      <th>Predição</th>\n",
              "      <th>Probabilidade</th>\n",
              "    </tr>\n",
              "  </thead>\n",
              "  <tbody>\n",
              "    <tr>\n",
              "      <th>306</th>\n",
              "      <td>105964760</td>\n",
              "      <td>GNM CENTRO NORTE</td>\n",
              "      <td>OLINDA</td>\n",
              "      <td>SUBSTITUICAO DE HIDROMETRO</td>\n",
              "      <td>HIDROMETROPOLITANA DEMANDA DE SERVICO</td>\n",
              "      <td>SERVICO JA EXECUTADO</td>\n",
              "      <td>61</td>\n",
              "      <td>0</td>\n",
              "      <td>0</td>\n",
              "      <td>0</td>\n",
              "      <td>...</td>\n",
              "      <td>0</td>\n",
              "      <td>0</td>\n",
              "      <td>0</td>\n",
              "      <td>0</td>\n",
              "      <td>0</td>\n",
              "      <td>0</td>\n",
              "      <td>0</td>\n",
              "      <td>0</td>\n",
              "      <td>1.0</td>\n",
              "      <td>0.931337</td>\n",
              "    </tr>\n",
              "    <tr>\n",
              "      <th>74</th>\n",
              "      <td>15788046</td>\n",
              "      <td>GNM CENTRO NORTE</td>\n",
              "      <td>OLINDA</td>\n",
              "      <td>SUBSTITUICAO DE HIDROMETRO</td>\n",
              "      <td>HIDROMETROPOLITANA DEMANDA DE SERVICO</td>\n",
              "      <td>SERVICO JA EXECUTADO</td>\n",
              "      <td>29</td>\n",
              "      <td>0</td>\n",
              "      <td>0</td>\n",
              "      <td>0</td>\n",
              "      <td>...</td>\n",
              "      <td>0</td>\n",
              "      <td>0</td>\n",
              "      <td>0</td>\n",
              "      <td>1</td>\n",
              "      <td>1</td>\n",
              "      <td>0</td>\n",
              "      <td>0</td>\n",
              "      <td>0</td>\n",
              "      <td>1.0</td>\n",
              "      <td>0.928148</td>\n",
              "    </tr>\n",
              "    <tr>\n",
              "      <th>182</th>\n",
              "      <td>15689757</td>\n",
              "      <td>GNM CENTRO NORTE</td>\n",
              "      <td>OLINDA</td>\n",
              "      <td>SUBSTITUICAO COM REMOCAO</td>\n",
              "      <td>HIDROMETROPOLITANA DEMANDA DE SERVICO</td>\n",
              "      <td>SERVICO JA EXECUTADO</td>\n",
              "      <td>65</td>\n",
              "      <td>0</td>\n",
              "      <td>0</td>\n",
              "      <td>0</td>\n",
              "      <td>...</td>\n",
              "      <td>0</td>\n",
              "      <td>0</td>\n",
              "      <td>0</td>\n",
              "      <td>0</td>\n",
              "      <td>0</td>\n",
              "      <td>0</td>\n",
              "      <td>0</td>\n",
              "      <td>0</td>\n",
              "      <td>1.0</td>\n",
              "      <td>0.922400</td>\n",
              "    </tr>\n",
              "    <tr>\n",
              "      <th>329</th>\n",
              "      <td>16085278</td>\n",
              "      <td>GNM CENTRO NORTE</td>\n",
              "      <td>OLINDA</td>\n",
              "      <td>SUBSTITUICAO DE HIDROMETRO</td>\n",
              "      <td>HIDROMETROPOLITANA DEMANDA DE SERVICO</td>\n",
              "      <td>SERVICO JA EXECUTADO</td>\n",
              "      <td>34</td>\n",
              "      <td>0</td>\n",
              "      <td>0</td>\n",
              "      <td>0</td>\n",
              "      <td>...</td>\n",
              "      <td>0</td>\n",
              "      <td>0</td>\n",
              "      <td>0</td>\n",
              "      <td>0</td>\n",
              "      <td>0</td>\n",
              "      <td>0</td>\n",
              "      <td>0</td>\n",
              "      <td>0</td>\n",
              "      <td>1.0</td>\n",
              "      <td>0.922384</td>\n",
              "    </tr>\n",
              "    <tr>\n",
              "      <th>206</th>\n",
              "      <td>15712511</td>\n",
              "      <td>GNM CENTRO NORTE</td>\n",
              "      <td>OLINDA</td>\n",
              "      <td>SUBSTITUICAO DE HIDROMETRO</td>\n",
              "      <td>HIDROMETROPOLITANA DEMANDA DE SERVICO</td>\n",
              "      <td>SERVICO JA EXECUTADO</td>\n",
              "      <td>28</td>\n",
              "      <td>0</td>\n",
              "      <td>0</td>\n",
              "      <td>0</td>\n",
              "      <td>...</td>\n",
              "      <td>0</td>\n",
              "      <td>0</td>\n",
              "      <td>0</td>\n",
              "      <td>0</td>\n",
              "      <td>0</td>\n",
              "      <td>0</td>\n",
              "      <td>0</td>\n",
              "      <td>0</td>\n",
              "      <td>1.0</td>\n",
              "      <td>0.904531</td>\n",
              "    </tr>\n",
              "    <tr>\n",
              "      <th>...</th>\n",
              "      <td>...</td>\n",
              "      <td>...</td>\n",
              "      <td>...</td>\n",
              "      <td>...</td>\n",
              "      <td>...</td>\n",
              "      <td>...</td>\n",
              "      <td>...</td>\n",
              "      <td>...</td>\n",
              "      <td>...</td>\n",
              "      <td>...</td>\n",
              "      <td>...</td>\n",
              "      <td>...</td>\n",
              "      <td>...</td>\n",
              "      <td>...</td>\n",
              "      <td>...</td>\n",
              "      <td>...</td>\n",
              "      <td>...</td>\n",
              "      <td>...</td>\n",
              "      <td>...</td>\n",
              "      <td>...</td>\n",
              "      <td>...</td>\n",
              "    </tr>\n",
              "    <tr>\n",
              "      <th>302</th>\n",
              "      <td>16388521</td>\n",
              "      <td>GNM CENTRO NORTE</td>\n",
              "      <td>OLINDA</td>\n",
              "      <td>SUBSTITUICAO DE HIDROMETRO</td>\n",
              "      <td>HIDROMETROPOLITANA DEMANDA DE SERVICO</td>\n",
              "      <td>CLIENTE NAO PERMITIU</td>\n",
              "      <td>-31</td>\n",
              "      <td>0</td>\n",
              "      <td>0</td>\n",
              "      <td>0</td>\n",
              "      <td>...</td>\n",
              "      <td>0</td>\n",
              "      <td>0</td>\n",
              "      <td>0</td>\n",
              "      <td>0</td>\n",
              "      <td>0</td>\n",
              "      <td>0</td>\n",
              "      <td>0</td>\n",
              "      <td>0</td>\n",
              "      <td>0.0</td>\n",
              "      <td>0.003343</td>\n",
              "    </tr>\n",
              "    <tr>\n",
              "      <th>318</th>\n",
              "      <td>16033650</td>\n",
              "      <td>GNM CENTRO NORTE</td>\n",
              "      <td>OLINDA</td>\n",
              "      <td>SUBSTITUICAO DE HIDROMETRO</td>\n",
              "      <td>HIDROMETROPOLITANA DEMANDA DE SERVICO</td>\n",
              "      <td>CLIENTE NAO PERMITIU</td>\n",
              "      <td>-31</td>\n",
              "      <td>0</td>\n",
              "      <td>0</td>\n",
              "      <td>0</td>\n",
              "      <td>...</td>\n",
              "      <td>0</td>\n",
              "      <td>0</td>\n",
              "      <td>0</td>\n",
              "      <td>1</td>\n",
              "      <td>0</td>\n",
              "      <td>1</td>\n",
              "      <td>0</td>\n",
              "      <td>0</td>\n",
              "      <td>0.0</td>\n",
              "      <td>0.002969</td>\n",
              "    </tr>\n",
              "    <tr>\n",
              "      <th>338</th>\n",
              "      <td>103629360</td>\n",
              "      <td>GNM CENTRO NORTE</td>\n",
              "      <td>OLINDA</td>\n",
              "      <td>SUBSTITUICAO DE HIDROMETRO</td>\n",
              "      <td>HIDROMETROPOLITANA DEMANDA DE SERVICO</td>\n",
              "      <td>IMOVEL FECHADO</td>\n",
              "      <td>14</td>\n",
              "      <td>0</td>\n",
              "      <td>0</td>\n",
              "      <td>0</td>\n",
              "      <td>...</td>\n",
              "      <td>0</td>\n",
              "      <td>0</td>\n",
              "      <td>0</td>\n",
              "      <td>0</td>\n",
              "      <td>0</td>\n",
              "      <td>0</td>\n",
              "      <td>0</td>\n",
              "      <td>0</td>\n",
              "      <td>2.0</td>\n",
              "      <td>0.002440</td>\n",
              "    </tr>\n",
              "    <tr>\n",
              "      <th>173</th>\n",
              "      <td>36664339</td>\n",
              "      <td>GNM CENTRO NORTE</td>\n",
              "      <td>OLINDA</td>\n",
              "      <td>SUBSTITUICAO DE HIDROMETRO</td>\n",
              "      <td>HIDROMETROPOLITANA DEMANDA DE SERVICO</td>\n",
              "      <td>IMOVEL FECHADO</td>\n",
              "      <td>14</td>\n",
              "      <td>0</td>\n",
              "      <td>0</td>\n",
              "      <td>0</td>\n",
              "      <td>...</td>\n",
              "      <td>0</td>\n",
              "      <td>0</td>\n",
              "      <td>0</td>\n",
              "      <td>0</td>\n",
              "      <td>0</td>\n",
              "      <td>0</td>\n",
              "      <td>0</td>\n",
              "      <td>0</td>\n",
              "      <td>2.0</td>\n",
              "      <td>0.002440</td>\n",
              "    </tr>\n",
              "    <tr>\n",
              "      <th>303</th>\n",
              "      <td>68387000</td>\n",
              "      <td>GNM CENTRO NORTE</td>\n",
              "      <td>OLINDA</td>\n",
              "      <td>SUBSTITUICAO COM REMOCAO</td>\n",
              "      <td>HIDROMETROPOLITANA DEMANDA DE SERVICO</td>\n",
              "      <td>CLIENTE NAO PERMITIU</td>\n",
              "      <td>97</td>\n",
              "      <td>0</td>\n",
              "      <td>0</td>\n",
              "      <td>0</td>\n",
              "      <td>...</td>\n",
              "      <td>0</td>\n",
              "      <td>0</td>\n",
              "      <td>0</td>\n",
              "      <td>0</td>\n",
              "      <td>0</td>\n",
              "      <td>0</td>\n",
              "      <td>0</td>\n",
              "      <td>0</td>\n",
              "      <td>0.0</td>\n",
              "      <td>0.001795</td>\n",
              "    </tr>\n",
              "  </tbody>\n",
              "</table>\n",
              "<p>353 rows × 220 columns</p>\n",
              "</div>\n",
              "      <button class=\"colab-df-convert\" onclick=\"convertToInteractive('df-ae4d5c99-758d-4b52-89a8-c48db22f86be')\"\n",
              "              title=\"Convert this dataframe to an interactive table.\"\n",
              "              style=\"display:none;\">\n",
              "        \n",
              "  <svg xmlns=\"http://www.w3.org/2000/svg\" height=\"24px\"viewBox=\"0 0 24 24\"\n",
              "       width=\"24px\">\n",
              "    <path d=\"M0 0h24v24H0V0z\" fill=\"none\"/>\n",
              "    <path d=\"M18.56 5.44l.94 2.06.94-2.06 2.06-.94-2.06-.94-.94-2.06-.94 2.06-2.06.94zm-11 1L8.5 8.5l.94-2.06 2.06-.94-2.06-.94L8.5 2.5l-.94 2.06-2.06.94zm10 10l.94 2.06.94-2.06 2.06-.94-2.06-.94-.94-2.06-.94 2.06-2.06.94z\"/><path d=\"M17.41 7.96l-1.37-1.37c-.4-.4-.92-.59-1.43-.59-.52 0-1.04.2-1.43.59L10.3 9.45l-7.72 7.72c-.78.78-.78 2.05 0 2.83L4 21.41c.39.39.9.59 1.41.59.51 0 1.02-.2 1.41-.59l7.78-7.78 2.81-2.81c.8-.78.8-2.07 0-2.86zM5.41 20L4 18.59l7.72-7.72 1.47 1.35L5.41 20z\"/>\n",
              "  </svg>\n",
              "      </button>\n",
              "      \n",
              "  <style>\n",
              "    .colab-df-container {\n",
              "      display:flex;\n",
              "      flex-wrap:wrap;\n",
              "      gap: 12px;\n",
              "    }\n",
              "\n",
              "    .colab-df-convert {\n",
              "      background-color: #E8F0FE;\n",
              "      border: none;\n",
              "      border-radius: 50%;\n",
              "      cursor: pointer;\n",
              "      display: none;\n",
              "      fill: #1967D2;\n",
              "      height: 32px;\n",
              "      padding: 0 0 0 0;\n",
              "      width: 32px;\n",
              "    }\n",
              "\n",
              "    .colab-df-convert:hover {\n",
              "      background-color: #E2EBFA;\n",
              "      box-shadow: 0px 1px 2px rgba(60, 64, 67, 0.3), 0px 1px 3px 1px rgba(60, 64, 67, 0.15);\n",
              "      fill: #174EA6;\n",
              "    }\n",
              "\n",
              "    [theme=dark] .colab-df-convert {\n",
              "      background-color: #3B4455;\n",
              "      fill: #D2E3FC;\n",
              "    }\n",
              "\n",
              "    [theme=dark] .colab-df-convert:hover {\n",
              "      background-color: #434B5C;\n",
              "      box-shadow: 0px 1px 3px 1px rgba(0, 0, 0, 0.15);\n",
              "      filter: drop-shadow(0px 1px 2px rgba(0, 0, 0, 0.3));\n",
              "      fill: #FFFFFF;\n",
              "    }\n",
              "  </style>\n",
              "\n",
              "      <script>\n",
              "        const buttonEl =\n",
              "          document.querySelector('#df-ae4d5c99-758d-4b52-89a8-c48db22f86be button.colab-df-convert');\n",
              "        buttonEl.style.display =\n",
              "          google.colab.kernel.accessAllowed ? 'block' : 'none';\n",
              "\n",
              "        async function convertToInteractive(key) {\n",
              "          const element = document.querySelector('#df-ae4d5c99-758d-4b52-89a8-c48db22f86be');\n",
              "          const dataTable =\n",
              "            await google.colab.kernel.invokeFunction('convertToInteractive',\n",
              "                                                     [key], {});\n",
              "          if (!dataTable) return;\n",
              "\n",
              "          const docLinkHtml = 'Like what you see? Visit the ' +\n",
              "            '<a target=\"_blank\" href=https://colab.research.google.com/notebooks/data_table.ipynb>data table notebook</a>'\n",
              "            + ' to learn more about interactive tables.';\n",
              "          element.innerHTML = '';\n",
              "          dataTable['output_type'] = 'display_data';\n",
              "          await google.colab.output.renderOutput(dataTable, element);\n",
              "          const docLink = document.createElement('div');\n",
              "          docLink.innerHTML = docLinkHtml;\n",
              "          element.appendChild(docLink);\n",
              "        }\n",
              "      </script>\n",
              "    </div>\n",
              "  </div>\n",
              "  "
            ]
          },
          "metadata": {},
          "execution_count": 564
        }
      ]
    },
    {
      "cell_type": "code",
      "source": [
        "previsões.to_excel('GNM_CENTRO_NORTE_Previsões.xlsx')"
      ],
      "metadata": {
        "id": "o7vkVrLxy2H0"
      },
      "execution_count": 545,
      "outputs": []
    },
    {
      "cell_type": "markdown",
      "source": [
        "### Top 20 Features importances"
      ],
      "metadata": {
        "id": "ZtaT6Oa4Io1r"
      }
    },
    {
      "cell_type": "code",
      "source": [
        "'''dici = dict(zip(X.columns, reg.feature_importances_))\n",
        "\n",
        "dici = dict(sorted(dici.items(), key=lambda item: item[1], reverse=True))\n",
        "\n",
        "features = list(dici.keys())\n",
        "\n",
        "fig, axes = plt.subplots(figsize = (8, 5))\n",
        "\n",
        "plt.title('Feature Importance', fontsize = 15)\n",
        "\n",
        "importances = reg.feature_importances_\n",
        "indices = np.argsort(importances)[::-1]\n",
        "\n",
        "plt.bar(range(20), importances[indices[:20]])\n",
        "plt.xticks(range(20), features, rotation = 90)\n",
        "plt.show()'''"
      ],
      "metadata": {
        "id": "27d0emJ0ytt-",
        "colab": {
          "base_uri": "https://localhost:8080/",
          "height": 70
        },
        "outputId": "c3d55c37-834a-40c5-c48e-bb822f1f71ce"
      },
      "execution_count": 546,
      "outputs": [
        {
          "output_type": "execute_result",
          "data": {
            "text/plain": [
              "\"dici = dict(zip(X.columns, reg.feature_importances_))\\n\\ndici = dict(sorted(dici.items(), key=lambda item: item[1], reverse=True))\\n\\nfeatures = list(dici.keys())\\n\\nfig, axes = plt.subplots(figsize = (8, 5))\\n\\nplt.title('Feature Importance', fontsize = 15)\\n\\nimportances = reg.feature_importances_\\nindices = np.argsort(importances)[::-1]\\n\\nplt.bar(range(20), importances[indices[:20]])\\nplt.xticks(range(20), features, rotation = 90)\\nplt.show()\""
            ],
            "application/vnd.google.colaboratory.intrinsic+json": {
              "type": "string"
            }
          },
          "metadata": {},
          "execution_count": 546
        }
      ]
    },
    {
      "cell_type": "markdown",
      "source": [
        "### Learning Curve"
      ],
      "metadata": {
        "id": "bJq4eB0SH6jJ"
      }
    },
    {
      "cell_type": "code",
      "source": [
        "'''train_sizes, train_scores, test_scores = learning_curve(reg, X, Y, cv=5)\n",
        "\n",
        "# calculate the mean and standard deviation of the scores\n",
        "train_scores_mean = np.mean(train_scores, axis=1)\n",
        "train_scores_std = np.std(train_scores, axis=1)\n",
        "test_scores_mean = np.mean(test_scores, axis=1)\n",
        "test_scores_std = np.std(test_scores, axis=1)\n",
        "\n",
        "# plot the learning curve\n",
        "plt.fill_between(train_sizes, train_scores_mean - train_scores_std, train_scores_mean + train_scores_std, color=\"r\", alpha=0.1)\n",
        "plt.fill_between(train_sizes, test_scores_mean - test_scores_std, test_scores_mean + test_scores_std, color=\"g\", alpha=0.1)\n",
        "plt.plot(train_sizes, train_scores_mean, 'o-', color=\"r\", label=\"Training Score\")\n",
        "plt.plot(train_sizes, test_scores_mean, 'o-', color=\"g\", label=\"Cross-Validation Score\")\n",
        "\n",
        "plt.xlabel(\"Training Examples\")\n",
        "plt.ylabel(\"Score\")\n",
        "plt.legend(loc=\"best\")\n",
        "plt.show()'''"
      ],
      "metadata": {
        "id": "w8zm0hx_FY59",
        "colab": {
          "base_uri": "https://localhost:8080/",
          "height": 105
        },
        "outputId": "f0ffd135-0b03-4385-f83b-c7b9cdc6e671"
      },
      "execution_count": 547,
      "outputs": [
        {
          "output_type": "execute_result",
          "data": {
            "text/plain": [
              "'train_sizes, train_scores, test_scores = learning_curve(reg, X, Y, cv=5)\\n\\n# calculate the mean and standard deviation of the scores\\ntrain_scores_mean = np.mean(train_scores, axis=1)\\ntrain_scores_std = np.std(train_scores, axis=1)\\ntest_scores_mean = np.mean(test_scores, axis=1)\\ntest_scores_std = np.std(test_scores, axis=1)\\n\\n# plot the learning curve\\nplt.fill_between(train_sizes, train_scores_mean - train_scores_std, train_scores_mean + train_scores_std, color=\"r\", alpha=0.1)\\nplt.fill_between(train_sizes, test_scores_mean - test_scores_std, test_scores_mean + test_scores_std, color=\"g\", alpha=0.1)\\nplt.plot(train_sizes, train_scores_mean, \\'o-\\', color=\"r\", label=\"Training Score\")\\nplt.plot(train_sizes, test_scores_mean, \\'o-\\', color=\"g\", label=\"Cross-Validation Score\")\\n\\nplt.xlabel(\"Training Examples\")\\nplt.ylabel(\"Score\")\\nplt.legend(loc=\"best\")\\nplt.show()'"
            ],
            "application/vnd.google.colaboratory.intrinsic+json": {
              "type": "string"
            }
          },
          "metadata": {},
          "execution_count": 547
        }
      ]
    }
  ],
  "metadata": {
    "colab": {
      "provenance": [],
      "include_colab_link": true
    },
    "kernelspec": {
      "display_name": "Python 3",
      "name": "python3"
    },
    "language_info": {
      "name": "python"
    }
  },
  "nbformat": 4,
  "nbformat_minor": 0
}