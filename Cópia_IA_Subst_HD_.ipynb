{
  "cells": [
    {
      "cell_type": "markdown",
      "metadata": {
        "id": "view-in-github",
        "colab_type": "text"
      },
      "source": [
        "<a href=\"https://colab.research.google.com/github/Kathyllen/Compesa/blob/Subst_HD/C%C3%B3pia_IA_Subst_HD_.ipynb\" target=\"_parent\"><img src=\"https://colab.research.google.com/assets/colab-badge.svg\" alt=\"Open In Colab\"/></a>"
      ]
    },
    {
      "cell_type": "markdown",
      "metadata": {
        "id": "5aG7N-lXDVEb"
      },
      "source": [
        "### Importações"
      ]
    },
    {
      "cell_type": "code",
      "source": [
        "from google.colab import drive\n",
        "drive.mount('/content/drive')"
      ],
      "metadata": {
        "id": "3Q3k11HNc7vS",
        "colab": {
          "base_uri": "https://localhost:8080/"
        },
        "outputId": "a16576aa-2a9c-4d8b-f2bc-c5303f745e4b"
      },
      "execution_count": 2,
      "outputs": [
        {
          "output_type": "stream",
          "name": "stdout",
          "text": [
            "Drive already mounted at /content/drive; to attempt to forcibly remount, call drive.mount(\"/content/drive\", force_remount=True).\n"
          ]
        }
      ]
    },
    {
      "cell_type": "code",
      "execution_count": 3,
      "metadata": {
        "id": "eoPXJBzH533k"
      },
      "outputs": [],
      "source": [
        "import numpy  as np\n",
        "import pandas as pd\n",
        "import matplotlib.pyplot as plt\n",
        "import seaborn as sns\n",
        "from keras import callbacks\n",
        "import lightgbm as lgb\n",
        "from keras.models import Sequential\n",
        "from keras.layers import Dense, Dropout\n",
        "from sklearn.linear_model import LogisticRegression\n",
        "from sklearn.ensemble import AdaBoostClassifier\n",
        "import xgboost as xgb\n",
        "from sklearn.model_selection import train_test_split\n",
        "from sklearn.model_selection import learning_curve\n",
        "import warnings\n",
        "from sklearn.ensemble import RandomForestClassifier\n",
        "from sklearn.metrics import accuracy_score\n",
        "from sklearn.preprocessing import LabelEncoder\n",
        "def ignore_warn(*args, **kwargs):\n",
        "    pass\n",
        "warnings.warn = ignore_warn\n",
        "from scipy import stats\n",
        "import datetime as dt\n",
        "import pickle\n",
        "from datetime import date\n",
        "from sklearn.ensemble import VotingClassifier\n",
        "from sklearn.metrics import ConfusionMatrixDisplay\n",
        "from sklearn.preprocessing import OneHotEncoder\n",
        "from sklearn.compose import make_column_transformer\n",
        "from sklearn.model_selection import GridSearchCV\n",
        "from sklearn.metrics import confusion_matrix , accuracy_score\n",
        "pd.set_option('display.max_columns', None)"
      ]
    },
    {
      "cell_type": "code",
      "execution_count": 16,
      "metadata": {
        "id": "PavyXmbt73bu"
      },
      "outputs": [],
      "source": [
        "path_predict = r'/content/20230414_GNR_Centrall.csv'\n",
        "path_train = r'/content/20230410_train.csv'\n",
        "\n",
        "predict_df = pd.read_csv(path_predict)\n",
        "train_df = pd.read_csv(path_train, encoding='ISO-8859-1')"
      ]
    },
    {
      "cell_type": "code",
      "execution_count": 17,
      "metadata": {
        "id": "x3clN2t88CeB",
        "colab": {
          "base_uri": "https://localhost:8080/"
        },
        "outputId": "b81d60ff-2ee2-4cf4-b3d7-39dc2585ecde"
      },
      "outputs": [
        {
          "output_type": "stream",
          "name": "stdout",
          "text": [
            "<class 'pandas.core.frame.DataFrame'>\n",
            "RangeIndex: 23354 entries, 0 to 23353\n",
            "Data columns (total 46 columns):\n",
            " #   Column                        Non-Null Count  Dtype  \n",
            "---  ------                        --------------  -----  \n",
            " 0   IMOV_ID                       23354 non-null  int64  \n",
            " 1   LOCA_ID                       23354 non-null  int64  \n",
            " 2   STCM_CDSETORCOMERCIAL         23354 non-null  int64  \n",
            " 3   IPER_ID                       23354 non-null  int64  \n",
            " 4   IMOV_IDSUBCATEGORIAPRINCIPAL  23354 non-null  int64  \n",
            " 5   IDADE                         23354 non-null  int64  \n",
            " 6   DATA_INSTALACAO_HD            23354 non-null  object \n",
            " 7   IMOV_NNMORADOR                20936 non-null  float64\n",
            " 8   QTDECONOMIARESIDENCIAL        23354 non-null  int64  \n",
            " 9   QTDECONOMIACOMERCIAL          23354 non-null  int64  \n",
            " 10  QTDECONOMIAINDUSTRIAL         23354 non-null  int64  \n",
            " 11  QTDECONOMIAPUBLICO            23354 non-null  int64  \n",
            " 12  QTDANORMALIDADEANTTOTAL       23354 non-null  int64  \n",
            " 13  QTDANORMALIDADELEITURA_ANT    23354 non-null  int64  \n",
            " 14  QUANTIDADECONTAS              23354 non-null  int64  \n",
            " 15  QUANTIDADERAS                 23354 non-null  int64  \n",
            " 16  POCO_ID                       11775 non-null  float64\n",
            " 17  N_CORTES                      5206 non-null   float64\n",
            " 18  TIPO_HD                       23354 non-null  int64  \n",
            " 19  CAPACIDADE_HD                 23354 non-null  int64  \n",
            " 20  CONS_MED_ANT_M1               21991 non-null  float64\n",
            " 21  CONS_MED_ANT_M2               20909 non-null  float64\n",
            " 22  CONS_MED_ANT_M3               22104 non-null  float64\n",
            " 23  CONS_MED_ANT_M4               22413 non-null  float64\n",
            " 24  CONS_MED_ANT_M5               22136 non-null  float64\n",
            " 25  CONS_MED_ANT_M6               21280 non-null  float64\n",
            " 26  CONS_MED_ANT_M7               20488 non-null  float64\n",
            " 27  CONS_MED_ANT_M8               21254 non-null  float64\n",
            " 28  CONS_MED_ANT_M9               20688 non-null  float64\n",
            " 29  CONS_MED_ANT_M10              19444 non-null  float64\n",
            " 30  CONS_MED_ANT_M11              18794 non-null  float64\n",
            " 31  CONS_MED_ANT_M12              19235 non-null  float64\n",
            " 32  CONS_MED_ANT_M13              18485 non-null  float64\n",
            " 33  CONS_MED_ANT_M14              18913 non-null  float64\n",
            " 34  CONS_MED_ANT_M15              20946 non-null  float64\n",
            " 35  CONS_MED_ANT_M16              20970 non-null  float64\n",
            " 36  CONS_MED_ANT_M17              20712 non-null  float64\n",
            " 37  CONS_MED_ANT_M18              20299 non-null  float64\n",
            " 38  CONS_MED_ANT_M19              20738 non-null  float64\n",
            " 39  CONS_MED_ANT_M20              20591 non-null  float64\n",
            " 40  CONS_MED_ANT_M21              20412 non-null  float64\n",
            " 41  CONS_MED_ANT_M22              19804 non-null  float64\n",
            " 42  CONS_MED_ANT_M23              19462 non-null  float64\n",
            " 43  CONS_MED_ANT_M24              19450 non-null  float64\n",
            " 44  MAX_CONSUMO                   23319 non-null  float64\n",
            " 45  SOMATORIO_CONSUMO             23319 non-null  float64\n",
            "dtypes: float64(29), int64(16), object(1)\n",
            "memory usage: 8.2+ MB\n"
          ]
        }
      ],
      "source": [
        "predict_df.info()"
      ]
    },
    {
      "cell_type": "code",
      "execution_count": 18,
      "metadata": {
        "id": "3BC09J0T8vKT",
        "colab": {
          "base_uri": "https://localhost:8080/"
        },
        "outputId": "94ad1694-f70b-4871-fd07-22bb29f79afc"
      },
      "outputs": [
        {
          "output_type": "stream",
          "name": "stdout",
          "text": [
            "<class 'pandas.core.frame.DataFrame'>\n",
            "RangeIndex: 116586 entries, 0 to 116585\n",
            "Data columns (total 65 columns):\n",
            " #   Column                        Non-Null Count   Dtype  \n",
            "---  ------                        --------------   -----  \n",
            " 0   IMOV_ID                       116586 non-null  int64  \n",
            " 1   LOCA_ID                       116586 non-null  int64  \n",
            " 2   STCM_CDSETORCOMERCIAL         116586 non-null  int64  \n",
            " 3   IPER_ID                       116586 non-null  int64  \n",
            " 4   IMOV_IDSUBCATEGORIAPRINCIPAL  116586 non-null  int64  \n",
            " 5   IDADE                         116586 non-null  int64  \n",
            " 6   DATA_INSTALACAO_HD            116586 non-null  object \n",
            " 7   DATA_INSTALACAO_HD_NOVO       116586 non-null  object \n",
            " 8   IMOV_NNMORADOR                111996 non-null  float64\n",
            " 9   QTDECONOMIARESIDENCIAL        116586 non-null  int64  \n",
            " 10  QTDECONOMIACOMERCIAL          116586 non-null  int64  \n",
            " 11  QTDECONOMIAINDUSTRIAL         116586 non-null  int64  \n",
            " 12  QTDECONOMIAPUBLICO            116586 non-null  int64  \n",
            " 13  QTDANORMALIDADEPOS            116586 non-null  int64  \n",
            " 14  QTDANORMALIDADEANTTOTAL       116586 non-null  int64  \n",
            " 15  QTDANORMALIDADELEITURA_ANT    116586 non-null  int64  \n",
            " 16  QUANTIDADECONTAS              116586 non-null  int64  \n",
            " 17  QUANTIDADERAS                 116586 non-null  int64  \n",
            " 18  QTD_ANORM_HD_QUEBRADO         116586 non-null  int64  \n",
            " 19  QTD_ANORM_HD_RETIRADO         116586 non-null  int64  \n",
            " 20  QTD_ANORM_HD_EMBAÇADO         116586 non-null  int64  \n",
            " 21  QTD_ANORM_HD_INVERTIDO        116586 non-null  int64  \n",
            " 22  QTD_ANORM_HD_SOTERRADO        116586 non-null  int64  \n",
            " 23  POCO_ID                       32592 non-null   float64\n",
            " 24  N_CORTES                      35472 non-null   float64\n",
            " 25  TIPO_HD                       116586 non-null  int64  \n",
            " 26  CAPACIDADE_HD                 116586 non-null  int64  \n",
            " 27  CONS_MED_ANT_M1               80908 non-null   float64\n",
            " 28  CONS_MED_ANT_M2               78542 non-null   float64\n",
            " 29  CONS_MED_ANT_M3               79438 non-null   float64\n",
            " 30  CONS_MED_ANT_M4               80559 non-null   float64\n",
            " 31  CONS_MED_ANT_M5               81146 non-null   float64\n",
            " 32  CONS_MED_ANT_M6               81627 non-null   float64\n",
            " 33  CONS_MED_ANT_M7               81843 non-null   float64\n",
            " 34  CONS_MED_ANT_M8               81892 non-null   float64\n",
            " 35  CONS_MED_ANT_M9               81935 non-null   float64\n",
            " 36  CONS_MED_ANT_M10              82140 non-null   float64\n",
            " 37  CONS_MED_ANT_M11              82133 non-null   float64\n",
            " 38  CONS_MED_ANT_M12              82132 non-null   float64\n",
            " 39  CONS_MED_ANT_M13              82438 non-null   float64\n",
            " 40  CONS_MED_ANT_M14              82484 non-null   float64\n",
            " 41  CONS_MED_ANT_M15              82247 non-null   float64\n",
            " 42  CONS_MED_ANT_M16              81780 non-null   float64\n",
            " 43  CONS_MED_ANT_M17              81206 non-null   float64\n",
            " 44  CONS_MED_ANT_M18              80820 non-null   float64\n",
            " 45  CONS_MED_ANT_M19              80769 non-null   float64\n",
            " 46  CONS_MED_ANT_M20              80251 non-null   float64\n",
            " 47  CONS_MED_ANT_M21              79643 non-null   float64\n",
            " 48  CONS_MED_ANT_M22              79508 non-null   float64\n",
            " 49  CONS_MED_ANT_M23              79678 non-null   float64\n",
            " 50  CONS_MED_ANT_M24              80248 non-null   float64\n",
            " 51  CONSUMO_MED_POS_M1            110659 non-null  float64\n",
            " 52  CONSUMO_MED_POS_M2            111071 non-null  float64\n",
            " 53  CONSUMO_MED_POS_M3            110503 non-null  float64\n",
            " 54  CONSUMO_MED_POS_M4            110603 non-null  float64\n",
            " 55  CONSUMO_MED_POS_M5            110245 non-null  float64\n",
            " 56  CONSUMO_MED_POS_M6            108690 non-null  float64\n",
            " 57  CONSUMO_MED_POS_M7            108394 non-null  float64\n",
            " 58  CONSUMO_MED_POS_M8            108652 non-null  float64\n",
            " 59  CONSUMO_MED_POS_M9            108792 non-null  float64\n",
            " 60  CONSUMO_MED_POS_M10           108281 non-null  float64\n",
            " 61  CONSUMO_MED_POS_M11           108270 non-null  float64\n",
            " 62  CONSUMO_MED_POS_M12           107798 non-null  float64\n",
            " 63  MAX_CONSUMO                   115285 non-null  float64\n",
            " 64  SOMATORIO_CONSUMO             115285 non-null  float64\n",
            "dtypes: float64(41), int64(22), object(2)\n",
            "memory usage: 57.8+ MB\n"
          ]
        }
      ],
      "source": [
        "train_df.info()"
      ]
    },
    {
      "cell_type": "markdown",
      "metadata": {
        "id": "THr3vFf089hR"
      },
      "source": [
        "### Inspeção das localidades presentes nas bases"
      ]
    },
    {
      "cell_type": "code",
      "execution_count": 19,
      "metadata": {
        "id": "stHEtoH_9BCP",
        "colab": {
          "base_uri": "https://localhost:8080/"
        },
        "outputId": "f28b2ab7-cfc4-4371-e213-c2b15b54f707"
      },
      "outputs": [
        {
          "output_type": "stream",
          "name": "stdout",
          "text": [
            "Localidades presentes na base de treino:\n",
            "\n",
            "\n",
            "[  7 360  11  12 347  13  16  17  19  23 339  29  30 752  32  40  41  45\n",
            "  46 438  51 340 309  53  60  64  75  76  79 342 735  84 193  88 203 274\n",
            "  93 177  96  99 105 180 107 734 109 728 111 171 226 741 341 114 118 122\n",
            " 125 126 129 131 132 137 141 145 153 154 164 165  14  20  25  31  35 319\n",
            "  39 338 178  57 789  72 179 219 344  94 323 120 294 139 148 261 763   1\n",
            "   3  10  15  21 186  54  62  69 181 199 172 160  18 785 766 175  55  66\n",
            " 733 169 324 136 198 224 200 240  28  38  49  61 724 732 232 170 112 113\n",
            " 124 134 146 158 451  86 218 788 106 108 115 157   8 743  68 703  89 104\n",
            " 123 130 147 167 152 159 237  77  82  85  98 133 155 156 769 162 230  26\n",
            " 176  36  58  91 767   2  33  50 746 183 173  78  90  47  73  87 239 102\n",
            " 246 190  56 764 765  95 207  52 727 197  44 225 317 628 756 214 272 119\n",
            " 434 507 140 161 691 293 271 151 163   6 307  43 117 182 771 188 750 351\n",
            " 787 779  67 142   5 390 144 719 223 127 332 247 101 221 174 325 348 706\n",
            "  81 217 121 135 228  24 422 150  22  71 263 262  34 517 128 202 322  37\n",
            " 259  92 400 540 700 288 269  80  63 694 321 784 241 516 523 377 260 475\n",
            " 673  97 281 212 143  27 714 275 772 295 296 615 337 568 227 575 753 303\n",
            " 729 755 318 529 255 349 191 770 222 558 213 264 576 231 330]\n",
            "_ __ __ __ __ __ __ __ __ __ __ __ __ __ __ __ __ __ __ __ __ __ __ __ __ __ __ __ __ __ _\n",
            "\n",
            "\n",
            "Localidades presentes na base de predição:\n",
            "\n",
            "\n",
            "[ 41 131 154 117 337 322]\n",
            "_ __ __ __ __ __ __ __ __ __ __ __ __ __ __ __ __ __ __ __ __ __ __ __ __ __ __ __ __ __ _\n",
            "\n",
            "\n",
            "Localidades presentes em ambas as bases:\n",
            "\n",
            "\n"
          ]
        },
        {
          "output_type": "execute_result",
          "data": {
            "text/plain": [
              "array([ 41, 131, 154, 117, 322, 337])"
            ]
          },
          "metadata": {},
          "execution_count": 19
        }
      ],
      "source": [
        "print('Localidades presentes na base de treino:')\n",
        "print('\\n')\n",
        "print(train_df['LOCA_ID'].unique())\n",
        "print('_ _'*30)\n",
        "print('\\n')\n",
        "print('Localidades presentes na base de predição:')\n",
        "print('\\n')\n",
        "print(predict_df['LOCA_ID'].unique())\n",
        "print('_ _'*30)\n",
        "print('\\n')\n",
        "print('Localidades presentes em ambas as bases:')\n",
        "print('\\n')\n",
        "train_df.loc[train_df['LOCA_ID'].isin(predict_df['LOCA_ID'])]['LOCA_ID'].unique()"
      ]
    },
    {
      "cell_type": "markdown",
      "metadata": {
        "id": "-VoB-dR9DSgH"
      },
      "source": [
        "### Remoção de overlap entre base de treino e predição"
      ]
    },
    {
      "cell_type": "code",
      "execution_count": 20,
      "metadata": {
        "id": "J_r5fzMCDVye",
        "colab": {
          "base_uri": "https://localhost:8080/"
        },
        "outputId": "19153569-ec52-4b1c-eab0-0334c003928d"
      },
      "outputs": [
        {
          "output_type": "stream",
          "name": "stdout",
          "text": [
            "977 Matrículas excluídas da base de treino\n"
          ]
        }
      ],
      "source": [
        "print(str(len(train_df.loc[train_df['IMOV_ID'].isin(predict_df['IMOV_ID'])])) + ' Matrículas excluídas da base de treino')\n",
        "\n",
        "train_df = train_df.loc[~train_df['IMOV_ID'].isin(predict_df['IMOV_ID'])]"
      ]
    },
    {
      "cell_type": "code",
      "execution_count": 21,
      "metadata": {
        "id": "KAjE5O5OPbq7",
        "colab": {
          "base_uri": "https://localhost:8080/"
        },
        "outputId": "9581fbd8-6005-402f-944e-4427310dd3e4"
      },
      "outputs": [
        {
          "output_type": "execute_result",
          "data": {
            "text/plain": [
              "115609"
            ]
          },
          "metadata": {},
          "execution_count": 21
        }
      ],
      "source": [
        "len(train_df.loc[~train_df['IMOV_ID'].isin(predict_df['IMOV_ID'])])"
      ]
    },
    {
      "cell_type": "code",
      "execution_count": 22,
      "metadata": {
        "id": "1nSsy3I31euz",
        "colab": {
          "base_uri": "https://localhost:8080/"
        },
        "outputId": "6291dd81-6e16-4f11-eec2-d61bed4643ae"
      },
      "outputs": [
        {
          "output_type": "execute_result",
          "data": {
            "text/plain": [
              "Index(['IMOV_ID', 'LOCA_ID', 'STCM_CDSETORCOMERCIAL', 'IPER_ID',\n",
              "       'IMOV_IDSUBCATEGORIAPRINCIPAL', 'IDADE', 'DATA_INSTALACAO_HD',\n",
              "       'DATA_INSTALACAO_HD_NOVO', 'IMOV_NNMORADOR', 'QTDECONOMIARESIDENCIAL',\n",
              "       'QTDECONOMIACOMERCIAL', 'QTDECONOMIAINDUSTRIAL', 'QTDECONOMIAPUBLICO',\n",
              "       'QTDANORMALIDADEPOS', 'QTDANORMALIDADEANTTOTAL',\n",
              "       'QTDANORMALIDADELEITURA_ANT', 'QUANTIDADECONTAS', 'QUANTIDADERAS',\n",
              "       'QTD_ANORM_HD_QUEBRADO', 'QTD_ANORM_HD_RETIRADO',\n",
              "       'QTD_ANORM_HD_EMBAÇADO', 'QTD_ANORM_HD_INVERTIDO',\n",
              "       'QTD_ANORM_HD_SOTERRADO', 'POCO_ID', 'N_CORTES', 'TIPO_HD',\n",
              "       'CAPACIDADE_HD', 'CONS_MED_ANT_M1', 'CONS_MED_ANT_M2',\n",
              "       'CONS_MED_ANT_M3', 'CONS_MED_ANT_M4', 'CONS_MED_ANT_M5',\n",
              "       'CONS_MED_ANT_M6', 'CONS_MED_ANT_M7', 'CONS_MED_ANT_M8',\n",
              "       'CONS_MED_ANT_M9', 'CONS_MED_ANT_M10', 'CONS_MED_ANT_M11',\n",
              "       'CONS_MED_ANT_M12', 'CONS_MED_ANT_M13', 'CONS_MED_ANT_M14',\n",
              "       'CONS_MED_ANT_M15', 'CONS_MED_ANT_M16', 'CONS_MED_ANT_M17',\n",
              "       'CONS_MED_ANT_M18', 'CONS_MED_ANT_M19', 'CONS_MED_ANT_M20',\n",
              "       'CONS_MED_ANT_M21', 'CONS_MED_ANT_M22', 'CONS_MED_ANT_M23',\n",
              "       'CONS_MED_ANT_M24', 'CONSUMO_MED_POS_M1', 'CONSUMO_MED_POS_M2',\n",
              "       'CONSUMO_MED_POS_M3', 'CONSUMO_MED_POS_M4', 'CONSUMO_MED_POS_M5',\n",
              "       'CONSUMO_MED_POS_M6', 'CONSUMO_MED_POS_M7', 'CONSUMO_MED_POS_M8',\n",
              "       'CONSUMO_MED_POS_M9', 'CONSUMO_MED_POS_M10', 'CONSUMO_MED_POS_M11',\n",
              "       'CONSUMO_MED_POS_M12', 'MAX_CONSUMO', 'SOMATORIO_CONSUMO'],\n",
              "      dtype='object')"
            ]
          },
          "metadata": {},
          "execution_count": 22
        }
      ],
      "source": [
        "train_df.columns"
      ]
    },
    {
      "cell_type": "code",
      "source": [
        "train_df.iloc[:, 0:63] = train_df.iloc[:, 0:63].fillna(value = 0)"
      ],
      "metadata": {
        "id": "jv7zL5Xvp6B0"
      },
      "execution_count": 23,
      "outputs": []
    },
    {
      "cell_type": "code",
      "execution_count": 24,
      "metadata": {
        "id": "UIyXBD_l2M8K",
        "colab": {
          "base_uri": "https://localhost:8080/"
        },
        "outputId": "0a1c833e-4c02-4979-ef7f-9b33a09971ed"
      },
      "outputs": [
        {
          "output_type": "execute_result",
          "data": {
            "text/plain": [
              "Index(['CONSUMO_MED_POS_M1', 'CONSUMO_MED_POS_M2', 'CONSUMO_MED_POS_M3',\n",
              "       'CONSUMO_MED_POS_M4', 'CONSUMO_MED_POS_M5', 'CONSUMO_MED_POS_M6',\n",
              "       'CONSUMO_MED_POS_M7', 'CONSUMO_MED_POS_M8', 'CONSUMO_MED_POS_M9',\n",
              "       'CONSUMO_MED_POS_M10', 'CONSUMO_MED_POS_M11', 'CONSUMO_MED_POS_M12'],\n",
              "      dtype='object')"
            ]
          },
          "metadata": {},
          "execution_count": 24
        }
      ],
      "source": [
        "train_df.columns[51:63]"
      ]
    },
    {
      "cell_type": "code",
      "execution_count": 25,
      "metadata": {
        "id": "SbX1NHgTF3mx",
        "colab": {
          "base_uri": "https://localhost:8080/"
        },
        "outputId": "928eb3b2-f82f-4d50-9cfa-fc1e84e61e52"
      },
      "outputs": [
        {
          "output_type": "execute_result",
          "data": {
            "text/plain": [
              "Index(['CONS_MED_ANT_M1', 'CONS_MED_ANT_M2', 'CONS_MED_ANT_M3',\n",
              "       'CONS_MED_ANT_M4', 'CONS_MED_ANT_M5', 'CONS_MED_ANT_M6',\n",
              "       'CONS_MED_ANT_M7', 'CONS_MED_ANT_M8', 'CONS_MED_ANT_M9',\n",
              "       'CONS_MED_ANT_M10', 'CONS_MED_ANT_M11', 'CONS_MED_ANT_M12',\n",
              "       'CONS_MED_ANT_M13', 'CONS_MED_ANT_M14', 'CONS_MED_ANT_M15',\n",
              "       'CONS_MED_ANT_M16', 'CONS_MED_ANT_M17', 'CONS_MED_ANT_M18',\n",
              "       'CONS_MED_ANT_M19', 'CONS_MED_ANT_M20', 'CONS_MED_ANT_M21',\n",
              "       'CONS_MED_ANT_M22', 'CONS_MED_ANT_M23', 'CONS_MED_ANT_M24'],\n",
              "      dtype='object')"
            ]
          },
          "metadata": {},
          "execution_count": 25
        }
      ],
      "source": [
        "train_df.columns[27:51]"
      ]
    },
    {
      "cell_type": "code",
      "execution_count": 26,
      "metadata": {
        "id": "LZi4H2aYgtk2"
      },
      "outputs": [],
      "source": [
        "train_df.iloc[:, 27:51] = train_df.iloc[:, 27:51].astype('int64')\n",
        "\n",
        "train_df.iloc[:, 51:63] = train_df.iloc[:, 51:63].astype('int64')"
      ]
    },
    {
      "cell_type": "markdown",
      "metadata": {
        "id": "pvivbWD29zCR"
      },
      "source": [
        "### Computação das estatísticas da série histórica"
      ]
    },
    {
      "cell_type": "code",
      "execution_count": 27,
      "metadata": {
        "id": "2Tv3TBetbKUv"
      },
      "outputs": [],
      "source": [
        "matriculas = train_df['IMOV_ID']\n",
        "\n",
        "slope = []\n",
        "\n",
        "slope_6 = []\n",
        "\n",
        "intercept = []\n",
        "\n",
        "intercept_6 = []\n",
        "\n",
        "mean_ant = []\n",
        "\n",
        "median_ant = []\n",
        "\n",
        "sd_ant = []\n",
        "\n",
        "mean_pos = []\n",
        "\n",
        "median_pos = []\n",
        "\n",
        "max_pos = []\n",
        "\n",
        "matriculas_list = []\n",
        "\n",
        "cont_zeros = []\n",
        "\n",
        "r2 = []\n",
        "\n",
        "x = np.arange(1, 25, 1,  dtype=int)\n",
        "for matricula in matriculas:\n",
        "  frame = train_df[train_df['IMOV_ID'] == matricula]\n",
        "  \n",
        "  y_ant = frame.iloc[0, 27:51]\n",
        "\n",
        "  y_post = frame.iloc[0, 51:63]\n",
        "\n",
        "  mean_ant.append(round(y_ant.mean()))\n",
        "\n",
        "  median_ant.append(y_ant.median())\n",
        "\n",
        "  mean_pos.append(y_post.mean())\n",
        "\n",
        "  median_pos.append(y_post.median())\n",
        "\n",
        "  max_pos.append(y_post.max())\n",
        "\n",
        "  sd_ant.append(y_ant.std())\n",
        "\n",
        "  cont_zeros.append(sum(y_ant == 0))\n",
        "\n",
        "  res = stats.linregress(x,y_ant.astype(float))\n",
        "\n",
        "  slope.append(res.slope)\n",
        "\n",
        "  r2.append(res.rvalue**2)\n",
        "\n",
        "  intercept.append(res.intercept)\n",
        "\n",
        "  matriculas_list.append(matricula)\n",
        "\n",
        "x = np.arange(1, 7, 1,  dtype=int)\n",
        "for matricula in matriculas:\n",
        "  frame = train_df[train_df['IMOV_ID'] == matricula]\n",
        "\n",
        "  y_ant_6 = frame.iloc[0, 27:33]\n",
        "\n",
        "  res_6 = stats.linregress(x,y_ant_6.astype(float))\n",
        "\n",
        "  slope_6.append(res_6.slope)\n",
        "\n",
        "  intercept_6.append(res_6.intercept)"
      ]
    },
    {
      "cell_type": "code",
      "execution_count": 28,
      "metadata": {
        "id": "q-ocG1CF6TvW"
      },
      "outputs": [],
      "source": [
        "df_linregress = pd.DataFrame(list(zip(matriculas_list, r2, slope, slope_6, intercept, intercept_6, mean_ant, median_ant, sd_ant, mean_pos, median_pos, max_pos, cont_zeros)),\n",
        "                             columns = ['MATRICULAS', 'r2', 'SLOPE', 'SLOPE_6', 'INTERCEPT', 'INTERCEPT_6', 'MEAN_ANT', 'MEDIAN_ANT', 'SD_ANT', 'MEAN_POS', 'MEDIAN_POS', 'MAX_POS', 'CONT_ZEROS'])"
      ]
    },
    {
      "cell_type": "code",
      "execution_count": 29,
      "metadata": {
        "id": "1ornagFYLKPz",
        "colab": {
          "base_uri": "https://localhost:8080/"
        },
        "outputId": "14ccafa1-e913-4feb-ce8f-1be0d9a8402f"
      },
      "outputs": [
        {
          "output_type": "stream",
          "name": "stdout",
          "text": [
            "Media de incremento geral após substituição HD\n",
            "-11.547878337038348\n"
          ]
        }
      ],
      "source": [
        "print('Media de incremento geral após substituição HD')\n",
        "print(df_linregress.MEAN_POS.mean() - df_linregress.MEAN_ANT.mean())"
      ]
    },
    {
      "cell_type": "code",
      "execution_count": 30,
      "metadata": {
        "id": "AWFH3sYPLcHH",
        "colab": {
          "base_uri": "https://localhost:8080/"
        },
        "outputId": "d9b64db3-4b20-4b82-d9d6-433ed7782b9e"
      },
      "outputs": [
        {
          "output_type": "stream",
          "name": "stdout",
          "text": [
            "Mediana de incremento geral após substituição HD\n",
            "5.5\n"
          ]
        }
      ],
      "source": [
        "print('Mediana de incremento geral após substituição HD')\n",
        "print(df_linregress.MEDIAN_POS.median() - df_linregress.MEDIAN_ANT.median())"
      ]
    },
    {
      "cell_type": "code",
      "execution_count": 31,
      "metadata": {
        "id": "B24mhPpK8Mp5"
      },
      "outputs": [],
      "source": [
        "comp_med = np.where(df_linregress['MEDIAN_ANT']*1.05 > df_linregress['MEDIAN_POS'] , 0, 1 )\n",
        "\n",
        "comp_mean = np.where((df_linregress['MEAN_ANT']*1.05 > df_linregress['MEAN_POS']), 0, 1 )\n",
        "\n",
        "maior_que_X = np.where((df_linregress['MEAN_POS'] > 10 ), 1, 0 )\n",
        "\n",
        "consumo_max_pos = np.where((df_linregress['MAX_POS'] > 10 ), 1, 0 )\n",
        "\n",
        "df_linregress['RESULT_MEAN_MAX'] = comp_mean * consumo_max_pos \n",
        "df_linregress['RESULT_MEAN'] = comp_mean * maior_que_X \n",
        "df_linregress['RESULT_MEAN_'] = comp_mean\n",
        "df_linregress['RESULT_MED'] = comp_med #* maior_que_X # * comp_mean \n",
        "#df_linregress['maior_que_10'] = maior_que_10\n",
        "\n",
        "#Possibilidade de combinar média e mediana multiplicando os RESULT_MEANados"
      ]
    },
    {
      "cell_type": "code",
      "source": [
        "df_linregress['RESULT_MEAN_MAX'].value_counts()"
      ],
      "metadata": {
        "id": "55W_cYXjvbDB",
        "colab": {
          "base_uri": "https://localhost:8080/"
        },
        "outputId": "d64997d1-a9b7-48d8-a3a6-09a4472b94f7"
      },
      "execution_count": 32,
      "outputs": [
        {
          "output_type": "execute_result",
          "data": {
            "text/plain": [
              "0    63455\n",
              "1    52154\n",
              "Name: RESULT_MEAN_MAX, dtype: int64"
            ]
          },
          "metadata": {},
          "execution_count": 32
        }
      ]
    },
    {
      "cell_type": "code",
      "source": [
        "df_linregress['RESULT_MEAN'].value_counts()"
      ],
      "metadata": {
        "id": "hPX3jn1EvfSi",
        "colab": {
          "base_uri": "https://localhost:8080/"
        },
        "outputId": "194c84fd-2d9b-46ca-ef71-2220fbd3c254"
      },
      "execution_count": 33,
      "outputs": [
        {
          "output_type": "execute_result",
          "data": {
            "text/plain": [
              "0    80975\n",
              "1    34634\n",
              "Name: RESULT_MEAN, dtype: int64"
            ]
          },
          "metadata": {},
          "execution_count": 33
        }
      ]
    },
    {
      "cell_type": "code",
      "source": [
        "df_linregress['RESULT_MEAN_'].value_counts()"
      ],
      "metadata": {
        "id": "jgsqviZLvfps",
        "colab": {
          "base_uri": "https://localhost:8080/"
        },
        "outputId": "3db5fb1a-eea3-46d0-8d4b-b017c6a17173"
      },
      "execution_count": 34,
      "outputs": [
        {
          "output_type": "execute_result",
          "data": {
            "text/plain": [
              "1    73219\n",
              "0    42390\n",
              "Name: RESULT_MEAN_, dtype: int64"
            ]
          },
          "metadata": {},
          "execution_count": 34
        }
      ]
    },
    {
      "cell_type": "code",
      "source": [
        "df_linregress['RESULT_MED'].value_counts()"
      ],
      "metadata": {
        "id": "G-CBKhCdvhKR",
        "colab": {
          "base_uri": "https://localhost:8080/"
        },
        "outputId": "e7b9a600-7af9-409b-b62a-782d6a7aea90"
      },
      "execution_count": 35,
      "outputs": [
        {
          "output_type": "execute_result",
          "data": {
            "text/plain": [
              "1    78849\n",
              "0    36760\n",
              "Name: RESULT_MED, dtype: int64"
            ]
          },
          "metadata": {},
          "execution_count": 35
        }
      ]
    },
    {
      "cell_type": "code",
      "source": [
        "df_linregress"
      ],
      "metadata": {
        "id": "boMtRUmaxwFu",
        "colab": {
          "base_uri": "https://localhost:8080/",
          "height": 488
        },
        "outputId": "a3c4d1b7-70bf-4d39-ef56-e636ae2db2f0"
      },
      "execution_count": 36,
      "outputs": [
        {
          "output_type": "execute_result",
          "data": {
            "text/plain": [
              "        MATRICULAS        r2     SLOPE    SLOPE_6  INTERCEPT  INTERCEPT_6  \\\n",
              "0           927988  0.000000  0.000000   0.000000   0.000000     0.000000   \n",
              "1         60669880  0.014374 -0.019565   0.114286   1.369565     1.266667   \n",
              "2         60680965  0.127077  0.506087   1.600000   2.090580    -2.933333   \n",
              "3         60444188  0.086997  0.350435   5.057143  11.452899   -10.200000   \n",
              "4         60442614  0.182982  0.088261  -0.114286   7.188406     8.066667   \n",
              "...            ...       ...       ...        ...        ...          ...   \n",
              "115604    76431088  0.214900  0.129565   0.000000  -0.702899     0.000000   \n",
              "115605    27318827  0.295097  0.070435   0.000000  -0.547101     0.000000   \n",
              "115606    27247385  0.293518 -5.009130 -55.200000  97.989130   269.533333   \n",
              "115607    27323197  0.017142 -0.109565   3.542857  13.202899    -1.733333   \n",
              "115608    27476384  0.120000  0.100000   0.000000  -0.833333     0.000000   \n",
              "\n",
              "        MEAN_ANT  MEDIAN_ANT     SD_ANT   MEAN_POS  MEDIAN_POS  MAX_POS  \\\n",
              "0              0         0.0   0.000000   3.583333         4.5        7   \n",
              "1              1         1.0   1.153916   1.083333         0.5        4   \n",
              "2              8         5.5  10.038693   4.083333         0.0       14   \n",
              "3             16        19.5   8.401173   1.083333         0.0       13   \n",
              "4              8         8.0   1.458980   6.916667         6.0       20   \n",
              "...          ...         ...        ...        ...         ...      ...   \n",
              "115604         1         0.0   1.976309   1.416667         0.5        5   \n",
              "115605         0         0.0   0.916831  11.583333        11.5       16   \n",
              "115606        35         4.5  65.377707  18.916667        18.5       28   \n",
              "115607        12        14.0   5.917305  13.666667        14.0       20   \n",
              "115608         0         0.0   2.041241   4.000000         4.5        9   \n",
              "\n",
              "        CONT_ZEROS  RESULT_MEAN_MAX  RESULT_MEAN  RESULT_MEAN_  RESULT_MED  \n",
              "0               24                0            0             1           1  \n",
              "1                8                0            0             1           0  \n",
              "2                7                0            0             0           0  \n",
              "3                4                0            0             0           0  \n",
              "4                0                0            0             0           0  \n",
              "...            ...              ...          ...           ...         ...  \n",
              "115604          19                0            0             1           1  \n",
              "115605          21                1            1             1           1  \n",
              "115606          12                0            0             0           1  \n",
              "115607           4                1            1             1           0  \n",
              "115608          23                0            0             1           1  \n",
              "\n",
              "[115609 rows x 17 columns]"
            ],
            "text/html": [
              "\n",
              "  <div id=\"df-aec36386-be52-45ed-9fb1-8afc53e14199\">\n",
              "    <div class=\"colab-df-container\">\n",
              "      <div>\n",
              "<style scoped>\n",
              "    .dataframe tbody tr th:only-of-type {\n",
              "        vertical-align: middle;\n",
              "    }\n",
              "\n",
              "    .dataframe tbody tr th {\n",
              "        vertical-align: top;\n",
              "    }\n",
              "\n",
              "    .dataframe thead th {\n",
              "        text-align: right;\n",
              "    }\n",
              "</style>\n",
              "<table border=\"1\" class=\"dataframe\">\n",
              "  <thead>\n",
              "    <tr style=\"text-align: right;\">\n",
              "      <th></th>\n",
              "      <th>MATRICULAS</th>\n",
              "      <th>r2</th>\n",
              "      <th>SLOPE</th>\n",
              "      <th>SLOPE_6</th>\n",
              "      <th>INTERCEPT</th>\n",
              "      <th>INTERCEPT_6</th>\n",
              "      <th>MEAN_ANT</th>\n",
              "      <th>MEDIAN_ANT</th>\n",
              "      <th>SD_ANT</th>\n",
              "      <th>MEAN_POS</th>\n",
              "      <th>MEDIAN_POS</th>\n",
              "      <th>MAX_POS</th>\n",
              "      <th>CONT_ZEROS</th>\n",
              "      <th>RESULT_MEAN_MAX</th>\n",
              "      <th>RESULT_MEAN</th>\n",
              "      <th>RESULT_MEAN_</th>\n",
              "      <th>RESULT_MED</th>\n",
              "    </tr>\n",
              "  </thead>\n",
              "  <tbody>\n",
              "    <tr>\n",
              "      <th>0</th>\n",
              "      <td>927988</td>\n",
              "      <td>0.000000</td>\n",
              "      <td>0.000000</td>\n",
              "      <td>0.000000</td>\n",
              "      <td>0.000000</td>\n",
              "      <td>0.000000</td>\n",
              "      <td>0</td>\n",
              "      <td>0.0</td>\n",
              "      <td>0.000000</td>\n",
              "      <td>3.583333</td>\n",
              "      <td>4.5</td>\n",
              "      <td>7</td>\n",
              "      <td>24</td>\n",
              "      <td>0</td>\n",
              "      <td>0</td>\n",
              "      <td>1</td>\n",
              "      <td>1</td>\n",
              "    </tr>\n",
              "    <tr>\n",
              "      <th>1</th>\n",
              "      <td>60669880</td>\n",
              "      <td>0.014374</td>\n",
              "      <td>-0.019565</td>\n",
              "      <td>0.114286</td>\n",
              "      <td>1.369565</td>\n",
              "      <td>1.266667</td>\n",
              "      <td>1</td>\n",
              "      <td>1.0</td>\n",
              "      <td>1.153916</td>\n",
              "      <td>1.083333</td>\n",
              "      <td>0.5</td>\n",
              "      <td>4</td>\n",
              "      <td>8</td>\n",
              "      <td>0</td>\n",
              "      <td>0</td>\n",
              "      <td>1</td>\n",
              "      <td>0</td>\n",
              "    </tr>\n",
              "    <tr>\n",
              "      <th>2</th>\n",
              "      <td>60680965</td>\n",
              "      <td>0.127077</td>\n",
              "      <td>0.506087</td>\n",
              "      <td>1.600000</td>\n",
              "      <td>2.090580</td>\n",
              "      <td>-2.933333</td>\n",
              "      <td>8</td>\n",
              "      <td>5.5</td>\n",
              "      <td>10.038693</td>\n",
              "      <td>4.083333</td>\n",
              "      <td>0.0</td>\n",
              "      <td>14</td>\n",
              "      <td>7</td>\n",
              "      <td>0</td>\n",
              "      <td>0</td>\n",
              "      <td>0</td>\n",
              "      <td>0</td>\n",
              "    </tr>\n",
              "    <tr>\n",
              "      <th>3</th>\n",
              "      <td>60444188</td>\n",
              "      <td>0.086997</td>\n",
              "      <td>0.350435</td>\n",
              "      <td>5.057143</td>\n",
              "      <td>11.452899</td>\n",
              "      <td>-10.200000</td>\n",
              "      <td>16</td>\n",
              "      <td>19.5</td>\n",
              "      <td>8.401173</td>\n",
              "      <td>1.083333</td>\n",
              "      <td>0.0</td>\n",
              "      <td>13</td>\n",
              "      <td>4</td>\n",
              "      <td>0</td>\n",
              "      <td>0</td>\n",
              "      <td>0</td>\n",
              "      <td>0</td>\n",
              "    </tr>\n",
              "    <tr>\n",
              "      <th>4</th>\n",
              "      <td>60442614</td>\n",
              "      <td>0.182982</td>\n",
              "      <td>0.088261</td>\n",
              "      <td>-0.114286</td>\n",
              "      <td>7.188406</td>\n",
              "      <td>8.066667</td>\n",
              "      <td>8</td>\n",
              "      <td>8.0</td>\n",
              "      <td>1.458980</td>\n",
              "      <td>6.916667</td>\n",
              "      <td>6.0</td>\n",
              "      <td>20</td>\n",
              "      <td>0</td>\n",
              "      <td>0</td>\n",
              "      <td>0</td>\n",
              "      <td>0</td>\n",
              "      <td>0</td>\n",
              "    </tr>\n",
              "    <tr>\n",
              "      <th>...</th>\n",
              "      <td>...</td>\n",
              "      <td>...</td>\n",
              "      <td>...</td>\n",
              "      <td>...</td>\n",
              "      <td>...</td>\n",
              "      <td>...</td>\n",
              "      <td>...</td>\n",
              "      <td>...</td>\n",
              "      <td>...</td>\n",
              "      <td>...</td>\n",
              "      <td>...</td>\n",
              "      <td>...</td>\n",
              "      <td>...</td>\n",
              "      <td>...</td>\n",
              "      <td>...</td>\n",
              "      <td>...</td>\n",
              "      <td>...</td>\n",
              "    </tr>\n",
              "    <tr>\n",
              "      <th>115604</th>\n",
              "      <td>76431088</td>\n",
              "      <td>0.214900</td>\n",
              "      <td>0.129565</td>\n",
              "      <td>0.000000</td>\n",
              "      <td>-0.702899</td>\n",
              "      <td>0.000000</td>\n",
              "      <td>1</td>\n",
              "      <td>0.0</td>\n",
              "      <td>1.976309</td>\n",
              "      <td>1.416667</td>\n",
              "      <td>0.5</td>\n",
              "      <td>5</td>\n",
              "      <td>19</td>\n",
              "      <td>0</td>\n",
              "      <td>0</td>\n",
              "      <td>1</td>\n",
              "      <td>1</td>\n",
              "    </tr>\n",
              "    <tr>\n",
              "      <th>115605</th>\n",
              "      <td>27318827</td>\n",
              "      <td>0.295097</td>\n",
              "      <td>0.070435</td>\n",
              "      <td>0.000000</td>\n",
              "      <td>-0.547101</td>\n",
              "      <td>0.000000</td>\n",
              "      <td>0</td>\n",
              "      <td>0.0</td>\n",
              "      <td>0.916831</td>\n",
              "      <td>11.583333</td>\n",
              "      <td>11.5</td>\n",
              "      <td>16</td>\n",
              "      <td>21</td>\n",
              "      <td>1</td>\n",
              "      <td>1</td>\n",
              "      <td>1</td>\n",
              "      <td>1</td>\n",
              "    </tr>\n",
              "    <tr>\n",
              "      <th>115606</th>\n",
              "      <td>27247385</td>\n",
              "      <td>0.293518</td>\n",
              "      <td>-5.009130</td>\n",
              "      <td>-55.200000</td>\n",
              "      <td>97.989130</td>\n",
              "      <td>269.533333</td>\n",
              "      <td>35</td>\n",
              "      <td>4.5</td>\n",
              "      <td>65.377707</td>\n",
              "      <td>18.916667</td>\n",
              "      <td>18.5</td>\n",
              "      <td>28</td>\n",
              "      <td>12</td>\n",
              "      <td>0</td>\n",
              "      <td>0</td>\n",
              "      <td>0</td>\n",
              "      <td>1</td>\n",
              "    </tr>\n",
              "    <tr>\n",
              "      <th>115607</th>\n",
              "      <td>27323197</td>\n",
              "      <td>0.017142</td>\n",
              "      <td>-0.109565</td>\n",
              "      <td>3.542857</td>\n",
              "      <td>13.202899</td>\n",
              "      <td>-1.733333</td>\n",
              "      <td>12</td>\n",
              "      <td>14.0</td>\n",
              "      <td>5.917305</td>\n",
              "      <td>13.666667</td>\n",
              "      <td>14.0</td>\n",
              "      <td>20</td>\n",
              "      <td>4</td>\n",
              "      <td>1</td>\n",
              "      <td>1</td>\n",
              "      <td>1</td>\n",
              "      <td>0</td>\n",
              "    </tr>\n",
              "    <tr>\n",
              "      <th>115608</th>\n",
              "      <td>27476384</td>\n",
              "      <td>0.120000</td>\n",
              "      <td>0.100000</td>\n",
              "      <td>0.000000</td>\n",
              "      <td>-0.833333</td>\n",
              "      <td>0.000000</td>\n",
              "      <td>0</td>\n",
              "      <td>0.0</td>\n",
              "      <td>2.041241</td>\n",
              "      <td>4.000000</td>\n",
              "      <td>4.5</td>\n",
              "      <td>9</td>\n",
              "      <td>23</td>\n",
              "      <td>0</td>\n",
              "      <td>0</td>\n",
              "      <td>1</td>\n",
              "      <td>1</td>\n",
              "    </tr>\n",
              "  </tbody>\n",
              "</table>\n",
              "<p>115609 rows × 17 columns</p>\n",
              "</div>\n",
              "      <button class=\"colab-df-convert\" onclick=\"convertToInteractive('df-aec36386-be52-45ed-9fb1-8afc53e14199')\"\n",
              "              title=\"Convert this dataframe to an interactive table.\"\n",
              "              style=\"display:none;\">\n",
              "        \n",
              "  <svg xmlns=\"http://www.w3.org/2000/svg\" height=\"24px\"viewBox=\"0 0 24 24\"\n",
              "       width=\"24px\">\n",
              "    <path d=\"M0 0h24v24H0V0z\" fill=\"none\"/>\n",
              "    <path d=\"M18.56 5.44l.94 2.06.94-2.06 2.06-.94-2.06-.94-.94-2.06-.94 2.06-2.06.94zm-11 1L8.5 8.5l.94-2.06 2.06-.94-2.06-.94L8.5 2.5l-.94 2.06-2.06.94zm10 10l.94 2.06.94-2.06 2.06-.94-2.06-.94-.94-2.06-.94 2.06-2.06.94z\"/><path d=\"M17.41 7.96l-1.37-1.37c-.4-.4-.92-.59-1.43-.59-.52 0-1.04.2-1.43.59L10.3 9.45l-7.72 7.72c-.78.78-.78 2.05 0 2.83L4 21.41c.39.39.9.59 1.41.59.51 0 1.02-.2 1.41-.59l7.78-7.78 2.81-2.81c.8-.78.8-2.07 0-2.86zM5.41 20L4 18.59l7.72-7.72 1.47 1.35L5.41 20z\"/>\n",
              "  </svg>\n",
              "      </button>\n",
              "      \n",
              "  <style>\n",
              "    .colab-df-container {\n",
              "      display:flex;\n",
              "      flex-wrap:wrap;\n",
              "      gap: 12px;\n",
              "    }\n",
              "\n",
              "    .colab-df-convert {\n",
              "      background-color: #E8F0FE;\n",
              "      border: none;\n",
              "      border-radius: 50%;\n",
              "      cursor: pointer;\n",
              "      display: none;\n",
              "      fill: #1967D2;\n",
              "      height: 32px;\n",
              "      padding: 0 0 0 0;\n",
              "      width: 32px;\n",
              "    }\n",
              "\n",
              "    .colab-df-convert:hover {\n",
              "      background-color: #E2EBFA;\n",
              "      box-shadow: 0px 1px 2px rgba(60, 64, 67, 0.3), 0px 1px 3px 1px rgba(60, 64, 67, 0.15);\n",
              "      fill: #174EA6;\n",
              "    }\n",
              "\n",
              "    [theme=dark] .colab-df-convert {\n",
              "      background-color: #3B4455;\n",
              "      fill: #D2E3FC;\n",
              "    }\n",
              "\n",
              "    [theme=dark] .colab-df-convert:hover {\n",
              "      background-color: #434B5C;\n",
              "      box-shadow: 0px 1px 3px 1px rgba(0, 0, 0, 0.15);\n",
              "      filter: drop-shadow(0px 1px 2px rgba(0, 0, 0, 0.3));\n",
              "      fill: #FFFFFF;\n",
              "    }\n",
              "  </style>\n",
              "\n",
              "      <script>\n",
              "        const buttonEl =\n",
              "          document.querySelector('#df-aec36386-be52-45ed-9fb1-8afc53e14199 button.colab-df-convert');\n",
              "        buttonEl.style.display =\n",
              "          google.colab.kernel.accessAllowed ? 'block' : 'none';\n",
              "\n",
              "        async function convertToInteractive(key) {\n",
              "          const element = document.querySelector('#df-aec36386-be52-45ed-9fb1-8afc53e14199');\n",
              "          const dataTable =\n",
              "            await google.colab.kernel.invokeFunction('convertToInteractive',\n",
              "                                                     [key], {});\n",
              "          if (!dataTable) return;\n",
              "\n",
              "          const docLinkHtml = 'Like what you see? Visit the ' +\n",
              "            '<a target=\"_blank\" href=https://colab.research.google.com/notebooks/data_table.ipynb>data table notebook</a>'\n",
              "            + ' to learn more about interactive tables.';\n",
              "          element.innerHTML = '';\n",
              "          dataTable['output_type'] = 'display_data';\n",
              "          await google.colab.output.renderOutput(dataTable, element);\n",
              "          const docLink = document.createElement('div');\n",
              "          docLink.innerHTML = docLinkHtml;\n",
              "          element.appendChild(docLink);\n",
              "        }\n",
              "      </script>\n",
              "    </div>\n",
              "  </div>\n",
              "  "
            ]
          },
          "metadata": {},
          "execution_count": 36
        }
      ]
    },
    {
      "cell_type": "code",
      "execution_count": 37,
      "metadata": {
        "id": "LpG0ePmCg2GQ",
        "colab": {
          "base_uri": "https://localhost:8080/"
        },
        "outputId": "8a99af5e-bae5-4155-cdbf-a2cf51ddff1e"
      },
      "outputs": [
        {
          "output_type": "execute_result",
          "data": {
            "text/plain": [
              "39.60076637632018"
            ]
          },
          "metadata": {},
          "execution_count": 37
        }
      ],
      "source": [
        "df_linregress['MEAN_ANT'].mean()"
      ]
    },
    {
      "cell_type": "code",
      "source": [
        "df_linregress.RESULT_MEAN.value_counts()"
      ],
      "metadata": {
        "colab": {
          "base_uri": "https://localhost:8080/"
        },
        "id": "0P_vlqdqIjn3",
        "outputId": "3b8bd749-e671-4539-9542-1e3c25c3d7d9"
      },
      "execution_count": 38,
      "outputs": [
        {
          "output_type": "execute_result",
          "data": {
            "text/plain": [
              "0    80975\n",
              "1    34634\n",
              "Name: RESULT_MEAN, dtype: int64"
            ]
          },
          "metadata": {},
          "execution_count": 38
        }
      ]
    },
    {
      "cell_type": "code",
      "execution_count": 39,
      "metadata": {
        "id": "E1atQbAwUuzP",
        "colab": {
          "base_uri": "https://localhost:8080/"
        },
        "outputId": "01bdc8e5-ecce-450f-8a56-94a48bfbf2bd"
      },
      "outputs": [
        {
          "output_type": "stream",
          "name": "stdout",
          "text": [
            "0.7004212474807324\n"
          ]
        }
      ],
      "source": [
        "proportion_pos = df_linregress.RESULT_MEAN.value_counts()[0]/sum(df_linregress.RESULT_MEAN.value_counts())\n",
        "\n",
        "print(proportion_pos)"
      ]
    },
    {
      "cell_type": "code",
      "execution_count": 40,
      "metadata": {
        "id": "g6TnvLNAxZ2A",
        "colab": {
          "base_uri": "https://localhost:8080/"
        },
        "outputId": "37f8f558-f2b6-4bff-ad27-fec0cfb0521c"
      },
      "outputs": [
        {
          "output_type": "execute_result",
          "data": {
            "text/plain": [
              "115609"
            ]
          },
          "metadata": {},
          "execution_count": 40
        }
      ],
      "source": [
        "sum(df_linregress.RESULT_MEAN.value_counts())"
      ]
    },
    {
      "cell_type": "markdown",
      "metadata": {
        "id": "FI6AwlUCMUsN"
      },
      "source": [
        "### Preparação da base train para aplicação dos modelos"
      ]
    },
    {
      "cell_type": "code",
      "execution_count": 41,
      "metadata": {
        "id": "4H1uCYcbFgET"
      },
      "outputs": [],
      "source": [
        "# eda_df = train_df.merge(df_linregress, left_on= 'IMOV_ID', right_on='MATRICULAS')\n",
        "\n",
        "train_df = train_df.merge(df_linregress, left_on= 'IMOV_ID', right_on='MATRICULAS')"
      ]
    },
    {
      "cell_type": "code",
      "source": [
        "train_df.columns"
      ],
      "metadata": {
        "colab": {
          "base_uri": "https://localhost:8080/"
        },
        "id": "b7AraMKCWa78",
        "outputId": "1d3f2d89-836e-47ae-b938-b7e4b456d0bc"
      },
      "execution_count": 42,
      "outputs": [
        {
          "output_type": "execute_result",
          "data": {
            "text/plain": [
              "Index(['IMOV_ID', 'LOCA_ID', 'STCM_CDSETORCOMERCIAL', 'IPER_ID',\n",
              "       'IMOV_IDSUBCATEGORIAPRINCIPAL', 'IDADE', 'DATA_INSTALACAO_HD',\n",
              "       'DATA_INSTALACAO_HD_NOVO', 'IMOV_NNMORADOR', 'QTDECONOMIARESIDENCIAL',\n",
              "       'QTDECONOMIACOMERCIAL', 'QTDECONOMIAINDUSTRIAL', 'QTDECONOMIAPUBLICO',\n",
              "       'QTDANORMALIDADEPOS', 'QTDANORMALIDADEANTTOTAL',\n",
              "       'QTDANORMALIDADELEITURA_ANT', 'QUANTIDADECONTAS', 'QUANTIDADERAS',\n",
              "       'QTD_ANORM_HD_QUEBRADO', 'QTD_ANORM_HD_RETIRADO',\n",
              "       'QTD_ANORM_HD_EMBAÇADO', 'QTD_ANORM_HD_INVERTIDO',\n",
              "       'QTD_ANORM_HD_SOTERRADO', 'POCO_ID', 'N_CORTES', 'TIPO_HD',\n",
              "       'CAPACIDADE_HD', 'CONS_MED_ANT_M1', 'CONS_MED_ANT_M2',\n",
              "       'CONS_MED_ANT_M3', 'CONS_MED_ANT_M4', 'CONS_MED_ANT_M5',\n",
              "       'CONS_MED_ANT_M6', 'CONS_MED_ANT_M7', 'CONS_MED_ANT_M8',\n",
              "       'CONS_MED_ANT_M9', 'CONS_MED_ANT_M10', 'CONS_MED_ANT_M11',\n",
              "       'CONS_MED_ANT_M12', 'CONS_MED_ANT_M13', 'CONS_MED_ANT_M14',\n",
              "       'CONS_MED_ANT_M15', 'CONS_MED_ANT_M16', 'CONS_MED_ANT_M17',\n",
              "       'CONS_MED_ANT_M18', 'CONS_MED_ANT_M19', 'CONS_MED_ANT_M20',\n",
              "       'CONS_MED_ANT_M21', 'CONS_MED_ANT_M22', 'CONS_MED_ANT_M23',\n",
              "       'CONS_MED_ANT_M24', 'CONSUMO_MED_POS_M1', 'CONSUMO_MED_POS_M2',\n",
              "       'CONSUMO_MED_POS_M3', 'CONSUMO_MED_POS_M4', 'CONSUMO_MED_POS_M5',\n",
              "       'CONSUMO_MED_POS_M6', 'CONSUMO_MED_POS_M7', 'CONSUMO_MED_POS_M8',\n",
              "       'CONSUMO_MED_POS_M9', 'CONSUMO_MED_POS_M10', 'CONSUMO_MED_POS_M11',\n",
              "       'CONSUMO_MED_POS_M12', 'MAX_CONSUMO', 'SOMATORIO_CONSUMO', 'MATRICULAS',\n",
              "       'r2', 'SLOPE', 'SLOPE_6', 'INTERCEPT', 'INTERCEPT_6', 'MEAN_ANT',\n",
              "       'MEDIAN_ANT', 'SD_ANT', 'MEAN_POS', 'MEDIAN_POS', 'MAX_POS',\n",
              "       'CONT_ZEROS', 'RESULT_MEAN_MAX', 'RESULT_MEAN', 'RESULT_MEAN_',\n",
              "       'RESULT_MED'],\n",
              "      dtype='object')"
            ]
          },
          "metadata": {},
          "execution_count": 42
        }
      ]
    },
    {
      "cell_type": "code",
      "execution_count": 43,
      "metadata": {
        "id": "hd_tslGaBMRb",
        "colab": {
          "base_uri": "https://localhost:8080/",
          "height": 35
        },
        "outputId": "95715649-62e0-4372-e4f4-32c2b16ce3df"
      },
      "outputs": [
        {
          "output_type": "execute_result",
          "data": {
            "text/plain": [
              "'# Salvando a planilha do train_df:\\n\\npath = \"/content/drive/MyDrive/Colab Notebooks/train_EDA.csv\"\\ntrain_df.to_csv(path)'"
            ],
            "application/vnd.google.colaboratory.intrinsic+json": {
              "type": "string"
            }
          },
          "metadata": {},
          "execution_count": 43
        }
      ],
      "source": [
        "'''# Salvando a planilha do train_df:\n",
        "\n",
        "path = \"/content/drive/MyDrive/Colab Notebooks/train_EDA.csv\"\n",
        "train_df.to_csv(path)'''"
      ]
    },
    {
      "cell_type": "code",
      "source": [
        "'''# Carregando a planilha do train_df salva:\n",
        "\n",
        "path = \"/content/drive/MyDrive/Colab Notebooks/train_EDA.csv\"\n",
        "train_df = pd.read_csv(path, encoding='ISO-8859-1')'''"
      ],
      "metadata": {
        "id": "SQiXImyBNv9R",
        "colab": {
          "base_uri": "https://localhost:8080/",
          "height": 35
        },
        "outputId": "82843cab-ba1e-4ce3-f348-166d94ea7ab2"
      },
      "execution_count": 44,
      "outputs": [
        {
          "output_type": "execute_result",
          "data": {
            "text/plain": [
              "'# Carregando a planilha do train_df salva:\\n\\npath = \"/content/drive/MyDrive/Colab Notebooks/train_EDA.csv\"\\ntrain_df = pd.read_csv(path, encoding=\\'ISO-8859-1\\')'"
            ],
            "application/vnd.google.colaboratory.intrinsic+json": {
              "type": "string"
            }
          },
          "metadata": {},
          "execution_count": 44
        }
      ]
    },
    {
      "cell_type": "code",
      "execution_count": 45,
      "metadata": {
        "id": "Et8Gh7d5RbRM"
      },
      "outputs": [],
      "source": [
        "train_df['DATA_INSTALACAO_HD_NOVO'] = pd.to_datetime(train_df['DATA_INSTALACAO_HD_NOVO'])\n",
        "\n",
        "today = pd.datetime.today()\n",
        "\n",
        "train_df['TEMPO_ATIVIDADE'] = (today - train_df['DATA_INSTALACAO_HD_NOVO'])\n",
        "\n",
        "train_df['TEMPO_ATIVIDADE'] = train_df['TEMPO_ATIVIDADE'].dt.days\n",
        "\n",
        "#train_df['SOMATORIO_POR_MES'] = train_df['SOMATORIO_CONSUMO']/train_df['TEMPO_ATIVIDADE']"
      ]
    },
    {
      "cell_type": "code",
      "source": [
        "train_df['SOMATORIO_CONSUMO'] = train_df['SOMATORIO_CONSUMO'].fillna(value = df_linregress.MEAN_ANT.mean()*train_df['TEMPO_ATIVIDADE'].mean())  "
      ],
      "metadata": {
        "id": "qJ1jQLqeimAM"
      },
      "execution_count": 46,
      "outputs": []
    },
    {
      "cell_type": "code",
      "source": [
        "consumo_ant = train_df.iloc[0, 27:51]"
      ],
      "metadata": {
        "id": "yTlQWbZqeo53"
      },
      "execution_count": 47,
      "outputs": []
    },
    {
      "cell_type": "code",
      "source": [
        "train_df['MAX_CONSUMO'] = train_df['MAX_CONSUMO'].fillna(value = consumo_ant.max())  "
      ],
      "metadata": {
        "id": "zpELHoxZeHVs"
      },
      "execution_count": 48,
      "outputs": []
    },
    {
      "cell_type": "code",
      "source": [
        "train_df['SOMATORIO_POR_MES'] = train_df['SOMATORIO_CONSUMO']/train_df['TEMPO_ATIVIDADE']"
      ],
      "metadata": {
        "id": "_GZU6b_Rn14U"
      },
      "execution_count": 49,
      "outputs": []
    },
    {
      "cell_type": "code",
      "execution_count": 50,
      "metadata": {
        "id": "GwtUFeI0vQCY",
        "colab": {
          "base_uri": "https://localhost:8080/"
        },
        "outputId": "68fc5532-7663-4639-c11c-28423ca3be88"
      },
      "outputs": [
        {
          "output_type": "stream",
          "name": "stdout",
          "text": [
            "(8221, 84)\n",
            "(6319, 84)\n"
          ]
        }
      ],
      "source": [
        "Q1 = train_df['MEAN_ANT'].quantile(0.25)\n",
        "Q3 = train_df['MEAN_ANT'].quantile(0.75)\n",
        "IQR = Q3 - Q1\n",
        "\n",
        "iqr_frame = train_df[~((train_df['MEAN_ANT'] < (Q1 - 1.5 * IQR)) | (train_df['MEAN_ANT'] > (Q3 + 1.5 * IQR)))]\n",
        "\n",
        "print(train_df[((train_df['MEAN_ANT'] < (Q1 - 1.5 * IQR)) | (train_df['MEAN_ANT'] > (Q3 + 1.5 * IQR)))].shape)\n",
        "\n",
        "Q1_MED = train_df['MEDIAN_ANT'].quantile(0.25)\n",
        "Q3_MED = train_df['MEDIAN_ANT'].quantile(0.75)\n",
        "IQR_MED = Q3_MED - Q1_MED\n",
        "\n",
        "iqr_frame_MED = train_df[~((train_df['MEDIAN_ANT'] < (Q1_MED - 1.5 * IQR_MED)) | (train_df['MEDIAN_ANT'] > (Q3_MED + 1.5 * IQR_MED)))]\n",
        "\n",
        "Q1_SOM = train_df['SOMATORIO_CONSUMO'].quantile(0.25)\n",
        "Q3_SOM = train_df['SOMATORIO_CONSUMO'].quantile(0.75)\n",
        "IQR_SOM = Q3_SOM - Q1_SOM\n",
        "\n",
        "Q1_MAX = train_df['MAX_CONSUMO'].quantile(0.25)\n",
        "Q3_MAX = train_df['MAX_CONSUMO'].quantile(0.75)\n",
        "IQR_MAX = Q3_MAX - Q1_MAX\n",
        "\n",
        "print(train_df[((train_df['MEDIAN_ANT'] < (Q1_MED - 1.5 * IQR_MED)) | (train_df['MEDIAN_ANT'] > (Q3_MED + 1.5 * IQR_MED)))].shape)"
      ]
    },
    {
      "cell_type": "code",
      "execution_count": 51,
      "metadata": {
        "id": "mkwOuwrILLn1"
      },
      "outputs": [],
      "source": [
        "#train_df = train_df.drop(columns='DATA_INSTALACAO_HD_NOVO')\n",
        "\n",
        "Var_Categoricas = ['LOCA_ID', 'STCM_CDSETORCOMERCIAL', 'IPER_ID', 'IMOV_IDSUBCATEGORIAPRINCIPAL', 'POCO_ID', 'TIPO_HD', 'CAPACIDADE_HD']\n",
        "\n",
        "Var_Numericas = train_df.columns[~train_df.columns.isin(Var_Categoricas)]"
      ]
    },
    {
      "cell_type": "code",
      "execution_count": 52,
      "metadata": {
        "id": "PRkw_M00zvJp"
      },
      "outputs": [],
      "source": [
        "train_df = train_df[train_df['IDADE'] >= 0]"
      ]
    },
    {
      "cell_type": "code",
      "execution_count": 53,
      "metadata": {
        "id": "6okT7E3Mix5H"
      },
      "outputs": [],
      "source": [
        "train_df['MEAN_OUTLIER'] = [1 if (x < (Q1 - 1.5 * IQR)) | (x > (Q3 + 1.5 * IQR)) else 0 for x in train_df['MEAN_ANT']]\n",
        "\n",
        "train_df['SOMATORIO_CONSUMO_OUTLIER'] = [1 if (x < (Q1_SOM - 1.5 * IQR_SOM)) | (x > (Q3_SOM + 1.5 * IQR_SOM)) else 0 for x in train_df['SOMATORIO_CONSUMO']]\n",
        "\n",
        "train_df['MAX_CONSUMO_OUTLIER'] = [1 if (x < (Q1_MAX - 1.5 * IQR_MAX)) | (x > (Q3_MAX + 1.5 * IQR_MAX)) else 0 for x in train_df['MAX_CONSUMO']]"
      ]
    },
    {
      "cell_type": "code",
      "execution_count": 54,
      "metadata": {
        "id": "unjKPGZrrV9X",
        "colab": {
          "base_uri": "https://localhost:8080/"
        },
        "outputId": "e14c2601-60c6-404e-d977-39f531e02a13"
      },
      "outputs": [
        {
          "output_type": "execute_result",
          "data": {
            "text/plain": [
              "SOMATORIO_CONSUMO             43296.710732\n",
              "MAX_CONSUMO                   36112.772083\n",
              "SD_ANT                         7219.540972\n",
              "INTERCEPT                      5544.052901\n",
              "MEAN_ANT                       1516.619862\n",
              "TEMPO_ATIVIDADE                 359.363273\n",
              "SLOPE                           329.966861\n",
              "MEDIAN_ANT                      120.371665\n",
              "IMOV_NNMORADOR                   67.162818\n",
              "SOMATORIO_POR_MES                59.567648\n",
              "QUANTIDADERAS                    37.694623\n",
              "QTDANORMALIDADEANTTOTAL          27.847320\n",
              "CONT_ZEROS                        9.651810\n",
              "QTDECONOMIARESIDENCIAL            8.409979\n",
              "QUANTIDADECONTAS                  5.374225\n",
              "IDADE                             4.510949\n",
              "CAPACIDADE_HD                     2.222980\n",
              "QTDANORMALIDADELEITURA_ANT        2.054857\n",
              "QTDECONOMIACOMERCIAL              1.600741\n",
              "N_CORTES                          1.221926\n",
              "TIPO_HD                           0.651445\n",
              "POCO_ID                           0.647965\n",
              "MAX_CONSUMO_OUTLIER               0.344185\n",
              "SOMATORIO_CONSUMO_OUTLIER         0.288624\n",
              "MEAN_OUTLIER                      0.256054\n",
              "QTDECONOMIAPUBLICO                0.133186\n",
              "QTDECONOMIAINDUSTRIAL             0.060422\n",
              "dtype: float64"
            ]
          },
          "metadata": {},
          "execution_count": 54
        }
      ],
      "source": [
        "train_df[['IDADE', 'IMOV_NNMORADOR',\n",
        "       'QTDECONOMIARESIDENCIAL', 'QTDECONOMIACOMERCIAL',\n",
        "       'QTDECONOMIAINDUSTRIAL', 'QTDECONOMIAPUBLICO',\n",
        "       'QTDANORMALIDADEANTTOTAL', 'QTDANORMALIDADELEITURA_ANT',\n",
        "       'QUANTIDADECONTAS', 'QUANTIDADERAS', 'POCO_ID', 'N_CORTES', 'TIPO_HD',\n",
        "       'CAPACIDADE_HD', 'MAX_CONSUMO', 'SOMATORIO_CONSUMO', 'SLOPE',\n",
        "       'INTERCEPT', 'MEAN_ANT', 'MEDIAN_ANT', 'SD_ANT', 'MEAN_OUTLIER', 'SOMATORIO_CONSUMO_OUTLIER',\n",
        "       'MAX_CONSUMO_OUTLIER', 'CONT_ZEROS', 'SOMATORIO_POR_MES', 'TEMPO_ATIVIDADE']].std().sort_values(ascending=False)"
      ]
    },
    {
      "cell_type": "markdown",
      "metadata": {
        "id": "HxnZLNF7hU6x"
      },
      "source": [
        "### Preparação da base predict para aplicação do modelo"
      ]
    },
    {
      "cell_type": "code",
      "source": [
        "predict_df = predict_df.fillna(value = 0)"
      ],
      "metadata": {
        "id": "OIkWSdNUtRuX"
      },
      "execution_count": 55,
      "outputs": []
    },
    {
      "cell_type": "code",
      "execution_count": 56,
      "metadata": {
        "id": "fLH-4jB6hZkX",
        "colab": {
          "base_uri": "https://localhost:8080/",
          "height": 270
        },
        "outputId": "756fab6e-bc84-4cdf-c59b-cb9e9488206f"
      },
      "outputs": [
        {
          "output_type": "execute_result",
          "data": {
            "text/plain": [
              "   IMOV_ID  LOCA_ID  STCM_CDSETORCOMERCIAL  IPER_ID  \\\n",
              "0  6675220       41                    881        5   \n",
              "1  6799485       41                    881        5   \n",
              "2  6717756       41                    881        5   \n",
              "3  6841899       41                    691        5   \n",
              "4  6203396       41                    581        5   \n",
              "\n",
              "   IMOV_IDSUBCATEGORIAPRINCIPAL  IDADE DATA_INSTALACAO_HD  IMOV_NNMORADOR  \\\n",
              "0                            12     15           09/10/08             2.0   \n",
              "1                            12     12           19/11/11             1.0   \n",
              "2                            12     16           25/02/08             3.0   \n",
              "3                            12     16           26/01/09             3.0   \n",
              "4                            12     15           11/07/08             3.0   \n",
              "\n",
              "   QTDECONOMIARESIDENCIAL  QTDECONOMIACOMERCIAL  QTDECONOMIAINDUSTRIAL  \\\n",
              "0                       1                     0                      0   \n",
              "1                       1                     0                      0   \n",
              "2                       1                     0                      0   \n",
              "3                       1                     0                      0   \n",
              "4                       1                     0                      0   \n",
              "\n",
              "   QTDECONOMIAPUBLICO  QTDANORMALIDADEANTTOTAL  QTDANORMALIDADELEITURA_ANT  \\\n",
              "0                   0                       38                           0   \n",
              "1                   0                       40                           0   \n",
              "2                   0                       57                           0   \n",
              "3                   0                       80                           0   \n",
              "4                   0                       43                           0   \n",
              "\n",
              "   QUANTIDADECONTAS  QUANTIDADERAS  POCO_ID  N_CORTES  TIPO_HD  CAPACIDADE_HD  \\\n",
              "0                 1              2      0.0       0.0        2              8   \n",
              "1                 1              1      0.0       0.0        2              2   \n",
              "2                 2              5      0.0       0.0        2              8   \n",
              "3                 1              4      0.0       0.0        2              8   \n",
              "4                 2             11      0.0       1.0        2              8   \n",
              "\n",
              "   CONS_MED_ANT_M1  CONS_MED_ANT_M2  CONS_MED_ANT_M3  CONS_MED_ANT_M4  \\\n",
              "0              5.0              3.0              3.0              4.0   \n",
              "1              0.0              0.0              0.0              0.0   \n",
              "2              3.0              5.0              4.0              2.0   \n",
              "3              0.0              0.0              1.0              0.0   \n",
              "4             11.0             14.0             13.0             13.0   \n",
              "\n",
              "   CONS_MED_ANT_M5  CONS_MED_ANT_M6  CONS_MED_ANT_M7  CONS_MED_ANT_M8  \\\n",
              "0              4.0              4.0              4.0              3.0   \n",
              "1              0.0              0.0              0.0              0.0   \n",
              "2              4.0              3.0              3.0              0.0   \n",
              "3              0.0              1.0              0.0              1.0   \n",
              "4             13.0             11.0             11.0             10.0   \n",
              "\n",
              "   CONS_MED_ANT_M9  CONS_MED_ANT_M10  CONS_MED_ANT_M11  CONS_MED_ANT_M12  \\\n",
              "0              5.0               3.0               2.0               4.0   \n",
              "1              0.0               0.0               0.0               0.0   \n",
              "2              2.0               2.0               3.0               2.0   \n",
              "3              0.0               1.0               2.0               1.0   \n",
              "4             12.0              10.0              10.0              12.0   \n",
              "\n",
              "   CONS_MED_ANT_M13  CONS_MED_ANT_M14  CONS_MED_ANT_M15  CONS_MED_ANT_M16  \\\n",
              "0               4.0               4.0               2.0               6.0   \n",
              "1               0.0               0.0               0.0               0.0   \n",
              "2               2.0               1.0               2.0               0.0   \n",
              "3               1.0               0.0               0.0               0.0   \n",
              "4              13.0               9.0               9.0               8.0   \n",
              "\n",
              "   CONS_MED_ANT_M17  CONS_MED_ANT_M18  CONS_MED_ANT_M19  CONS_MED_ANT_M20  \\\n",
              "0               3.0               5.0               2.0               3.0   \n",
              "1               0.0               0.0               0.0               0.0   \n",
              "2               2.0               1.0               1.0               1.0   \n",
              "3               1.0               0.0               1.0               1.0   \n",
              "4               7.0               2.0               0.0               5.0   \n",
              "\n",
              "   CONS_MED_ANT_M21  CONS_MED_ANT_M22  CONS_MED_ANT_M23  CONS_MED_ANT_M24  \\\n",
              "0               3.0               3.0               5.0               7.0   \n",
              "1               0.0               0.0               0.0               0.0   \n",
              "2               2.0               2.0               0.0               2.0   \n",
              "3               2.0               1.0               0.0               1.0   \n",
              "4               7.0               3.0              18.0              22.0   \n",
              "\n",
              "   MAX_CONSUMO  SOMATORIO_CONSUMO  \n",
              "0          9.0              464.0  \n",
              "1          1.0                1.0  \n",
              "2         55.0              627.0  \n",
              "3         10.0              156.0  \n",
              "4         71.0              622.0  "
            ],
            "text/html": [
              "\n",
              "  <div id=\"df-ab199dac-b69a-49bf-8fd8-de8637432950\">\n",
              "    <div class=\"colab-df-container\">\n",
              "      <div>\n",
              "<style scoped>\n",
              "    .dataframe tbody tr th:only-of-type {\n",
              "        vertical-align: middle;\n",
              "    }\n",
              "\n",
              "    .dataframe tbody tr th {\n",
              "        vertical-align: top;\n",
              "    }\n",
              "\n",
              "    .dataframe thead th {\n",
              "        text-align: right;\n",
              "    }\n",
              "</style>\n",
              "<table border=\"1\" class=\"dataframe\">\n",
              "  <thead>\n",
              "    <tr style=\"text-align: right;\">\n",
              "      <th></th>\n",
              "      <th>IMOV_ID</th>\n",
              "      <th>LOCA_ID</th>\n",
              "      <th>STCM_CDSETORCOMERCIAL</th>\n",
              "      <th>IPER_ID</th>\n",
              "      <th>IMOV_IDSUBCATEGORIAPRINCIPAL</th>\n",
              "      <th>IDADE</th>\n",
              "      <th>DATA_INSTALACAO_HD</th>\n",
              "      <th>IMOV_NNMORADOR</th>\n",
              "      <th>QTDECONOMIARESIDENCIAL</th>\n",
              "      <th>QTDECONOMIACOMERCIAL</th>\n",
              "      <th>QTDECONOMIAINDUSTRIAL</th>\n",
              "      <th>QTDECONOMIAPUBLICO</th>\n",
              "      <th>QTDANORMALIDADEANTTOTAL</th>\n",
              "      <th>QTDANORMALIDADELEITURA_ANT</th>\n",
              "      <th>QUANTIDADECONTAS</th>\n",
              "      <th>QUANTIDADERAS</th>\n",
              "      <th>POCO_ID</th>\n",
              "      <th>N_CORTES</th>\n",
              "      <th>TIPO_HD</th>\n",
              "      <th>CAPACIDADE_HD</th>\n",
              "      <th>CONS_MED_ANT_M1</th>\n",
              "      <th>CONS_MED_ANT_M2</th>\n",
              "      <th>CONS_MED_ANT_M3</th>\n",
              "      <th>CONS_MED_ANT_M4</th>\n",
              "      <th>CONS_MED_ANT_M5</th>\n",
              "      <th>CONS_MED_ANT_M6</th>\n",
              "      <th>CONS_MED_ANT_M7</th>\n",
              "      <th>CONS_MED_ANT_M8</th>\n",
              "      <th>CONS_MED_ANT_M9</th>\n",
              "      <th>CONS_MED_ANT_M10</th>\n",
              "      <th>CONS_MED_ANT_M11</th>\n",
              "      <th>CONS_MED_ANT_M12</th>\n",
              "      <th>CONS_MED_ANT_M13</th>\n",
              "      <th>CONS_MED_ANT_M14</th>\n",
              "      <th>CONS_MED_ANT_M15</th>\n",
              "      <th>CONS_MED_ANT_M16</th>\n",
              "      <th>CONS_MED_ANT_M17</th>\n",
              "      <th>CONS_MED_ANT_M18</th>\n",
              "      <th>CONS_MED_ANT_M19</th>\n",
              "      <th>CONS_MED_ANT_M20</th>\n",
              "      <th>CONS_MED_ANT_M21</th>\n",
              "      <th>CONS_MED_ANT_M22</th>\n",
              "      <th>CONS_MED_ANT_M23</th>\n",
              "      <th>CONS_MED_ANT_M24</th>\n",
              "      <th>MAX_CONSUMO</th>\n",
              "      <th>SOMATORIO_CONSUMO</th>\n",
              "    </tr>\n",
              "  </thead>\n",
              "  <tbody>\n",
              "    <tr>\n",
              "      <th>0</th>\n",
              "      <td>6675220</td>\n",
              "      <td>41</td>\n",
              "      <td>881</td>\n",
              "      <td>5</td>\n",
              "      <td>12</td>\n",
              "      <td>15</td>\n",
              "      <td>09/10/08</td>\n",
              "      <td>2.0</td>\n",
              "      <td>1</td>\n",
              "      <td>0</td>\n",
              "      <td>0</td>\n",
              "      <td>0</td>\n",
              "      <td>38</td>\n",
              "      <td>0</td>\n",
              "      <td>1</td>\n",
              "      <td>2</td>\n",
              "      <td>0.0</td>\n",
              "      <td>0.0</td>\n",
              "      <td>2</td>\n",
              "      <td>8</td>\n",
              "      <td>5.0</td>\n",
              "      <td>3.0</td>\n",
              "      <td>3.0</td>\n",
              "      <td>4.0</td>\n",
              "      <td>4.0</td>\n",
              "      <td>4.0</td>\n",
              "      <td>4.0</td>\n",
              "      <td>3.0</td>\n",
              "      <td>5.0</td>\n",
              "      <td>3.0</td>\n",
              "      <td>2.0</td>\n",
              "      <td>4.0</td>\n",
              "      <td>4.0</td>\n",
              "      <td>4.0</td>\n",
              "      <td>2.0</td>\n",
              "      <td>6.0</td>\n",
              "      <td>3.0</td>\n",
              "      <td>5.0</td>\n",
              "      <td>2.0</td>\n",
              "      <td>3.0</td>\n",
              "      <td>3.0</td>\n",
              "      <td>3.0</td>\n",
              "      <td>5.0</td>\n",
              "      <td>7.0</td>\n",
              "      <td>9.0</td>\n",
              "      <td>464.0</td>\n",
              "    </tr>\n",
              "    <tr>\n",
              "      <th>1</th>\n",
              "      <td>6799485</td>\n",
              "      <td>41</td>\n",
              "      <td>881</td>\n",
              "      <td>5</td>\n",
              "      <td>12</td>\n",
              "      <td>12</td>\n",
              "      <td>19/11/11</td>\n",
              "      <td>1.0</td>\n",
              "      <td>1</td>\n",
              "      <td>0</td>\n",
              "      <td>0</td>\n",
              "      <td>0</td>\n",
              "      <td>40</td>\n",
              "      <td>0</td>\n",
              "      <td>1</td>\n",
              "      <td>1</td>\n",
              "      <td>0.0</td>\n",
              "      <td>0.0</td>\n",
              "      <td>2</td>\n",
              "      <td>2</td>\n",
              "      <td>0.0</td>\n",
              "      <td>0.0</td>\n",
              "      <td>0.0</td>\n",
              "      <td>0.0</td>\n",
              "      <td>0.0</td>\n",
              "      <td>0.0</td>\n",
              "      <td>0.0</td>\n",
              "      <td>0.0</td>\n",
              "      <td>0.0</td>\n",
              "      <td>0.0</td>\n",
              "      <td>0.0</td>\n",
              "      <td>0.0</td>\n",
              "      <td>0.0</td>\n",
              "      <td>0.0</td>\n",
              "      <td>0.0</td>\n",
              "      <td>0.0</td>\n",
              "      <td>0.0</td>\n",
              "      <td>0.0</td>\n",
              "      <td>0.0</td>\n",
              "      <td>0.0</td>\n",
              "      <td>0.0</td>\n",
              "      <td>0.0</td>\n",
              "      <td>0.0</td>\n",
              "      <td>0.0</td>\n",
              "      <td>1.0</td>\n",
              "      <td>1.0</td>\n",
              "    </tr>\n",
              "    <tr>\n",
              "      <th>2</th>\n",
              "      <td>6717756</td>\n",
              "      <td>41</td>\n",
              "      <td>881</td>\n",
              "      <td>5</td>\n",
              "      <td>12</td>\n",
              "      <td>16</td>\n",
              "      <td>25/02/08</td>\n",
              "      <td>3.0</td>\n",
              "      <td>1</td>\n",
              "      <td>0</td>\n",
              "      <td>0</td>\n",
              "      <td>0</td>\n",
              "      <td>57</td>\n",
              "      <td>0</td>\n",
              "      <td>2</td>\n",
              "      <td>5</td>\n",
              "      <td>0.0</td>\n",
              "      <td>0.0</td>\n",
              "      <td>2</td>\n",
              "      <td>8</td>\n",
              "      <td>3.0</td>\n",
              "      <td>5.0</td>\n",
              "      <td>4.0</td>\n",
              "      <td>2.0</td>\n",
              "      <td>4.0</td>\n",
              "      <td>3.0</td>\n",
              "      <td>3.0</td>\n",
              "      <td>0.0</td>\n",
              "      <td>2.0</td>\n",
              "      <td>2.0</td>\n",
              "      <td>3.0</td>\n",
              "      <td>2.0</td>\n",
              "      <td>2.0</td>\n",
              "      <td>1.0</td>\n",
              "      <td>2.0</td>\n",
              "      <td>0.0</td>\n",
              "      <td>2.0</td>\n",
              "      <td>1.0</td>\n",
              "      <td>1.0</td>\n",
              "      <td>1.0</td>\n",
              "      <td>2.0</td>\n",
              "      <td>2.0</td>\n",
              "      <td>0.0</td>\n",
              "      <td>2.0</td>\n",
              "      <td>55.0</td>\n",
              "      <td>627.0</td>\n",
              "    </tr>\n",
              "    <tr>\n",
              "      <th>3</th>\n",
              "      <td>6841899</td>\n",
              "      <td>41</td>\n",
              "      <td>691</td>\n",
              "      <td>5</td>\n",
              "      <td>12</td>\n",
              "      <td>16</td>\n",
              "      <td>26/01/09</td>\n",
              "      <td>3.0</td>\n",
              "      <td>1</td>\n",
              "      <td>0</td>\n",
              "      <td>0</td>\n",
              "      <td>0</td>\n",
              "      <td>80</td>\n",
              "      <td>0</td>\n",
              "      <td>1</td>\n",
              "      <td>4</td>\n",
              "      <td>0.0</td>\n",
              "      <td>0.0</td>\n",
              "      <td>2</td>\n",
              "      <td>8</td>\n",
              "      <td>0.0</td>\n",
              "      <td>0.0</td>\n",
              "      <td>1.0</td>\n",
              "      <td>0.0</td>\n",
              "      <td>0.0</td>\n",
              "      <td>1.0</td>\n",
              "      <td>0.0</td>\n",
              "      <td>1.0</td>\n",
              "      <td>0.0</td>\n",
              "      <td>1.0</td>\n",
              "      <td>2.0</td>\n",
              "      <td>1.0</td>\n",
              "      <td>1.0</td>\n",
              "      <td>0.0</td>\n",
              "      <td>0.0</td>\n",
              "      <td>0.0</td>\n",
              "      <td>1.0</td>\n",
              "      <td>0.0</td>\n",
              "      <td>1.0</td>\n",
              "      <td>1.0</td>\n",
              "      <td>2.0</td>\n",
              "      <td>1.0</td>\n",
              "      <td>0.0</td>\n",
              "      <td>1.0</td>\n",
              "      <td>10.0</td>\n",
              "      <td>156.0</td>\n",
              "    </tr>\n",
              "    <tr>\n",
              "      <th>4</th>\n",
              "      <td>6203396</td>\n",
              "      <td>41</td>\n",
              "      <td>581</td>\n",
              "      <td>5</td>\n",
              "      <td>12</td>\n",
              "      <td>15</td>\n",
              "      <td>11/07/08</td>\n",
              "      <td>3.0</td>\n",
              "      <td>1</td>\n",
              "      <td>0</td>\n",
              "      <td>0</td>\n",
              "      <td>0</td>\n",
              "      <td>43</td>\n",
              "      <td>0</td>\n",
              "      <td>2</td>\n",
              "      <td>11</td>\n",
              "      <td>0.0</td>\n",
              "      <td>1.0</td>\n",
              "      <td>2</td>\n",
              "      <td>8</td>\n",
              "      <td>11.0</td>\n",
              "      <td>14.0</td>\n",
              "      <td>13.0</td>\n",
              "      <td>13.0</td>\n",
              "      <td>13.0</td>\n",
              "      <td>11.0</td>\n",
              "      <td>11.0</td>\n",
              "      <td>10.0</td>\n",
              "      <td>12.0</td>\n",
              "      <td>10.0</td>\n",
              "      <td>10.0</td>\n",
              "      <td>12.0</td>\n",
              "      <td>13.0</td>\n",
              "      <td>9.0</td>\n",
              "      <td>9.0</td>\n",
              "      <td>8.0</td>\n",
              "      <td>7.0</td>\n",
              "      <td>2.0</td>\n",
              "      <td>0.0</td>\n",
              "      <td>5.0</td>\n",
              "      <td>7.0</td>\n",
              "      <td>3.0</td>\n",
              "      <td>18.0</td>\n",
              "      <td>22.0</td>\n",
              "      <td>71.0</td>\n",
              "      <td>622.0</td>\n",
              "    </tr>\n",
              "  </tbody>\n",
              "</table>\n",
              "</div>\n",
              "      <button class=\"colab-df-convert\" onclick=\"convertToInteractive('df-ab199dac-b69a-49bf-8fd8-de8637432950')\"\n",
              "              title=\"Convert this dataframe to an interactive table.\"\n",
              "              style=\"display:none;\">\n",
              "        \n",
              "  <svg xmlns=\"http://www.w3.org/2000/svg\" height=\"24px\"viewBox=\"0 0 24 24\"\n",
              "       width=\"24px\">\n",
              "    <path d=\"M0 0h24v24H0V0z\" fill=\"none\"/>\n",
              "    <path d=\"M18.56 5.44l.94 2.06.94-2.06 2.06-.94-2.06-.94-.94-2.06-.94 2.06-2.06.94zm-11 1L8.5 8.5l.94-2.06 2.06-.94-2.06-.94L8.5 2.5l-.94 2.06-2.06.94zm10 10l.94 2.06.94-2.06 2.06-.94-2.06-.94-.94-2.06-.94 2.06-2.06.94z\"/><path d=\"M17.41 7.96l-1.37-1.37c-.4-.4-.92-.59-1.43-.59-.52 0-1.04.2-1.43.59L10.3 9.45l-7.72 7.72c-.78.78-.78 2.05 0 2.83L4 21.41c.39.39.9.59 1.41.59.51 0 1.02-.2 1.41-.59l7.78-7.78 2.81-2.81c.8-.78.8-2.07 0-2.86zM5.41 20L4 18.59l7.72-7.72 1.47 1.35L5.41 20z\"/>\n",
              "  </svg>\n",
              "      </button>\n",
              "      \n",
              "  <style>\n",
              "    .colab-df-container {\n",
              "      display:flex;\n",
              "      flex-wrap:wrap;\n",
              "      gap: 12px;\n",
              "    }\n",
              "\n",
              "    .colab-df-convert {\n",
              "      background-color: #E8F0FE;\n",
              "      border: none;\n",
              "      border-radius: 50%;\n",
              "      cursor: pointer;\n",
              "      display: none;\n",
              "      fill: #1967D2;\n",
              "      height: 32px;\n",
              "      padding: 0 0 0 0;\n",
              "      width: 32px;\n",
              "    }\n",
              "\n",
              "    .colab-df-convert:hover {\n",
              "      background-color: #E2EBFA;\n",
              "      box-shadow: 0px 1px 2px rgba(60, 64, 67, 0.3), 0px 1px 3px 1px rgba(60, 64, 67, 0.15);\n",
              "      fill: #174EA6;\n",
              "    }\n",
              "\n",
              "    [theme=dark] .colab-df-convert {\n",
              "      background-color: #3B4455;\n",
              "      fill: #D2E3FC;\n",
              "    }\n",
              "\n",
              "    [theme=dark] .colab-df-convert:hover {\n",
              "      background-color: #434B5C;\n",
              "      box-shadow: 0px 1px 3px 1px rgba(0, 0, 0, 0.15);\n",
              "      filter: drop-shadow(0px 1px 2px rgba(0, 0, 0, 0.3));\n",
              "      fill: #FFFFFF;\n",
              "    }\n",
              "  </style>\n",
              "\n",
              "      <script>\n",
              "        const buttonEl =\n",
              "          document.querySelector('#df-ab199dac-b69a-49bf-8fd8-de8637432950 button.colab-df-convert');\n",
              "        buttonEl.style.display =\n",
              "          google.colab.kernel.accessAllowed ? 'block' : 'none';\n",
              "\n",
              "        async function convertToInteractive(key) {\n",
              "          const element = document.querySelector('#df-ab199dac-b69a-49bf-8fd8-de8637432950');\n",
              "          const dataTable =\n",
              "            await google.colab.kernel.invokeFunction('convertToInteractive',\n",
              "                                                     [key], {});\n",
              "          if (!dataTable) return;\n",
              "\n",
              "          const docLinkHtml = 'Like what you see? Visit the ' +\n",
              "            '<a target=\"_blank\" href=https://colab.research.google.com/notebooks/data_table.ipynb>data table notebook</a>'\n",
              "            + ' to learn more about interactive tables.';\n",
              "          element.innerHTML = '';\n",
              "          dataTable['output_type'] = 'display_data';\n",
              "          await google.colab.output.renderOutput(dataTable, element);\n",
              "          const docLink = document.createElement('div');\n",
              "          docLink.innerHTML = docLinkHtml;\n",
              "          element.appendChild(docLink);\n",
              "        }\n",
              "      </script>\n",
              "    </div>\n",
              "  </div>\n",
              "  "
            ]
          },
          "metadata": {},
          "execution_count": 56
        }
      ],
      "source": [
        "predict_df.head()"
      ]
    },
    {
      "cell_type": "code",
      "execution_count": 57,
      "metadata": {
        "id": "5iFROm1OkAsG"
      },
      "outputs": [],
      "source": [
        "predict_df['DATA_INSTALACAO_HD'] = pd.to_datetime(predict_df['DATA_INSTALACAO_HD'])\n",
        "\n",
        "today = pd.datetime.today()\n",
        "\n",
        "predict_df['TEMPO_ATIVIDADE'] = (today - predict_df['DATA_INSTALACAO_HD'])\n",
        "\n",
        "predict_df['TEMPO_ATIVIDADE'] = predict_df['TEMPO_ATIVIDADE'].dt.days\n",
        "\n",
        "predict_df['SOMATORIO_POR_MES'] = predict_df['SOMATORIO_CONSUMO']/predict_df['TEMPO_ATIVIDADE']\n",
        "\n",
        "#predict_df = predict_df.drop(columns=['DATA_INSTALACAO_HD'])\n",
        "\n",
        "#predict_df = predict_df[predict_df['TEMPO_ATIVIDADE'] > 1080] #Filtro para avaliar apenas HD trocados com pelo menos 36 meses"
      ]
    },
    {
      "cell_type": "code",
      "execution_count": 58,
      "metadata": {
        "id": "pWqO805zZVgW",
        "colab": {
          "base_uri": "https://localhost:8080/"
        },
        "outputId": "0f0d2833-60a4-47e1-9b8c-281c9778692e"
      },
      "outputs": [
        {
          "output_type": "execute_result",
          "data": {
            "text/plain": [
              "Index(['CONS_MED_ANT_M1', 'CONS_MED_ANT_M2', 'CONS_MED_ANT_M3',\n",
              "       'CONS_MED_ANT_M4', 'CONS_MED_ANT_M5', 'CONS_MED_ANT_M6',\n",
              "       'CONS_MED_ANT_M7', 'CONS_MED_ANT_M8', 'CONS_MED_ANT_M9',\n",
              "       'CONS_MED_ANT_M10', 'CONS_MED_ANT_M11', 'CONS_MED_ANT_M12'],\n",
              "      dtype='object')"
            ]
          },
          "metadata": {},
          "execution_count": 58
        }
      ],
      "source": [
        "predict_df.columns[20:32]"
      ]
    },
    {
      "cell_type": "code",
      "execution_count": 59,
      "metadata": {
        "id": "6NXzc6M8hlLY"
      },
      "outputs": [],
      "source": [
        "matriculas = predict_df['IMOV_ID']\n",
        "\n",
        "r2_pred = []\n",
        "\n",
        "slope_pred = []\n",
        "\n",
        "slope_pred_6 = []\n",
        "\n",
        "intercept_pred = []\n",
        "\n",
        "intercept_pred_6 = []\n",
        "\n",
        "mean_ant_pred = []\n",
        "\n",
        "median_ant_pred = []\n",
        "\n",
        "sd_ant_pred = []\n",
        "\n",
        "matriculas_list_pred = []\n",
        "\n",
        "cont_zeros = []\n",
        "\n",
        "x = np.arange(1, 13, 1,  dtype=int)\n",
        "for matricula in matriculas:\n",
        "  frame = predict_df[predict_df['IMOV_ID'] == matricula]\n",
        "  \n",
        "  y_ant_pred = frame.iloc[0, 20:32]\n",
        "\n",
        "  mean_ant_pred.append(y_ant_pred.mean())\n",
        "\n",
        "  median_ant_pred.append(y_ant_pred.median())\n",
        "\n",
        "  sd_ant_pred.append(y_ant_pred.std())\n",
        "\n",
        "  cont_zeros.append(sum(y_ant_pred == 0))\n",
        "\n",
        "  res = stats.linregress(x,y_ant_pred.astype(float))\n",
        "\n",
        "  r2_pred.append(res.rvalue**2)\n",
        "\n",
        "  slope_pred.append(res.slope)\n",
        "\n",
        "  intercept_pred.append(res.intercept)\n",
        "\n",
        "  matriculas_list_pred.append(matricula)\n",
        "\n",
        "x = np.arange(1, 7, 1,  dtype=int)\n",
        "for matricula in matriculas:\n",
        "  frame = predict_df[predict_df['IMOV_ID'] == matricula]\n",
        "\n",
        "  y_ant_pred_6 = frame.iloc[0, 20:26]\n",
        "\n",
        "  res_6 = stats.linregress(x,y_ant_pred_6.astype(float))\n",
        "\n",
        "  slope_pred_6.append(res_6.slope)\n",
        "\n",
        "  intercept_pred_6.append(res_6.intercept)"
      ]
    },
    {
      "cell_type": "code",
      "execution_count": 60,
      "metadata": {
        "id": "wkxrqkGgjjCM"
      },
      "outputs": [],
      "source": [
        "df_linregress_pred = pd.DataFrame(list(zip(matriculas_list_pred, r2_pred, slope_pred, slope_pred_6, intercept_pred, intercept_pred_6, mean_ant_pred, median_ant_pred, sd_ant_pred, cont_zeros)),\n",
        "                             columns = ['MATRICULAS', 'r2', 'SLOPE', 'SLOPE_6','INTERCEPT', 'INTERCEPT_6', 'MEAN_ANT', 'MEDIAN_ANT', 'SD_ANT', 'CONT_ZEROS'])"
      ]
    },
    {
      "cell_type": "code",
      "execution_count": 61,
      "metadata": {
        "id": "et-2RppGj8Qe"
      },
      "outputs": [],
      "source": [
        "predict_df = predict_df.merge(df_linregress_pred, left_on= 'IMOV_ID', right_on='MATRICULAS')\n",
        "\n",
        "predict_df = predict_df.drop(columns=['MATRICULAS'])"
      ]
    },
    {
      "cell_type": "code",
      "execution_count": 62,
      "metadata": {
        "id": "QVaOOAkv13kH"
      },
      "outputs": [],
      "source": [
        "predict_df = predict_df[(predict_df['MAX_CONSUMO'] > 0) &\n",
        "                        (predict_df['SOMATORIO_CONSUMO'] > 100) &\n",
        "                        (predict_df['CAPACIDADE_HD'] <= 20)]"
      ]
    },
    {
      "cell_type": "code",
      "execution_count": 63,
      "metadata": {
        "id": "28xiMptbbOKC"
      },
      "outputs": [],
      "source": [
        "pred_Q1 = predict_df['MEAN_ANT'].quantile(0.25)\n",
        "pred_Q3 = predict_df['MEAN_ANT'].quantile(0.75)\n",
        "pred_IQR = pred_Q3 - pred_Q1\n",
        "\n",
        "#iqr_frame = predict_df[~((predict_df['MEAN_ANT'] < (pred_Q1 - 1.5 * pred_IQR)) | (predict_df['MEAN_ANT'] > (pred_Q3 + 1.5 * pred_IQR)))]\n",
        "\n",
        "pred_Q1_SOM = predict_df['SOMATORIO_CONSUMO'].quantile(0.25)\n",
        "pred_Q3_SOM = predict_df['SOMATORIO_CONSUMO'].quantile(0.75)\n",
        "pred_IQR_SOM = pred_Q3_SOM - pred_Q1_SOM\n",
        "\n",
        "pred_Q1_MAX = predict_df['MAX_CONSUMO'].quantile(0.25)\n",
        "pred_Q3_MAX = predict_df['MAX_CONSUMO'].quantile(0.75)\n",
        "pred_IQR_MAX = pred_Q3_MAX - pred_Q1_MAX"
      ]
    },
    {
      "cell_type": "code",
      "execution_count": 64,
      "metadata": {
        "id": "XSm16N-er5nR"
      },
      "outputs": [],
      "source": [
        "predict_df['MEAN_OUTLIER'] = [1 if (x < (pred_Q1 - 1.5 * pred_IQR)) | (x > (pred_Q3 + 1.5 * pred_IQR)) else 0 for x in predict_df['MEAN_ANT']]\n",
        "\n",
        "predict_df['SOMATORIO_CONSUMO_OUTLIER'] = [1 if (x < (pred_Q1_SOM - 1.5 * pred_IQR_SOM)) | (x > (pred_Q3_SOM + 1.5 * pred_IQR_SOM)) else 0 for x in predict_df['SOMATORIO_CONSUMO']]\n",
        "\n",
        "predict_df['MAX_CONSUMO_OUTLIER'] = [1 if (x < (pred_Q1_MAX - 1.5 * pred_IQR_MAX)) | (x > (pred_Q3_MAX + 1.5 * pred_IQR_MAX)) else 0 for x in predict_df['MAX_CONSUMO']]\n",
        "\n",
        "predict_df = predict_df.reset_index().drop(columns='index')"
      ]
    },
    {
      "cell_type": "markdown",
      "metadata": {
        "id": "V-Sa1Lw_FXhW"
      },
      "source": [
        "### Teste do Modelo na base de treino"
      ]
    },
    {
      "cell_type": "code",
      "execution_count": 65,
      "metadata": {
        "id": "66ckSTamBYik"
      },
      "outputs": [],
      "source": [
        "#Y = train_df.iloc[:, -2]\n",
        "\n",
        "Y = train_df.iloc[:, -8]\n",
        "\n",
        "#X = train_df.drop(columns='RESULT_MEAN')\n",
        "#X = iqr_frame.drop(columns='RESULT_MEAN')\n",
        "X = train_df.loc[:,['LOCA_ID', 'STCM_CDSETORCOMERCIAL', 'IPER_ID',\n",
        "       'IMOV_IDSUBCATEGORIAPRINCIPAL', 'IDADE', 'IMOV_NNMORADOR',\n",
        "       'QTDECONOMIARESIDENCIAL', 'QTDECONOMIACOMERCIAL',\n",
        "       'QTDECONOMIAINDUSTRIAL', 'QTDECONOMIAPUBLICO',\n",
        "       'QTDANORMALIDADEANTTOTAL', 'QTDANORMALIDADELEITURA_ANT',\n",
        "       'QUANTIDADECONTAS', 'QUANTIDADERAS', 'POCO_ID', 'N_CORTES', 'TIPO_HD', 'CAPACIDADE_HD',\n",
        "       'MAX_CONSUMO', 'SOMATORIO_CONSUMO', 'r2', 'SLOPE', 'SLOPE_6', 'INTERCEPT', 'INTERCEPT_6', 'MEAN_ANT',\n",
        "       'MEDIAN_ANT', 'SD_ANT', 'MEAN_OUTLIER', 'SOMATORIO_CONSUMO_OUTLIER', 'MAX_CONSUMO_OUTLIER',\n",
        "        'CONT_ZEROS','SOMATORIO_POR_MES','TEMPO_ATIVIDADE']]\n",
        "\n",
        "X_train, X_test, Y_train, Y_test = train_test_split(X, Y, test_size = 0.2, random_state=5) # Separação da base de treino para evitar overfitting"
      ]
    },
    {
      "cell_type": "code",
      "source": [
        "train_df.columns[-8]"
      ],
      "metadata": {
        "id": "vxJLzMMQYxjq",
        "colab": {
          "base_uri": "https://localhost:8080/",
          "height": 35
        },
        "outputId": "75c7871c-f954-4dd4-b3fd-eb27a5caff9d"
      },
      "execution_count": 66,
      "outputs": [
        {
          "output_type": "execute_result",
          "data": {
            "text/plain": [
              "'RESULT_MEAN'"
            ],
            "application/vnd.google.colaboratory.intrinsic+json": {
              "type": "string"
            }
          },
          "metadata": {},
          "execution_count": 66
        }
      ]
    },
    {
      "cell_type": "code",
      "source": [
        "Y_train.value_counts()"
      ],
      "metadata": {
        "id": "IDoE7P7xYyR0",
        "colab": {
          "base_uri": "https://localhost:8080/"
        },
        "outputId": "e74a4f36-3143-48bb-c08c-790011751f63"
      },
      "execution_count": 67,
      "outputs": [
        {
          "output_type": "execute_result",
          "data": {
            "text/plain": [
              "0    65367\n",
              "1    27869\n",
              "Name: RESULT_MEAN, dtype: int64"
            ]
          },
          "metadata": {},
          "execution_count": 67
        }
      ]
    },
    {
      "cell_type": "code",
      "source": [
        "Y_test.value_counts()"
      ],
      "metadata": {
        "colab": {
          "base_uri": "https://localhost:8080/"
        },
        "id": "xbHc3cuOEVZn",
        "outputId": "946c427f-b012-4d38-baf5-cfdb0db384d4"
      },
      "execution_count": 68,
      "outputs": [
        {
          "output_type": "execute_result",
          "data": {
            "text/plain": [
              "0    16265\n",
              "1     7045\n",
              "Name: RESULT_MEAN, dtype: int64"
            ]
          },
          "metadata": {},
          "execution_count": 68
        }
      ]
    },
    {
      "cell_type": "markdown",
      "source": [
        "### LGBMClassifier"
      ],
      "metadata": {
        "id": "d4ECC0lSYorr"
      }
    },
    {
      "cell_type": "code",
      "execution_count": 69,
      "metadata": {
        "id": "iqCSlurebLS_",
        "colab": {
          "base_uri": "https://localhost:8080/"
        },
        "outputId": "e9c48dec-6be5-4bf0-a6b1-c70eaa8edf81"
      },
      "outputs": [
        {
          "output_type": "stream",
          "name": "stdout",
          "text": [
            "LightGBM Model accuracy score: 74.25%\n"
          ]
        }
      ],
      "source": [
        "'''preprocessor = ColumnTransformer(\n",
        "    transformers=[('num', StandardScaler(), Var_Numericas.to_list())])\n",
        "\n",
        "clf = make_pipeline(preprocessor, lgb.LGBMClassifier())'''\n",
        "\n",
        "clf = lgb.LGBMClassifier()\n",
        "\n",
        "clf.fit(X_train, Y_train)\n",
        "\n",
        "Y_pred = clf.predict(X_test)\n",
        "\n",
        "accuracy = accuracy_score(Y_pred, Y_test)\n",
        "\n",
        "print('LightGBM Model accuracy score: {:.2%}'.format(accuracy_score(Y_test, Y_pred)))"
      ]
    },
    {
      "cell_type": "code",
      "source": [
        "print('\\n')\n",
        "print('Confusion Matrix:')\n",
        "\n",
        "ConfusionMatrixDisplay.from_predictions(Y_test, Y_pred)\n",
        "plt.show()"
      ],
      "metadata": {
        "id": "Krd4cFpew6tN",
        "colab": {
          "base_uri": "https://localhost:8080/",
          "height": 501
        },
        "outputId": "1dcd2b34-eff3-4f1c-ee2a-50964c28bffb"
      },
      "execution_count": 70,
      "outputs": [
        {
          "output_type": "stream",
          "name": "stdout",
          "text": [
            "\n",
            "\n",
            "Confusion Matrix:\n"
          ]
        },
        {
          "output_type": "display_data",
          "data": {
            "text/plain": [
              "<Figure size 640x480 with 2 Axes>"
            ],
            "image/png": "[encoded data removed]"
          },
          "metadata": {}
        }
      ]
    },
    {
      "cell_type": "markdown",
      "source": [
        "### Random Forest"
      ],
      "metadata": {
        "id": "VMxFvcSCYc6n"
      }
    },
    {
      "cell_type": "code",
      "execution_count": 71,
      "metadata": {
        "id": "8c5vpZ5jrwVt",
        "colab": {
          "base_uri": "https://localhost:8080/"
        },
        "outputId": "100cc732-1de9-40ad-ed4c-f5a4467838f8"
      },
      "outputs": [
        {
          "output_type": "execute_result",
          "data": {
            "text/plain": [
              "73.96"
            ]
          },
          "metadata": {},
          "execution_count": 71
        }
      ],
      "source": [
        "random_forest = RandomForestClassifier(n_estimators=100)\n",
        "\n",
        "random_forest.fit(X_train, Y_train)\n",
        "\n",
        "Y_pred = random_forest.predict(X_test)\n",
        "\n",
        "random_forest.score(X_test, Y_test)\n",
        "\n",
        "acc_random_forest = round(random_forest.score(X_test, Y_test) * 100, 2)\n",
        "\n",
        "acc_random_forest"
      ]
    },
    {
      "cell_type": "code",
      "source": [
        "print(\"Accuracy do modelo: {:.2%}\".format(accuracy_score(Y_pred,Y_test)))\n",
        "print('\\n')\n",
        "print('Confusion Matrix:')\n",
        "\n",
        "ConfusionMatrixDisplay.from_predictions(Y_test, Y_pred)\n",
        "plt.show()"
      ],
      "metadata": {
        "colab": {
          "base_uri": "https://localhost:8080/",
          "height": 518
        },
        "id": "CxY4FNJZgyt9",
        "outputId": "9f8474d3-d64d-4b10-9075-b86fc8dbc30a"
      },
      "execution_count": 72,
      "outputs": [
        {
          "output_type": "stream",
          "name": "stdout",
          "text": [
            "Accuracy do modelo: 73.96%\n",
            "\n",
            "\n",
            "Confusion Matrix:\n"
          ]
        },
        {
          "output_type": "display_data",
          "data": {
            "text/plain": [
              "<Figure size 640x480 with 2 Axes>"
            ],
            "image/png": "[encoded data removed]"
          },
          "metadata": {}
        }
      ]
    },
    {
      "cell_type": "markdown",
      "source": [
        "### XGBClassifier"
      ],
      "metadata": {
        "id": "XYkeCDSil3IV"
      }
    },
    {
      "cell_type": "code",
      "execution_count": 73,
      "metadata": {
        "id": "U1EFVsLMOV7v",
        "colab": {
          "base_uri": "https://localhost:8080/",
          "height": 283
        },
        "outputId": "e5b9818e-0a7c-4f5b-edeb-ed013df28a20"
      },
      "outputs": [
        {
          "output_type": "stream",
          "name": "stdout",
          "text": [
            "[12:04:02] WARNING: ../src/learner.cc:767: \n",
            "Parameters: { \"early_stoping\" } are not used.\n",
            "\n"
          ]
        },
        {
          "output_type": "execute_result",
          "data": {
            "text/plain": [
              "XGBClassifier(alpha=0.1, base_score=None, booster=None, callbacks=None,\n",
              "              colsample_bylevel=None, colsample_bynode=None,\n",
              "              colsample_bytree=0.8, early_stoping=50,\n",
              "              early_stopping_rounds=None, enable_categorical=False, eta=0.1,\n",
              "              eval_metric=None, feature_types=None, gamma=0.1, gpu_id=None,\n",
              "              grow_policy=None, importance_type=None,\n",
              "              interaction_constraints=None, learning_rate=None, max_bin=None,\n",
              "              max_cat_threshold=None, max_cat_to_onehot=None, max_delta_step=1,\n",
              "              max_depth=7, max_leaves=None, min_child_weight=3, missing=nan,\n",
              "              monotone_constraints=None, n_estimators=200, n_jobs=None, ...)"
            ],
            "text/html": [
              "<style>#sk-container-id-1 {color: black;background-color: white;}#sk-container-id-1 pre{padding: 0;}#sk-container-id-1 div.sk-toggleable {background-color: white;}#sk-container-id-1 label.sk-toggleable__label {cursor: pointer;display: block;width: 100%;margin-bottom: 0;padding: 0.3em;box-sizing: border-box;text-align: center;}#sk-container-id-1 label.sk-toggleable__label-arrow:before {content: \"▸\";float: left;margin-right: 0.25em;color: #696969;}#sk-container-id-1 label.sk-toggleable__label-arrow:hover:before {color: black;}#sk-container-id-1 div.sk-estimator:hover label.sk-toggleable__label-arrow:before {color: black;}#sk-container-id-1 div.sk-toggleable__content {max-height: 0;max-width: 0;overflow: hidden;text-align: left;background-color: #f0f8ff;}#sk-container-id-1 div.sk-toggleable__content pre {margin: 0.2em;color: black;border-radius: 0.25em;background-color: #f0f8ff;}#sk-container-id-1 input.sk-toggleable__control:checked~div.sk-toggleable__content {max-height: 200px;max-width: 100%;overflow: auto;}#sk-container-id-1 input.sk-toggleable__control:checked~label.sk-toggleable__label-arrow:before {content: \"▾\";}#sk-container-id-1 div.sk-estimator input.sk-toggleable__control:checked~label.sk-toggleable__label {background-color: #d4ebff;}#sk-container-id-1 div.sk-label input.sk-toggleable__control:checked~label.sk-toggleable__label {background-color: #d4ebff;}#sk-container-id-1 input.sk-hidden--visually {border: 0;clip: rect(1px 1px 1px 1px);clip: rect(1px, 1px, 1px, 1px);height: 1px;margin: -1px;overflow: hidden;padding: 0;position: absolute;width: 1px;}#sk-container-id-1 div.sk-estimator {font-family: monospace;background-color: #f0f8ff;border: 1px dotted black;border-radius: 0.25em;box-sizing: border-box;margin-bottom: 0.5em;}#sk-container-id-1 div.sk-estimator:hover {background-color: #d4ebff;}#sk-container-id-1 div.sk-parallel-item::after {content: \"\";width: 100%;border-bottom: 1px solid gray;flex-grow: 1;}#sk-container-id-1 div.sk-label:hover label.sk-toggleable__label {background-color: #d4ebff;}#sk-container-id-1 div.sk-serial::before {content: \"\";position: absolute;border-left: 1px solid gray;box-sizing: border-box;top: 0;bottom: 0;left: 50%;z-index: 0;}#sk-container-id-1 div.sk-serial {display: flex;flex-direction: column;align-items: center;background-color: white;padding-right: 0.2em;padding-left: 0.2em;position: relative;}#sk-container-id-1 div.sk-item {position: relative;z-index: 1;}#sk-container-id-1 div.sk-parallel {display: flex;align-items: stretch;justify-content: center;background-color: white;position: relative;}#sk-container-id-1 div.sk-item::before, #sk-container-id-1 div.sk-parallel-item::before {content: \"\";position: absolute;border-left: 1px solid gray;box-sizing: border-box;top: 0;bottom: 0;left: 50%;z-index: -1;}#sk-container-id-1 div.sk-parallel-item {display: flex;flex-direction: column;z-index: 1;position: relative;background-color: white;}#sk-container-id-1 div.sk-parallel-item:first-child::after {align-self: flex-end;width: 50%;}#sk-container-id-1 div.sk-parallel-item:last-child::after {align-self: flex-start;width: 50%;}#sk-container-id-1 div.sk-parallel-item:only-child::after {width: 0;}#sk-container-id-1 div.sk-dashed-wrapped {border: 1px dashed gray;margin: 0 0.4em 0.5em 0.4em;box-sizing: border-box;padding-bottom: 0.4em;background-color: white;}#sk-container-id-1 div.sk-label label {font-family: monospace;font-weight: bold;display: inline-block;line-height: 1.2em;}#sk-container-id-1 div.sk-label-container {text-align: center;}#sk-container-id-1 div.sk-container {/* jupyter's `normalize.less` sets `[hidden] { display: none; }` but bootstrap.min.css set `[hidden] { display: none !important; }` so we also need the `!important` here to be able to override the default hidden behavior on the sphinx rendered scikit-learn.org. See: https://github.com/scikit-learn/scikit-learn/issues/21755 */display: inline-block !important;position: relative;}#sk-container-id-1 div.sk-text-repr-fallback {display: none;}</style><div id=\"sk-container-id-1\" class=\"sk-top-container\"><div class=\"sk-text-repr-fallback\"><pre>XGBClassifier(alpha=0.1, base_score=None, booster=None, callbacks=None,\n",
              "              colsample_bylevel=None, colsample_bynode=None,\n",
              "              colsample_bytree=0.8, early_stoping=50,\n",
              "              early_stopping_rounds=None, enable_categorical=False, eta=0.1,\n",
              "              eval_metric=None, feature_types=None, gamma=0.1, gpu_id=None,\n",
              "              grow_policy=None, importance_type=None,\n",
              "              interaction_constraints=None, learning_rate=None, max_bin=None,\n",
              "              max_cat_threshold=None, max_cat_to_onehot=None, max_delta_step=1,\n",
              "              max_depth=7, max_leaves=None, min_child_weight=3, missing=nan,\n",
              "              monotone_constraints=None, n_estimators=200, n_jobs=None, ...)</pre><b>In a Jupyter environment, please rerun this cell to show the HTML representation or trust the notebook. <br />On GitHub, the HTML representation is unable to render, please try loading this page with nbviewer.org.</b></div><div class=\"sk-container\" hidden><div class=\"sk-item\"><div class=\"sk-estimator sk-toggleable\"><input class=\"sk-toggleable__control sk-hidden--visually\" id=\"sk-estimator-id-1\" type=\"checkbox\" checked><label for=\"sk-estimator-id-1\" class=\"sk-toggleable__label sk-toggleable__label-arrow\">XGBClassifier</label><div class=\"sk-toggleable__content\"><pre>XGBClassifier(alpha=0.1, base_score=None, booster=None, callbacks=None,\n",
              "              colsample_bylevel=None, colsample_bynode=None,\n",
              "              colsample_bytree=0.8, early_stoping=50,\n",
              "              early_stopping_rounds=None, enable_categorical=False, eta=0.1,\n",
              "              eval_metric=None, feature_types=None, gamma=0.1, gpu_id=None,\n",
              "              grow_policy=None, importance_type=None,\n",
              "              interaction_constraints=None, learning_rate=None, max_bin=None,\n",
              "              max_cat_threshold=None, max_cat_to_onehot=None, max_delta_step=1,\n",
              "              max_depth=7, max_leaves=None, min_child_weight=3, missing=nan,\n",
              "              monotone_constraints=None, n_estimators=200, n_jobs=None, ...)</pre></div></div></div></div></div>"
            ]
          },
          "metadata": {},
          "execution_count": 73
        }
      ],
      "source": [
        "  best_fit = xgb.XGBClassifier(eta = 0.1,\n",
        "                        gamma = 0.1,\n",
        "                        reg_lambda = 5,\n",
        "                        alpha = 0.1,\n",
        "                        max_depth = 7,\n",
        "                        min_child_weight = 3,\n",
        "                        max_delta_step=1,\n",
        "                        objective = 'binary:logistic',\n",
        "                        scale_pos_weight = 1,\n",
        "                        seed = 12,\n",
        "                        colsample_bytree=0.8,\n",
        "                        subsample=0.6,                        \n",
        "                        n_estimators = 200,\n",
        "                        early_stoping=50)\n",
        "                        #enable_categorical=True)\n",
        "\n",
        "best_fit.fit(X_train, Y_train,\n",
        "             eval_metric=\"auc\")"
      ]
    },
    {
      "cell_type": "code",
      "execution_count": 74,
      "metadata": {
        "id": "sYHTHUvrPj83",
        "colab": {
          "base_uri": "https://localhost:8080/",
          "height": 518
        },
        "outputId": "5f1b1a80-8d78-469a-df72-957c71b875bf"
      },
      "outputs": [
        {
          "output_type": "stream",
          "name": "stdout",
          "text": [
            "Accuracy do modelo: 74.64%\n",
            "\n",
            "\n",
            "Confusion Matrix:\n"
          ]
        },
        {
          "output_type": "display_data",
          "data": {
            "text/plain": [
              "<Figure size 640x480 with 2 Axes>"
            ],
            "image/png": "[encoded data removed]"
          },
          "metadata": {}
        }
      ],
      "source": [
        "#reg.fit(X_train, Y_train)\n",
        "\n",
        "ypred=best_fit.predict(X_test)\n",
        "\n",
        "print(\"Accuracy do modelo: {:.2%}\".format(accuracy_score(ypred,Y_test)))\n",
        "print('\\n')\n",
        "print('Confusion Matrix:')\n",
        "\n",
        "ConfusionMatrixDisplay.from_predictions(Y_test, ypred)\n",
        "plt.show()"
      ]
    },
    {
      "cell_type": "code",
      "source": [
        "# use learning_curve() to get training and test scores\n",
        "train_sizes, train_scores, test_scores = learning_curve(clf, X, Y, cv=5, scoring='accuracy')\n",
        "\n",
        "# calculate the mean and standard deviation for the training scores\n",
        "train_mean = np.mean(train_scores, axis=1)\n",
        "train_std = np.std(train_scores, axis=1)\n",
        "\n",
        "# calculate the mean and standard deviation for the test scores\n",
        "test_mean = np.mean(test_scores, axis=1)\n",
        "test_std = np.std(test_scores, axis=1)\n",
        "\n",
        "# plot the learning curves\n",
        "plt.plot(train_sizes, train_mean, label='Training score')\n",
        "plt.plot(train_sizes, test_mean, label='Cross-validation score')\n",
        "\n",
        "# add the standard deviation lines\n",
        "plt.fill_between(train_sizes, train_mean - train_std, train_mean + train_std, color='gray', alpha=0.2)\n",
        "plt.fill_between(train_sizes, test_mean - test_std, test_mean + test_std, color='gray', alpha=0.2)\n",
        "\n",
        "# format the plot\n",
        "plt.xlabel('Training set size')\n",
        "plt.ylabel('Accuracy')\n",
        "plt.legend(loc='best')\n",
        "plt.show()"
      ],
      "metadata": {
        "colab": {
          "base_uri": "https://localhost:8080/",
          "height": 449
        },
        "id": "mpOEZP5hq1IV",
        "outputId": "689fa686-5d28-4810-a8d8-85b906d5405e"
      },
      "execution_count": 124,
      "outputs": [
        {
          "output_type": "display_data",
          "data": {
            "text/plain": [
              "<Figure size 640x480 with 1 Axes>"
            ],
            "image/png": "[encoded data removed]"
          },
          "metadata": {}
        }
      ]
    },
    {
      "cell_type": "code",
      "source": [
        "X.shape"
      ],
      "metadata": {
        "id": "DQgY33F1xEmc",
        "colab": {
          "base_uri": "https://localhost:8080/"
        },
        "outputId": "35c66e8f-063e-474f-8f31-1fc87343cc23"
      },
      "execution_count": 76,
      "outputs": [
        {
          "output_type": "execute_result",
          "data": {
            "text/plain": [
              "(116546, 34)"
            ]
          },
          "metadata": {},
          "execution_count": 76
        }
      ]
    },
    {
      "cell_type": "code",
      "execution_count": 77,
      "metadata": {
        "id": "-8ECl2H7kiiu",
        "colab": {
          "base_uri": "https://localhost:8080/"
        },
        "outputId": "99505acb-ae1d-4a75-9d63-58ef2722c0c7"
      },
      "outputs": [
        {
          "output_type": "stream",
          "name": "stdout",
          "text": [
            "Quantidade prevista por label:\n",
            "\n",
            "\n",
            "[[    0 19484]\n",
            " [    1  3826]]\n"
          ]
        }
      ],
      "source": [
        "unique, counts = np.unique(ypred, return_counts=True)\n",
        "\n",
        "print('Quantidade prevista por label:')\n",
        "print('\\n')\n",
        "\n",
        "print (np.asarray((unique, counts)).T)"
      ]
    },
    {
      "cell_type": "markdown",
      "metadata": {
        "id": "1l7UjIPpMX7h"
      },
      "source": [
        "### CATBOOST"
      ]
    },
    {
      "cell_type": "code",
      "execution_count": 78,
      "metadata": {
        "id": "NywBbgPRMoE1",
        "colab": {
          "base_uri": "https://localhost:8080/"
        },
        "outputId": "3974ce15-a4c0-4208-e14c-d8bd7bd08992"
      },
      "outputs": [
        {
          "output_type": "stream",
          "name": "stdout",
          "text": [
            "Looking in indexes: https://pypi.org/simple, https://us-python.pkg.dev/colab-wheels/public/simple/\n",
            "Collecting catboost\n",
            "  Downloading catboost-1.1.1-cp39-none-manylinux1_x86_64.whl (76.6 MB)\n",
            "\u001b[2K     \u001b[90m━━━━━━━━━━━━━━━━━━━━━━━━━━━━━━━━━━━━━━━━\u001b[0m \u001b[32m76.6/76.6 MB\u001b[0m \u001b[31m7.9 MB/s\u001b[0m eta \u001b[36m0:00:00\u001b[0m\n",
            "\u001b[?25hRequirement already satisfied: plotly in /usr/local/lib/python3.9/dist-packages (from catboost) (5.13.1)\n",
            "Requirement already satisfied: matplotlib in /usr/local/lib/python3.9/dist-packages (from catboost) (3.7.1)\n",
            "Requirement already satisfied: graphviz in /usr/local/lib/python3.9/dist-packages (from catboost) (0.20.1)\n",
            "Requirement already satisfied: scipy in /usr/local/lib/python3.9/dist-packages (from catboost) (1.10.1)\n",
            "Requirement already satisfied: six in /usr/local/lib/python3.9/dist-packages (from catboost) (1.16.0)\n",
            "Requirement already satisfied: pandas>=0.24.0 in /usr/local/lib/python3.9/dist-packages (from catboost) (1.5.3)\n",
            "Requirement already satisfied: numpy>=1.16.0 in /usr/local/lib/python3.9/dist-packages (from catboost) (1.22.4)\n",
            "Requirement already satisfied: pytz>=2020.1 in /usr/local/lib/python3.9/dist-packages (from pandas>=0.24.0->catboost) (2022.7.1)\n",
            "Requirement already satisfied: python-dateutil>=2.8.1 in /usr/local/lib/python3.9/dist-packages (from pandas>=0.24.0->catboost) (2.8.2)\n",
            "Requirement already satisfied: kiwisolver>=1.0.1 in /usr/local/lib/python3.9/dist-packages (from matplotlib->catboost) (1.4.4)\n",
            "Requirement already satisfied: importlib-resources>=3.2.0 in /usr/local/lib/python3.9/dist-packages (from matplotlib->catboost) (5.12.0)\n",
            "Requirement already satisfied: cycler>=0.10 in /usr/local/lib/python3.9/dist-packages (from matplotlib->catboost) (0.11.0)\n",
            "Requirement already satisfied: fonttools>=4.22.0 in /usr/local/lib/python3.9/dist-packages (from matplotlib->catboost) (4.39.3)\n",
            "Requirement already satisfied: packaging>=20.0 in /usr/local/lib/python3.9/dist-packages (from matplotlib->catboost) (23.0)\n",
            "Requirement already satisfied: pillow>=6.2.0 in /usr/local/lib/python3.9/dist-packages (from matplotlib->catboost) (8.4.0)\n",
            "Requirement already satisfied: contourpy>=1.0.1 in /usr/local/lib/python3.9/dist-packages (from matplotlib->catboost) (1.0.7)\n",
            "Requirement already satisfied: pyparsing>=2.3.1 in /usr/local/lib/python3.9/dist-packages (from matplotlib->catboost) (3.0.9)\n",
            "Requirement already satisfied: tenacity>=6.2.0 in /usr/local/lib/python3.9/dist-packages (from plotly->catboost) (8.2.2)\n",
            "Requirement already satisfied: zipp>=3.1.0 in /usr/local/lib/python3.9/dist-packages (from importlib-resources>=3.2.0->matplotlib->catboost) (3.15.0)\n",
            "Installing collected packages: catboost\n",
            "Successfully installed catboost-1.1.1\n"
          ]
        }
      ],
      "source": [
        "pip install catboost"
      ]
    },
    {
      "cell_type": "code",
      "execution_count": 79,
      "metadata": {
        "id": "yxUn0JU_M8Aq",
        "colab": {
          "base_uri": "https://localhost:8080/",
          "height": 518
        },
        "outputId": "bc86e53a-18e1-4f07-a7bd-ad7964ed738b"
      },
      "outputs": [
        {
          "output_type": "stream",
          "name": "stdout",
          "text": [
            "Accuracy do modelo: 74.82%\n",
            "\n",
            "\n",
            "Confusion Matrix:\n"
          ]
        },
        {
          "output_type": "display_data",
          "data": {
            "text/plain": [
              "<Figure size 640x480 with 2 Axes>"
            ],
            "image/png": "[encoded data removed]"
          },
          "metadata": {}
        }
      ],
      "source": [
        "from catboost import CatBoostClassifier, Pool\n",
        "\n",
        "cat = CatBoostClassifier()\n",
        "\n",
        "cat.fit(X_train, Y_train, verbose=False)\n",
        "\n",
        "cat.save_model('cat_salvo')\n",
        "\n",
        "cat_pred = cat.predict(X_test)\n",
        "\n",
        "print(\"Accuracy do modelo: {:.2%}\".format(accuracy_score(cat_pred,Y_test)))\n",
        "print('\\n')\n",
        "print('Confusion Matrix:')\n",
        "\n",
        "ConfusionMatrixDisplay.from_predictions(Y_test, cat_pred)\n",
        "plt.show()"
      ]
    },
    {
      "cell_type": "code",
      "source": [
        "catao = CatBoostClassifier()\n",
        "\n",
        "catao.load_model(r'/content/cat_salvo')"
      ],
      "metadata": {
        "id": "SPTw65wUhThV",
        "colab": {
          "base_uri": "https://localhost:8080/"
        },
        "outputId": "ed306a38-6172-4a92-93fe-e144f3dd9e6f"
      },
      "execution_count": 80,
      "outputs": [
        {
          "output_type": "execute_result",
          "data": {
            "text/plain": [
              "<catboost.core.CatBoostClassifier at 0x7fed0586e820>"
            ]
          },
          "metadata": {},
          "execution_count": 80
        }
      ]
    },
    {
      "cell_type": "markdown",
      "source": [
        "### Aplicação do Modelo"
      ],
      "metadata": {
        "id": "MuYZ1HX3iicA"
      }
    },
    {
      "cell_type": "code",
      "source": [
        "X_Pred = predict_df[['LOCA_ID', 'STCM_CDSETORCOMERCIAL', 'IPER_ID',\n",
        "       'IMOV_IDSUBCATEGORIAPRINCIPAL', 'IDADE', 'IMOV_NNMORADOR',\n",
        "       'QTDECONOMIARESIDENCIAL', 'QTDECONOMIACOMERCIAL',\n",
        "       'QTDECONOMIAINDUSTRIAL', 'QTDECONOMIAPUBLICO',\n",
        "       'QTDANORMALIDADEANTTOTAL', 'QTDANORMALIDADELEITURA_ANT',\n",
        "       'QUANTIDADECONTAS', 'QUANTIDADERAS', 'POCO_ID', 'N_CORTES', 'TIPO_HD', 'CAPACIDADE_HD',\n",
        "       'MAX_CONSUMO', 'SOMATORIO_CONSUMO', 'r2', 'SLOPE', 'SLOPE_6', 'INTERCEPT', 'INTERCEPT_6', 'MEAN_ANT',\n",
        "       'MEDIAN_ANT', 'SD_ANT', 'MEAN_OUTLIER', 'SOMATORIO_CONSUMO_OUTLIER', 'MAX_CONSUMO_OUTLIER',\n",
        "        'CONT_ZEROS','SOMATORIO_POR_MES','TEMPO_ATIVIDADE']]\n",
        "\n",
        "predicao = best_fit.predict(X_Pred)"
      ],
      "metadata": {
        "id": "oViX0BV6ixs3"
      },
      "execution_count": 81,
      "outputs": []
    },
    {
      "cell_type": "code",
      "source": [
        "predicao = pd.DataFrame(data = predicao, columns = ['RESULT_MEAN'])"
      ],
      "metadata": {
        "id": "Vf7uznLPi2WZ"
      },
      "execution_count": 82,
      "outputs": []
    },
    {
      "cell_type": "code",
      "source": [
        "test_XGB = pd.Series(best_fit.predict(X_test), name=\"XGB\")\n",
        "\n",
        "test_LGBM = pd.Series(clf.predict(X_test), name=\"LGBM\")\n",
        "\n",
        "test_RFC = pd.Series(random_forest.predict(X_test), name=\"RFC\")\n",
        "\n",
        "test_CAT = pd.Series(catao.predict(X_test), name=\"CAT\")\n",
        "\n",
        "ensemble_results = pd.concat([test_XGB,test_LGBM,test_RFC, test_CAT],axis=1)\n",
        "\n",
        "g= sns.heatmap(ensemble_results.corr(),annot=True)"
      ],
      "metadata": {
        "id": "0LXIteroLDrQ",
        "colab": {
          "base_uri": "https://localhost:8080/",
          "height": 435
        },
        "outputId": "7c6398e8-8a48-4281-9fd4-98fb16ba2b00"
      },
      "execution_count": 83,
      "outputs": [
        {
          "output_type": "display_data",
          "data": {
            "text/plain": [
              "<Figure size 640x480 with 2 Axes>"
            ],
            "image/png": "[encoded data removed]"
          },
          "metadata": {}
        }
      ]
    },
    {
      "cell_type": "code",
      "source": [
        "votingC = VotingClassifier(estimators=[('xgb', best_fit), ('lgbm', clf), ('rfc',random_forest),('cat',catao)], voting='soft', n_jobs=4)\n",
        "\n",
        "votingC = votingC.fit(X_train, Y_train)"
      ],
      "metadata": {
        "id": "95iN-OjORRag"
      },
      "execution_count": 84,
      "outputs": []
    },
    {
      "cell_type": "code",
      "source": [
        "ypred_vot=votingC.predict(X_test)\n",
        "\n",
        "print(\"Accuracy do modelo: {:.2%}\".format(accuracy_score(ypred_vot,Y_test)))\n",
        "print('\\n')\n",
        "print('Confusion Matrix:')\n",
        "\n",
        "''' plot_confusion_matrix(votingC, X_test, Y_test)\n",
        "\n",
        "plt.show() '''"
      ],
      "metadata": {
        "id": "9ADEUDnPfrDH",
        "colab": {
          "base_uri": "https://localhost:8080/",
          "height": 105
        },
        "outputId": "258b59a2-a454-4def-e284-fd1aa8686888"
      },
      "execution_count": 85,
      "outputs": [
        {
          "output_type": "stream",
          "name": "stdout",
          "text": [
            "Accuracy do modelo: 74.76%\n",
            "\n",
            "\n",
            "Confusion Matrix:\n"
          ]
        },
        {
          "output_type": "execute_result",
          "data": {
            "text/plain": [
              "' plot_confusion_matrix(votingC, X_test, Y_test)\\n\\nplt.show() '"
            ],
            "application/vnd.google.colaboratory.intrinsic+json": {
              "type": "string"
            }
          },
          "metadata": {},
          "execution_count": 85
        }
      ]
    },
    {
      "cell_type": "code",
      "source": [
        "''' filename = 'modelo_combinado.sav'\n",
        "\n",
        "pickle.dump(votingC, open(filename, 'wb')) '''"
      ],
      "metadata": {
        "id": "jKKe1oT_gb_r",
        "colab": {
          "base_uri": "https://localhost:8080/",
          "height": 35
        },
        "outputId": "9bbcbd4e-16ff-4da9-c251-db150279e497"
      },
      "execution_count": 86,
      "outputs": [
        {
          "output_type": "execute_result",
          "data": {
            "text/plain": [
              "\" filename = 'modelo_combinado.sav'\\n\\npickle.dump(votingC, open(filename, 'wb')) \""
            ],
            "application/vnd.google.colaboratory.intrinsic+json": {
              "type": "string"
            }
          },
          "metadata": {},
          "execution_count": 86
        }
      ]
    },
    {
      "cell_type": "code",
      "source": [
        "''' loaded_model = pickle.load(open(filename, 'rb')) '''"
      ],
      "metadata": {
        "id": "Of4BbQq3isuu",
        "colab": {
          "base_uri": "https://localhost:8080/",
          "height": 35
        },
        "outputId": "e8044e4a-ad3b-452b-82fa-48e476e10ddb"
      },
      "execution_count": 87,
      "outputs": [
        {
          "output_type": "execute_result",
          "data": {
            "text/plain": [
              "\" loaded_model = pickle.load(open(filename, 'rb')) \""
            ],
            "application/vnd.google.colaboratory.intrinsic+json": {
              "type": "string"
            }
          },
          "metadata": {},
          "execution_count": 87
        }
      ]
    },
    {
      "cell_type": "code",
      "source": [
        "Base_Pred = predict_df.loc[:, ['IMOV_ID', 'LOCA_ID', 'STCM_CDSETORCOMERCIAL', 'IDADE','MEDIAN_ANT','MEAN_ANT', 'TEMPO_ATIVIDADE', 'SLOPE', 'QTDANORMALIDADELEITURA_ANT', 'SOMATORIO_CONSUMO', 'CAPACIDADE_HD']]\n",
        "\n",
        "result_best = pd.Series(best_fit.predict(X_Pred), name=\"result_troca\")\n",
        "\n",
        "resultado = pd.concat([Base_Pred, result_best], axis = 1)\n",
        "\n",
        "result_voting = pd.Series(votingC.predict(X_Pred), name=\"result_voting\")\n",
        "\n",
        "resultado_voting = pd.concat([Base_Pred, result_voting], axis = 1)"
      ],
      "metadata": {
        "id": "A8Yq1alcS1an"
      },
      "execution_count": 88,
      "outputs": []
    },
    {
      "cell_type": "code",
      "source": [
        "resultado['result_troca'].value_counts()"
      ],
      "metadata": {
        "id": "JATp72suaDAo",
        "colab": {
          "base_uri": "https://localhost:8080/"
        },
        "outputId": "0bc8a33e-d238-45f3-fa37-f004d7e542e4"
      },
      "execution_count": 89,
      "outputs": [
        {
          "output_type": "execute_result",
          "data": {
            "text/plain": [
              "0    18698\n",
              "1      216\n",
              "Name: result_troca, dtype: int64"
            ]
          },
          "metadata": {},
          "execution_count": 89
        }
      ]
    },
    {
      "cell_type": "code",
      "source": [
        "resultado_voting['result_voting'].value_counts()"
      ],
      "metadata": {
        "id": "OR0vSb62yLPk",
        "colab": {
          "base_uri": "https://localhost:8080/"
        },
        "outputId": "371f0b19-d791-4cff-fa88-2ae3408f8bf2"
      },
      "execution_count": 90,
      "outputs": [
        {
          "output_type": "execute_result",
          "data": {
            "text/plain": [
              "0    18745\n",
              "1      169\n",
              "Name: result_voting, dtype: int64"
            ]
          },
          "metadata": {},
          "execution_count": 90
        }
      ]
    },
    {
      "cell_type": "code",
      "execution_count": 91,
      "metadata": {
        "id": "x2FsOfxCooMQ",
        "colab": {
          "base_uri": "https://localhost:8080/",
          "height": 206
        },
        "outputId": "79547225-5d59-476d-9c99-b869728731c0"
      },
      "outputs": [
        {
          "output_type": "execute_result",
          "data": {
            "text/plain": [
              "         IMOV_ID  LOCA_ID  STCM_CDSETORCOMERCIAL  IDADE  MEDIAN_ANT  \\\n",
              "18909  109635876       41                    701      2         5.0   \n",
              "18910  109625633       41                    851      2        17.0   \n",
              "18911  109671279       41                    925      2         8.0   \n",
              "18912  109704720       41                    801      2         1.5   \n",
              "18913  109832990       41                    891      1        10.0   \n",
              "\n",
              "        MEAN_ANT  TEMPO_ATIVIDADE     SLOPE  QTDANORMALIDADELEITURA_ANT  \\\n",
              "18909   5.166667              540 -0.034965                           0   \n",
              "18910  17.750000              541  0.241259                           0   \n",
              "18911   9.916667              505  1.395105                           0   \n",
              "18912   4.666667              454 -1.055944                           0   \n",
              "18913   8.833333              255 -1.202797                           1   \n",
              "\n",
              "       SOMATORIO_CONSUMO  CAPACIDADE_HD  RESULT_MEAN  \n",
              "18909              120.0              2            0  \n",
              "18910              328.0              2            0  \n",
              "18911              180.0              2            0  \n",
              "18912              108.0              2            0  \n",
              "18913              106.0              2            1  "
            ],
            "text/html": [
              "\n",
              "  <div id=\"df-337c1c9e-339b-417b-baff-c3e27a0ac4d5\">\n",
              "    <div class=\"colab-df-container\">\n",
              "      <div>\n",
              "<style scoped>\n",
              "    .dataframe tbody tr th:only-of-type {\n",
              "        vertical-align: middle;\n",
              "    }\n",
              "\n",
              "    .dataframe tbody tr th {\n",
              "        vertical-align: top;\n",
              "    }\n",
              "\n",
              "    .dataframe thead th {\n",
              "        text-align: right;\n",
              "    }\n",
              "</style>\n",
              "<table border=\"1\" class=\"dataframe\">\n",
              "  <thead>\n",
              "    <tr style=\"text-align: right;\">\n",
              "      <th></th>\n",
              "      <th>IMOV_ID</th>\n",
              "      <th>LOCA_ID</th>\n",
              "      <th>STCM_CDSETORCOMERCIAL</th>\n",
              "      <th>IDADE</th>\n",
              "      <th>MEDIAN_ANT</th>\n",
              "      <th>MEAN_ANT</th>\n",
              "      <th>TEMPO_ATIVIDADE</th>\n",
              "      <th>SLOPE</th>\n",
              "      <th>QTDANORMALIDADELEITURA_ANT</th>\n",
              "      <th>SOMATORIO_CONSUMO</th>\n",
              "      <th>CAPACIDADE_HD</th>\n",
              "      <th>RESULT_MEAN</th>\n",
              "    </tr>\n",
              "  </thead>\n",
              "  <tbody>\n",
              "    <tr>\n",
              "      <th>18909</th>\n",
              "      <td>109635876</td>\n",
              "      <td>41</td>\n",
              "      <td>701</td>\n",
              "      <td>2</td>\n",
              "      <td>5.0</td>\n",
              "      <td>5.166667</td>\n",
              "      <td>540</td>\n",
              "      <td>-0.034965</td>\n",
              "      <td>0</td>\n",
              "      <td>120.0</td>\n",
              "      <td>2</td>\n",
              "      <td>0</td>\n",
              "    </tr>\n",
              "    <tr>\n",
              "      <th>18910</th>\n",
              "      <td>109625633</td>\n",
              "      <td>41</td>\n",
              "      <td>851</td>\n",
              "      <td>2</td>\n",
              "      <td>17.0</td>\n",
              "      <td>17.750000</td>\n",
              "      <td>541</td>\n",
              "      <td>0.241259</td>\n",
              "      <td>0</td>\n",
              "      <td>328.0</td>\n",
              "      <td>2</td>\n",
              "      <td>0</td>\n",
              "    </tr>\n",
              "    <tr>\n",
              "      <th>18911</th>\n",
              "      <td>109671279</td>\n",
              "      <td>41</td>\n",
              "      <td>925</td>\n",
              "      <td>2</td>\n",
              "      <td>8.0</td>\n",
              "      <td>9.916667</td>\n",
              "      <td>505</td>\n",
              "      <td>1.395105</td>\n",
              "      <td>0</td>\n",
              "      <td>180.0</td>\n",
              "      <td>2</td>\n",
              "      <td>0</td>\n",
              "    </tr>\n",
              "    <tr>\n",
              "      <th>18912</th>\n",
              "      <td>109704720</td>\n",
              "      <td>41</td>\n",
              "      <td>801</td>\n",
              "      <td>2</td>\n",
              "      <td>1.5</td>\n",
              "      <td>4.666667</td>\n",
              "      <td>454</td>\n",
              "      <td>-1.055944</td>\n",
              "      <td>0</td>\n",
              "      <td>108.0</td>\n",
              "      <td>2</td>\n",
              "      <td>0</td>\n",
              "    </tr>\n",
              "    <tr>\n",
              "      <th>18913</th>\n",
              "      <td>109832990</td>\n",
              "      <td>41</td>\n",
              "      <td>891</td>\n",
              "      <td>1</td>\n",
              "      <td>10.0</td>\n",
              "      <td>8.833333</td>\n",
              "      <td>255</td>\n",
              "      <td>-1.202797</td>\n",
              "      <td>1</td>\n",
              "      <td>106.0</td>\n",
              "      <td>2</td>\n",
              "      <td>1</td>\n",
              "    </tr>\n",
              "  </tbody>\n",
              "</table>\n",
              "</div>\n",
              "      <button class=\"colab-df-convert\" onclick=\"convertToInteractive('df-337c1c9e-339b-417b-baff-c3e27a0ac4d5')\"\n",
              "              title=\"Convert this dataframe to an interactive table.\"\n",
              "              style=\"display:none;\">\n",
              "        \n",
              "  <svg xmlns=\"http://www.w3.org/2000/svg\" height=\"24px\"viewBox=\"0 0 24 24\"\n",
              "       width=\"24px\">\n",
              "    <path d=\"M0 0h24v24H0V0z\" fill=\"none\"/>\n",
              "    <path d=\"M18.56 5.44l.94 2.06.94-2.06 2.06-.94-2.06-.94-.94-2.06-.94 2.06-2.06.94zm-11 1L8.5 8.5l.94-2.06 2.06-.94-2.06-.94L8.5 2.5l-.94 2.06-2.06.94zm10 10l.94 2.06.94-2.06 2.06-.94-2.06-.94-.94-2.06-.94 2.06-2.06.94z\"/><path d=\"M17.41 7.96l-1.37-1.37c-.4-.4-.92-.59-1.43-.59-.52 0-1.04.2-1.43.59L10.3 9.45l-7.72 7.72c-.78.78-.78 2.05 0 2.83L4 21.41c.39.39.9.59 1.41.59.51 0 1.02-.2 1.41-.59l7.78-7.78 2.81-2.81c.8-.78.8-2.07 0-2.86zM5.41 20L4 18.59l7.72-7.72 1.47 1.35L5.41 20z\"/>\n",
              "  </svg>\n",
              "      </button>\n",
              "      \n",
              "  <style>\n",
              "    .colab-df-container {\n",
              "      display:flex;\n",
              "      flex-wrap:wrap;\n",
              "      gap: 12px;\n",
              "    }\n",
              "\n",
              "    .colab-df-convert {\n",
              "      background-color: #E8F0FE;\n",
              "      border: none;\n",
              "      border-radius: 50%;\n",
              "      cursor: pointer;\n",
              "      display: none;\n",
              "      fill: #1967D2;\n",
              "      height: 32px;\n",
              "      padding: 0 0 0 0;\n",
              "      width: 32px;\n",
              "    }\n",
              "\n",
              "    .colab-df-convert:hover {\n",
              "      background-color: #E2EBFA;\n",
              "      box-shadow: 0px 1px 2px rgba(60, 64, 67, 0.3), 0px 1px 3px 1px rgba(60, 64, 67, 0.15);\n",
              "      fill: #174EA6;\n",
              "    }\n",
              "\n",
              "    [theme=dark] .colab-df-convert {\n",
              "      background-color: #3B4455;\n",
              "      fill: #D2E3FC;\n",
              "    }\n",
              "\n",
              "    [theme=dark] .colab-df-convert:hover {\n",
              "      background-color: #434B5C;\n",
              "      box-shadow: 0px 1px 3px 1px rgba(0, 0, 0, 0.15);\n",
              "      filter: drop-shadow(0px 1px 2px rgba(0, 0, 0, 0.3));\n",
              "      fill: #FFFFFF;\n",
              "    }\n",
              "  </style>\n",
              "\n",
              "      <script>\n",
              "        const buttonEl =\n",
              "          document.querySelector('#df-337c1c9e-339b-417b-baff-c3e27a0ac4d5 button.colab-df-convert');\n",
              "        buttonEl.style.display =\n",
              "          google.colab.kernel.accessAllowed ? 'block' : 'none';\n",
              "\n",
              "        async function convertToInteractive(key) {\n",
              "          const element = document.querySelector('#df-337c1c9e-339b-417b-baff-c3e27a0ac4d5');\n",
              "          const dataTable =\n",
              "            await google.colab.kernel.invokeFunction('convertToInteractive',\n",
              "                                                     [key], {});\n",
              "          if (!dataTable) return;\n",
              "\n",
              "          const docLinkHtml = 'Like what you see? Visit the ' +\n",
              "            '<a target=\"_blank\" href=https://colab.research.google.com/notebooks/data_table.ipynb>data table notebook</a>'\n",
              "            + ' to learn more about interactive tables.';\n",
              "          element.innerHTML = '';\n",
              "          dataTable['output_type'] = 'display_data';\n",
              "          await google.colab.output.renderOutput(dataTable, element);\n",
              "          const docLink = document.createElement('div');\n",
              "          docLink.innerHTML = docLinkHtml;\n",
              "          element.appendChild(docLink);\n",
              "        }\n",
              "      </script>\n",
              "    </div>\n",
              "  </div>\n",
              "  "
            ]
          },
          "metadata": {},
          "execution_count": 91
        }
      ],
      "source": [
        "prev = pd.concat([Base_Pred, predicao], axis = 1)\n",
        "\n",
        "prev.tail()"
      ]
    },
    {
      "cell_type": "code",
      "execution_count": 92,
      "metadata": {
        "id": "S5lhfjjIEOZW"
      },
      "outputs": [],
      "source": [
        "prev['PROBABILIDADE'] = best_fit.predict_proba(X_Pred)[:,1]"
      ]
    },
    {
      "cell_type": "code",
      "execution_count": 93,
      "metadata": {
        "id": "qczHyxaasPMm",
        "colab": {
          "base_uri": "https://localhost:8080/",
          "height": 427
        },
        "outputId": "7cc10c21-b146-45b4-f8cc-78f783793605"
      },
      "outputs": [
        {
          "output_type": "execute_result",
          "data": {
            "text/plain": [
              "         IMOV_ID  LOCA_ID  STCM_CDSETORCOMERCIAL  IDADE  MEDIAN_ANT  \\\n",
              "916    109670086       41                    986      2       498.5   \n",
              "13054    6170757       41                    581     13         0.0   \n",
              "5366    77722590       41                    841      5       103.5   \n",
              "1797     6720471       41                    891     16         0.0   \n",
              "4760     6996728       41                    871      1         0.0   \n",
              "1532     6673015       41                    861      5        72.5   \n",
              "2569   106656104       41                    721      8         0.0   \n",
              "18606  109266862       41                    270      4         0.0   \n",
              "4385   109266978       41                    270      4        62.0   \n",
              "13423    6179894       41                    581      1        24.5   \n",
              "\n",
              "         MEAN_ANT  TEMPO_ATIVIDADE      SLOPE  QTDANORMALIDADELEITURA_ANT  \\\n",
              "916    457.916667              768 -32.094406                           0   \n",
              "13054   18.083333             4232  -6.989510                           3   \n",
              "5366    97.583333              209 -25.108392                           0   \n",
              "1797    11.166667             5348  -4.153846                           0   \n",
              "4760    12.750000               47  -5.800699                           0   \n",
              "1532    81.000000              154 -15.055944                           0   \n",
              "2569     0.000000             2813   0.000000                          19   \n",
              "18606    1.916667              971   0.884615                           0   \n",
              "4385    43.250000              971   6.653846                           0   \n",
              "13423   17.916667              233  -3.905594                           1   \n",
              "\n",
              "       SOMATORIO_CONSUMO  CAPACIDADE_HD  RESULT_MEAN  PROBABILIDADE  \n",
              "916               6202.0              7            1       0.947709  \n",
              "13054             6332.0              2            1       0.902772  \n",
              "5366              1170.0              4            1       0.899615  \n",
              "1797              3614.0              8            1       0.898379  \n",
              "4760               141.0              2            1       0.875916  \n",
              "1532               824.0              4            1       0.854361  \n",
              "2569              2979.0              2            1       0.848108  \n",
              "18606              660.0              2            1       0.826564  \n",
              "4385              1981.0              2            1       0.820392  \n",
              "13423              215.0              2            1       0.812272  "
            ],
            "text/html": [
              "\n",
              "  <div id=\"df-4623827d-16b0-4036-b535-6e6c197e96c6\">\n",
              "    <div class=\"colab-df-container\">\n",
              "      <div>\n",
              "<style scoped>\n",
              "    .dataframe tbody tr th:only-of-type {\n",
              "        vertical-align: middle;\n",
              "    }\n",
              "\n",
              "    .dataframe tbody tr th {\n",
              "        vertical-align: top;\n",
              "    }\n",
              "\n",
              "    .dataframe thead th {\n",
              "        text-align: right;\n",
              "    }\n",
              "</style>\n",
              "<table border=\"1\" class=\"dataframe\">\n",
              "  <thead>\n",
              "    <tr style=\"text-align: right;\">\n",
              "      <th></th>\n",
              "      <th>IMOV_ID</th>\n",
              "      <th>LOCA_ID</th>\n",
              "      <th>STCM_CDSETORCOMERCIAL</th>\n",
              "      <th>IDADE</th>\n",
              "      <th>MEDIAN_ANT</th>\n",
              "      <th>MEAN_ANT</th>\n",
              "      <th>TEMPO_ATIVIDADE</th>\n",
              "      <th>SLOPE</th>\n",
              "      <th>QTDANORMALIDADELEITURA_ANT</th>\n",
              "      <th>SOMATORIO_CONSUMO</th>\n",
              "      <th>CAPACIDADE_HD</th>\n",
              "      <th>RESULT_MEAN</th>\n",
              "      <th>PROBABILIDADE</th>\n",
              "    </tr>\n",
              "  </thead>\n",
              "  <tbody>\n",
              "    <tr>\n",
              "      <th>916</th>\n",
              "      <td>109670086</td>\n",
              "      <td>41</td>\n",
              "      <td>986</td>\n",
              "      <td>2</td>\n",
              "      <td>498.5</td>\n",
              "      <td>457.916667</td>\n",
              "      <td>768</td>\n",
              "      <td>-32.094406</td>\n",
              "      <td>0</td>\n",
              "      <td>6202.0</td>\n",
              "      <td>7</td>\n",
              "      <td>1</td>\n",
              "      <td>0.947709</td>\n",
              "    </tr>\n",
              "    <tr>\n",
              "      <th>13054</th>\n",
              "      <td>6170757</td>\n",
              "      <td>41</td>\n",
              "      <td>581</td>\n",
              "      <td>13</td>\n",
              "      <td>0.0</td>\n",
              "      <td>18.083333</td>\n",
              "      <td>4232</td>\n",
              "      <td>-6.989510</td>\n",
              "      <td>3</td>\n",
              "      <td>6332.0</td>\n",
              "      <td>2</td>\n",
              "      <td>1</td>\n",
              "      <td>0.902772</td>\n",
              "    </tr>\n",
              "    <tr>\n",
              "      <th>5366</th>\n",
              "      <td>77722590</td>\n",
              "      <td>41</td>\n",
              "      <td>841</td>\n",
              "      <td>5</td>\n",
              "      <td>103.5</td>\n",
              "      <td>97.583333</td>\n",
              "      <td>209</td>\n",
              "      <td>-25.108392</td>\n",
              "      <td>0</td>\n",
              "      <td>1170.0</td>\n",
              "      <td>4</td>\n",
              "      <td>1</td>\n",
              "      <td>0.899615</td>\n",
              "    </tr>\n",
              "    <tr>\n",
              "      <th>1797</th>\n",
              "      <td>6720471</td>\n",
              "      <td>41</td>\n",
              "      <td>891</td>\n",
              "      <td>16</td>\n",
              "      <td>0.0</td>\n",
              "      <td>11.166667</td>\n",
              "      <td>5348</td>\n",
              "      <td>-4.153846</td>\n",
              "      <td>0</td>\n",
              "      <td>3614.0</td>\n",
              "      <td>8</td>\n",
              "      <td>1</td>\n",
              "      <td>0.898379</td>\n",
              "    </tr>\n",
              "    <tr>\n",
              "      <th>4760</th>\n",
              "      <td>6996728</td>\n",
              "      <td>41</td>\n",
              "      <td>871</td>\n",
              "      <td>1</td>\n",
              "      <td>0.0</td>\n",
              "      <td>12.750000</td>\n",
              "      <td>47</td>\n",
              "      <td>-5.800699</td>\n",
              "      <td>0</td>\n",
              "      <td>141.0</td>\n",
              "      <td>2</td>\n",
              "      <td>1</td>\n",
              "      <td>0.875916</td>\n",
              "    </tr>\n",
              "    <tr>\n",
              "      <th>1532</th>\n",
              "      <td>6673015</td>\n",
              "      <td>41</td>\n",
              "      <td>861</td>\n",
              "      <td>5</td>\n",
              "      <td>72.5</td>\n",
              "      <td>81.000000</td>\n",
              "      <td>154</td>\n",
              "      <td>-15.055944</td>\n",
              "      <td>0</td>\n",
              "      <td>824.0</td>\n",
              "      <td>4</td>\n",
              "      <td>1</td>\n",
              "      <td>0.854361</td>\n",
              "    </tr>\n",
              "    <tr>\n",
              "      <th>2569</th>\n",
              "      <td>106656104</td>\n",
              "      <td>41</td>\n",
              "      <td>721</td>\n",
              "      <td>8</td>\n",
              "      <td>0.0</td>\n",
              "      <td>0.000000</td>\n",
              "      <td>2813</td>\n",
              "      <td>0.000000</td>\n",
              "      <td>19</td>\n",
              "      <td>2979.0</td>\n",
              "      <td>2</td>\n",
              "      <td>1</td>\n",
              "      <td>0.848108</td>\n",
              "    </tr>\n",
              "    <tr>\n",
              "      <th>18606</th>\n",
              "      <td>109266862</td>\n",
              "      <td>41</td>\n",
              "      <td>270</td>\n",
              "      <td>4</td>\n",
              "      <td>0.0</td>\n",
              "      <td>1.916667</td>\n",
              "      <td>971</td>\n",
              "      <td>0.884615</td>\n",
              "      <td>0</td>\n",
              "      <td>660.0</td>\n",
              "      <td>2</td>\n",
              "      <td>1</td>\n",
              "      <td>0.826564</td>\n",
              "    </tr>\n",
              "    <tr>\n",
              "      <th>4385</th>\n",
              "      <td>109266978</td>\n",
              "      <td>41</td>\n",
              "      <td>270</td>\n",
              "      <td>4</td>\n",
              "      <td>62.0</td>\n",
              "      <td>43.250000</td>\n",
              "      <td>971</td>\n",
              "      <td>6.653846</td>\n",
              "      <td>0</td>\n",
              "      <td>1981.0</td>\n",
              "      <td>2</td>\n",
              "      <td>1</td>\n",
              "      <td>0.820392</td>\n",
              "    </tr>\n",
              "    <tr>\n",
              "      <th>13423</th>\n",
              "      <td>6179894</td>\n",
              "      <td>41</td>\n",
              "      <td>581</td>\n",
              "      <td>1</td>\n",
              "      <td>24.5</td>\n",
              "      <td>17.916667</td>\n",
              "      <td>233</td>\n",
              "      <td>-3.905594</td>\n",
              "      <td>1</td>\n",
              "      <td>215.0</td>\n",
              "      <td>2</td>\n",
              "      <td>1</td>\n",
              "      <td>0.812272</td>\n",
              "    </tr>\n",
              "  </tbody>\n",
              "</table>\n",
              "</div>\n",
              "      <button class=\"colab-df-convert\" onclick=\"convertToInteractive('df-4623827d-16b0-4036-b535-6e6c197e96c6')\"\n",
              "              title=\"Convert this dataframe to an interactive table.\"\n",
              "              style=\"display:none;\">\n",
              "        \n",
              "  <svg xmlns=\"http://www.w3.org/2000/svg\" height=\"24px\"viewBox=\"0 0 24 24\"\n",
              "       width=\"24px\">\n",
              "    <path d=\"M0 0h24v24H0V0z\" fill=\"none\"/>\n",
              "    <path d=\"M18.56 5.44l.94 2.06.94-2.06 2.06-.94-2.06-.94-.94-2.06-.94 2.06-2.06.94zm-11 1L8.5 8.5l.94-2.06 2.06-.94-2.06-.94L8.5 2.5l-.94 2.06-2.06.94zm10 10l.94 2.06.94-2.06 2.06-.94-2.06-.94-.94-2.06-.94 2.06-2.06.94z\"/><path d=\"M17.41 7.96l-1.37-1.37c-.4-.4-.92-.59-1.43-.59-.52 0-1.04.2-1.43.59L10.3 9.45l-7.72 7.72c-.78.78-.78 2.05 0 2.83L4 21.41c.39.39.9.59 1.41.59.51 0 1.02-.2 1.41-.59l7.78-7.78 2.81-2.81c.8-.78.8-2.07 0-2.86zM5.41 20L4 18.59l7.72-7.72 1.47 1.35L5.41 20z\"/>\n",
              "  </svg>\n",
              "      </button>\n",
              "      \n",
              "  <style>\n",
              "    .colab-df-container {\n",
              "      display:flex;\n",
              "      flex-wrap:wrap;\n",
              "      gap: 12px;\n",
              "    }\n",
              "\n",
              "    .colab-df-convert {\n",
              "      background-color: #E8F0FE;\n",
              "      border: none;\n",
              "      border-radius: 50%;\n",
              "      cursor: pointer;\n",
              "      display: none;\n",
              "      fill: #1967D2;\n",
              "      height: 32px;\n",
              "      padding: 0 0 0 0;\n",
              "      width: 32px;\n",
              "    }\n",
              "\n",
              "    .colab-df-convert:hover {\n",
              "      background-color: #E2EBFA;\n",
              "      box-shadow: 0px 1px 2px rgba(60, 64, 67, 0.3), 0px 1px 3px 1px rgba(60, 64, 67, 0.15);\n",
              "      fill: #174EA6;\n",
              "    }\n",
              "\n",
              "    [theme=dark] .colab-df-convert {\n",
              "      background-color: #3B4455;\n",
              "      fill: #D2E3FC;\n",
              "    }\n",
              "\n",
              "    [theme=dark] .colab-df-convert:hover {\n",
              "      background-color: #434B5C;\n",
              "      box-shadow: 0px 1px 3px 1px rgba(0, 0, 0, 0.15);\n",
              "      filter: drop-shadow(0px 1px 2px rgba(0, 0, 0, 0.3));\n",
              "      fill: #FFFFFF;\n",
              "    }\n",
              "  </style>\n",
              "\n",
              "      <script>\n",
              "        const buttonEl =\n",
              "          document.querySelector('#df-4623827d-16b0-4036-b535-6e6c197e96c6 button.colab-df-convert');\n",
              "        buttonEl.style.display =\n",
              "          google.colab.kernel.accessAllowed ? 'block' : 'none';\n",
              "\n",
              "        async function convertToInteractive(key) {\n",
              "          const element = document.querySelector('#df-4623827d-16b0-4036-b535-6e6c197e96c6');\n",
              "          const dataTable =\n",
              "            await google.colab.kernel.invokeFunction('convertToInteractive',\n",
              "                                                     [key], {});\n",
              "          if (!dataTable) return;\n",
              "\n",
              "          const docLinkHtml = 'Like what you see? Visit the ' +\n",
              "            '<a target=\"_blank\" href=https://colab.research.google.com/notebooks/data_table.ipynb>data table notebook</a>'\n",
              "            + ' to learn more about interactive tables.';\n",
              "          element.innerHTML = '';\n",
              "          dataTable['output_type'] = 'display_data';\n",
              "          await google.colab.output.renderOutput(dataTable, element);\n",
              "          const docLink = document.createElement('div');\n",
              "          docLink.innerHTML = docLinkHtml;\n",
              "          element.appendChild(docLink);\n",
              "        }\n",
              "      </script>\n",
              "    </div>\n",
              "  </div>\n",
              "  "
            ]
          },
          "metadata": {},
          "execution_count": 93
        }
      ],
      "source": [
        "prev[prev['RESULT_MEAN'] == 1].sort_values(by='PROBABILIDADE', ascending = False).head(10)"
      ]
    },
    {
      "cell_type": "code",
      "source": [
        "# df_locs = pd.read_excel(r'/content/drive/MyDrive/Compesa_CHD/localidades_Gregs.xlsx', sheet_name = 'locas')"
      ],
      "metadata": {
        "id": "Bs3ijjy358bw"
      },
      "execution_count": 94,
      "outputs": []
    },
    {
      "cell_type": "code",
      "source": [
        " # df_locs = prev.merge(df_locs)"
      ],
      "metadata": {
        "id": "sDgJjeZZ5-8E"
      },
      "execution_count": 95,
      "outputs": []
    },
    {
      "cell_type": "code",
      "execution_count": 96,
      "metadata": {
        "id": "hRfBqef6_FwE",
        "colab": {
          "base_uri": "https://localhost:8080/"
        },
        "outputId": "d8354bf9-517e-4aa6-ab9b-25d410de360a"
      },
      "outputs": [
        {
          "name": "stdout",
          "output_type": "stream",
          "text": [
            "Digite o nome da unidade\n",
            "dskjbasj\n"
          ]
        }
      ],
      "source": [
        "ano = date.today().year\n",
        "mes = date.today().month\n",
        "dia = date.today().day\n",
        "print('Digite o nome da unidade')\n",
        "unidade = input()\n",
        "amd = f\"{str(ano)}{str(mes)}{str(dia)}_predicao_{unidade}.xlsx\""
      ]
    },
    {
      "cell_type": "code",
      "execution_count": 97,
      "metadata": {
        "id": "LpGDNCCahAJs"
      },
      "outputs": [],
      "source": [
        "#df_locs.to_excel(amd, index=False)"
      ]
    },
    {
      "cell_type": "code",
      "execution_count": 98,
      "metadata": {
        "id": "RV35fYbX5lw_",
        "colab": {
          "base_uri": "https://localhost:8080/"
        },
        "outputId": "6689df07-3433-4701-c4df-cbf39ac65c7e"
      },
      "outputs": [
        {
          "output_type": "execute_result",
          "data": {
            "text/plain": [
              "(43, 13)"
            ]
          },
          "metadata": {},
          "execution_count": 98
        }
      ],
      "source": [
        "prev[(prev['TEMPO_ATIVIDADE']>= 1440) & (prev['TEMPO_ATIVIDADE']< 2880) & (prev['RESULT_MEAN'] == 1)].shape"
      ]
    },
    {
      "cell_type": "code",
      "execution_count": 99,
      "metadata": {
        "id": "4Tj84MmPFq80",
        "colab": {
          "base_uri": "https://localhost:8080/"
        },
        "outputId": "1ea12772-e8a1-432e-a8c9-1035c01c7acb"
      },
      "outputs": [
        {
          "output_type": "execute_result",
          "data": {
            "text/plain": [
              "(216, 13)"
            ]
          },
          "metadata": {},
          "execution_count": 99
        }
      ],
      "source": [
        "prev[prev['RESULT_MEAN'] == 1].shape"
      ]
    },
    {
      "cell_type": "code",
      "execution_count": 113,
      "metadata": {
        "id": "k6TUHr3XG8LA",
        "colab": {
          "base_uri": "https://localhost:8080/",
          "height": 930
        },
        "outputId": "e53b0348-d6d8-467c-d246-20cc0ebeea01"
      },
      "outputs": [
        {
          "output_type": "display_data",
          "data": {
            "text/plain": [
              "<Figure size 1500x800 with 1 Axes>"
            ],
            "image/png": "[encoded data removed]"
          },
          "metadata": {}
        }
      ],
      "source": [
        "dici = dict(zip(X_Pred.columns, random_forest.feature_importances_))\n",
        "\n",
        "dici = dict(sorted(dici.items(), key=lambda item: item[1]))\n",
        "\n",
        "features = list(dici.keys())\n",
        "\n",
        "feat_importance = list(dici.values())\n",
        "\n",
        "fig, axes = plt.subplots(figsize = (15, 8))\n",
        "\n",
        "plt.bar(range(len(features)), feat_importance, tick_label = features)\n",
        "\n",
        "plt.title('Feature Importance', fontsize = 20)\n",
        "\n",
        "plt.xticks(rotation = 90)\n",
        "\n",
        "plt.show()"
      ]
    },
    {
      "cell_type": "code",
      "execution_count": 101,
      "metadata": {
        "id": "-IfS2MQz0__B"
      },
      "outputs": [],
      "source": [
        "aval = prev[(prev['IDADE']>= 5) & (prev['RESULT_MEAN'] == 1)]"
      ]
    },
    {
      "cell_type": "code",
      "execution_count": 102,
      "metadata": {
        "id": "BaveTIcL1Y7y",
        "colab": {
          "base_uri": "https://localhost:8080/",
          "height": 206
        },
        "outputId": "5ce526c0-1ecc-45d4-fcce-0fccc4653acc"
      },
      "outputs": [
        {
          "output_type": "execute_result",
          "data": {
            "text/plain": [
              "   LOCA_ID  STCM_CDSETORCOMERCIAL  IMOV_ID\n",
              "0       41                    953       20\n",
              "1       41                    986        9\n",
              "2      131                    160        8\n",
              "3      131                    145        7\n",
              "4      131                    130        6"
            ],
            "text/html": [
              "\n",
              "  <div id=\"df-a7b6a441-95de-498c-8c65-4c872ed2933e\">\n",
              "    <div class=\"colab-df-container\">\n",
              "      <div>\n",
              "<style scoped>\n",
              "    .dataframe tbody tr th:only-of-type {\n",
              "        vertical-align: middle;\n",
              "    }\n",
              "\n",
              "    .dataframe tbody tr th {\n",
              "        vertical-align: top;\n",
              "    }\n",
              "\n",
              "    .dataframe thead th {\n",
              "        text-align: right;\n",
              "    }\n",
              "</style>\n",
              "<table border=\"1\" class=\"dataframe\">\n",
              "  <thead>\n",
              "    <tr style=\"text-align: right;\">\n",
              "      <th></th>\n",
              "      <th>LOCA_ID</th>\n",
              "      <th>STCM_CDSETORCOMERCIAL</th>\n",
              "      <th>IMOV_ID</th>\n",
              "    </tr>\n",
              "  </thead>\n",
              "  <tbody>\n",
              "    <tr>\n",
              "      <th>0</th>\n",
              "      <td>41</td>\n",
              "      <td>953</td>\n",
              "      <td>20</td>\n",
              "    </tr>\n",
              "    <tr>\n",
              "      <th>1</th>\n",
              "      <td>41</td>\n",
              "      <td>986</td>\n",
              "      <td>9</td>\n",
              "    </tr>\n",
              "    <tr>\n",
              "      <th>2</th>\n",
              "      <td>131</td>\n",
              "      <td>160</td>\n",
              "      <td>8</td>\n",
              "    </tr>\n",
              "    <tr>\n",
              "      <th>3</th>\n",
              "      <td>131</td>\n",
              "      <td>145</td>\n",
              "      <td>7</td>\n",
              "    </tr>\n",
              "    <tr>\n",
              "      <th>4</th>\n",
              "      <td>131</td>\n",
              "      <td>130</td>\n",
              "      <td>6</td>\n",
              "    </tr>\n",
              "  </tbody>\n",
              "</table>\n",
              "</div>\n",
              "      <button class=\"colab-df-convert\" onclick=\"convertToInteractive('df-a7b6a441-95de-498c-8c65-4c872ed2933e')\"\n",
              "              title=\"Convert this dataframe to an interactive table.\"\n",
              "              style=\"display:none;\">\n",
              "        \n",
              "  <svg xmlns=\"http://www.w3.org/2000/svg\" height=\"24px\"viewBox=\"0 0 24 24\"\n",
              "       width=\"24px\">\n",
              "    <path d=\"M0 0h24v24H0V0z\" fill=\"none\"/>\n",
              "    <path d=\"M18.56 5.44l.94 2.06.94-2.06 2.06-.94-2.06-.94-.94-2.06-.94 2.06-2.06.94zm-11 1L8.5 8.5l.94-2.06 2.06-.94-2.06-.94L8.5 2.5l-.94 2.06-2.06.94zm10 10l.94 2.06.94-2.06 2.06-.94-2.06-.94-.94-2.06-.94 2.06-2.06.94z\"/><path d=\"M17.41 7.96l-1.37-1.37c-.4-.4-.92-.59-1.43-.59-.52 0-1.04.2-1.43.59L10.3 9.45l-7.72 7.72c-.78.78-.78 2.05 0 2.83L4 21.41c.39.39.9.59 1.41.59.51 0 1.02-.2 1.41-.59l7.78-7.78 2.81-2.81c.8-.78.8-2.07 0-2.86zM5.41 20L4 18.59l7.72-7.72 1.47 1.35L5.41 20z\"/>\n",
              "  </svg>\n",
              "      </button>\n",
              "      \n",
              "  <style>\n",
              "    .colab-df-container {\n",
              "      display:flex;\n",
              "      flex-wrap:wrap;\n",
              "      gap: 12px;\n",
              "    }\n",
              "\n",
              "    .colab-df-convert {\n",
              "      background-color: #E8F0FE;\n",
              "      border: none;\n",
              "      border-radius: 50%;\n",
              "      cursor: pointer;\n",
              "      display: none;\n",
              "      fill: #1967D2;\n",
              "      height: 32px;\n",
              "      padding: 0 0 0 0;\n",
              "      width: 32px;\n",
              "    }\n",
              "\n",
              "    .colab-df-convert:hover {\n",
              "      background-color: #E2EBFA;\n",
              "      box-shadow: 0px 1px 2px rgba(60, 64, 67, 0.3), 0px 1px 3px 1px rgba(60, 64, 67, 0.15);\n",
              "      fill: #174EA6;\n",
              "    }\n",
              "\n",
              "    [theme=dark] .colab-df-convert {\n",
              "      background-color: #3B4455;\n",
              "      fill: #D2E3FC;\n",
              "    }\n",
              "\n",
              "    [theme=dark] .colab-df-convert:hover {\n",
              "      background-color: #434B5C;\n",
              "      box-shadow: 0px 1px 3px 1px rgba(0, 0, 0, 0.15);\n",
              "      filter: drop-shadow(0px 1px 2px rgba(0, 0, 0, 0.3));\n",
              "      fill: #FFFFFF;\n",
              "    }\n",
              "  </style>\n",
              "\n",
              "      <script>\n",
              "        const buttonEl =\n",
              "          document.querySelector('#df-a7b6a441-95de-498c-8c65-4c872ed2933e button.colab-df-convert');\n",
              "        buttonEl.style.display =\n",
              "          google.colab.kernel.accessAllowed ? 'block' : 'none';\n",
              "\n",
              "        async function convertToInteractive(key) {\n",
              "          const element = document.querySelector('#df-a7b6a441-95de-498c-8c65-4c872ed2933e');\n",
              "          const dataTable =\n",
              "            await google.colab.kernel.invokeFunction('convertToInteractive',\n",
              "                                                     [key], {});\n",
              "          if (!dataTable) return;\n",
              "\n",
              "          const docLinkHtml = 'Like what you see? Visit the ' +\n",
              "            '<a target=\"_blank\" href=https://colab.research.google.com/notebooks/data_table.ipynb>data table notebook</a>'\n",
              "            + ' to learn more about interactive tables.';\n",
              "          element.innerHTML = '';\n",
              "          dataTable['output_type'] = 'display_data';\n",
              "          await google.colab.output.renderOutput(dataTable, element);\n",
              "          const docLink = document.createElement('div');\n",
              "          docLink.innerHTML = docLinkHtml;\n",
              "          element.appendChild(docLink);\n",
              "        }\n",
              "      </script>\n",
              "    </div>\n",
              "  </div>\n",
              "  "
            ]
          },
          "metadata": {},
          "execution_count": 102
        }
      ],
      "source": [
        "aval.groupby(['LOCA_ID', 'STCM_CDSETORCOMERCIAL'])['IMOV_ID'].count().sort_values(ascending=False).head().reset_index()"
      ]
    },
    {
      "cell_type": "code",
      "execution_count": 103,
      "metadata": {
        "id": "F3ZojlLo2gAK",
        "colab": {
          "base_uri": "https://localhost:8080/"
        },
        "outputId": "3a08d500-2344-450a-8d64-1622e9fe45a5"
      },
      "outputs": [
        {
          "output_type": "execute_result",
          "data": {
            "text/plain": [
              "Series([], Name: IMOV_ID, dtype: int64)"
            ]
          },
          "metadata": {},
          "execution_count": 103
        }
      ],
      "source": [
        "aval[(aval['LOCA_ID'] == 342) & (aval['STCM_CDSETORCOMERCIAL'] == 522)]['IMOV_ID']"
      ]
    },
    {
      "cell_type": "code",
      "execution_count": 104,
      "metadata": {
        "id": "Cikgh2wIkWEr",
        "colab": {
          "base_uri": "https://localhost:8080/",
          "height": 427
        },
        "outputId": "3ab38e01-b48e-45b9-e6b7-5df4234896fc"
      },
      "outputs": [
        {
          "output_type": "execute_result",
          "data": {
            "text/plain": [
              "         IMOV_ID  LOCA_ID  STCM_CDSETORCOMERCIAL  IDADE  MEDIAN_ANT  \\\n",
              "916    109670086       41                    986      2       498.5   \n",
              "13054    6170757       41                    581     13         0.0   \n",
              "5366    77722590       41                    841      5       103.5   \n",
              "1797     6720471       41                    891     16         0.0   \n",
              "4760     6996728       41                    871      1         0.0   \n",
              "1532     6673015       41                    861      5        72.5   \n",
              "2569   106656104       41                    721      8         0.0   \n",
              "18606  109266862       41                    270      4         0.0   \n",
              "4385   109266978       41                    270      4        62.0   \n",
              "13423    6179894       41                    581      1        24.5   \n",
              "\n",
              "         MEAN_ANT  TEMPO_ATIVIDADE      SLOPE  QTDANORMALIDADELEITURA_ANT  \\\n",
              "916    457.916667              768 -32.094406                           0   \n",
              "13054   18.083333             4232  -6.989510                           3   \n",
              "5366    97.583333              209 -25.108392                           0   \n",
              "1797    11.166667             5348  -4.153846                           0   \n",
              "4760    12.750000               47  -5.800699                           0   \n",
              "1532    81.000000              154 -15.055944                           0   \n",
              "2569     0.000000             2813   0.000000                          19   \n",
              "18606    1.916667              971   0.884615                           0   \n",
              "4385    43.250000              971   6.653846                           0   \n",
              "13423   17.916667              233  -3.905594                           1   \n",
              "\n",
              "       SOMATORIO_CONSUMO  CAPACIDADE_HD  RESULT_MEAN  PROBABILIDADE  \n",
              "916               6202.0              7            1       0.947709  \n",
              "13054             6332.0              2            1       0.902772  \n",
              "5366              1170.0              4            1       0.899615  \n",
              "1797              3614.0              8            1       0.898379  \n",
              "4760               141.0              2            1       0.875916  \n",
              "1532               824.0              4            1       0.854361  \n",
              "2569              2979.0              2            1       0.848108  \n",
              "18606              660.0              2            1       0.826564  \n",
              "4385              1981.0              2            1       0.820392  \n",
              "13423              215.0              2            1       0.812272  "
            ],
            "text/html": [
              "\n",
              "  <div id=\"df-7a3a7098-ea03-4723-b3a0-c3f71b3f8e03\">\n",
              "    <div class=\"colab-df-container\">\n",
              "      <div>\n",
              "<style scoped>\n",
              "    .dataframe tbody tr th:only-of-type {\n",
              "        vertical-align: middle;\n",
              "    }\n",
              "\n",
              "    .dataframe tbody tr th {\n",
              "        vertical-align: top;\n",
              "    }\n",
              "\n",
              "    .dataframe thead th {\n",
              "        text-align: right;\n",
              "    }\n",
              "</style>\n",
              "<table border=\"1\" class=\"dataframe\">\n",
              "  <thead>\n",
              "    <tr style=\"text-align: right;\">\n",
              "      <th></th>\n",
              "      <th>IMOV_ID</th>\n",
              "      <th>LOCA_ID</th>\n",
              "      <th>STCM_CDSETORCOMERCIAL</th>\n",
              "      <th>IDADE</th>\n",
              "      <th>MEDIAN_ANT</th>\n",
              "      <th>MEAN_ANT</th>\n",
              "      <th>TEMPO_ATIVIDADE</th>\n",
              "      <th>SLOPE</th>\n",
              "      <th>QTDANORMALIDADELEITURA_ANT</th>\n",
              "      <th>SOMATORIO_CONSUMO</th>\n",
              "      <th>CAPACIDADE_HD</th>\n",
              "      <th>RESULT_MEAN</th>\n",
              "      <th>PROBABILIDADE</th>\n",
              "    </tr>\n",
              "  </thead>\n",
              "  <tbody>\n",
              "    <tr>\n",
              "      <th>916</th>\n",
              "      <td>109670086</td>\n",
              "      <td>41</td>\n",
              "      <td>986</td>\n",
              "      <td>2</td>\n",
              "      <td>498.5</td>\n",
              "      <td>457.916667</td>\n",
              "      <td>768</td>\n",
              "      <td>-32.094406</td>\n",
              "      <td>0</td>\n",
              "      <td>6202.0</td>\n",
              "      <td>7</td>\n",
              "      <td>1</td>\n",
              "      <td>0.947709</td>\n",
              "    </tr>\n",
              "    <tr>\n",
              "      <th>13054</th>\n",
              "      <td>6170757</td>\n",
              "      <td>41</td>\n",
              "      <td>581</td>\n",
              "      <td>13</td>\n",
              "      <td>0.0</td>\n",
              "      <td>18.083333</td>\n",
              "      <td>4232</td>\n",
              "      <td>-6.989510</td>\n",
              "      <td>3</td>\n",
              "      <td>6332.0</td>\n",
              "      <td>2</td>\n",
              "      <td>1</td>\n",
              "      <td>0.902772</td>\n",
              "    </tr>\n",
              "    <tr>\n",
              "      <th>5366</th>\n",
              "      <td>77722590</td>\n",
              "      <td>41</td>\n",
              "      <td>841</td>\n",
              "      <td>5</td>\n",
              "      <td>103.5</td>\n",
              "      <td>97.583333</td>\n",
              "      <td>209</td>\n",
              "      <td>-25.108392</td>\n",
              "      <td>0</td>\n",
              "      <td>1170.0</td>\n",
              "      <td>4</td>\n",
              "      <td>1</td>\n",
              "      <td>0.899615</td>\n",
              "    </tr>\n",
              "    <tr>\n",
              "      <th>1797</th>\n",
              "      <td>6720471</td>\n",
              "      <td>41</td>\n",
              "      <td>891</td>\n",
              "      <td>16</td>\n",
              "      <td>0.0</td>\n",
              "      <td>11.166667</td>\n",
              "      <td>5348</td>\n",
              "      <td>-4.153846</td>\n",
              "      <td>0</td>\n",
              "      <td>3614.0</td>\n",
              "      <td>8</td>\n",
              "      <td>1</td>\n",
              "      <td>0.898379</td>\n",
              "    </tr>\n",
              "    <tr>\n",
              "      <th>4760</th>\n",
              "      <td>6996728</td>\n",
              "      <td>41</td>\n",
              "      <td>871</td>\n",
              "      <td>1</td>\n",
              "      <td>0.0</td>\n",
              "      <td>12.750000</td>\n",
              "      <td>47</td>\n",
              "      <td>-5.800699</td>\n",
              "      <td>0</td>\n",
              "      <td>141.0</td>\n",
              "      <td>2</td>\n",
              "      <td>1</td>\n",
              "      <td>0.875916</td>\n",
              "    </tr>\n",
              "    <tr>\n",
              "      <th>1532</th>\n",
              "      <td>6673015</td>\n",
              "      <td>41</td>\n",
              "      <td>861</td>\n",
              "      <td>5</td>\n",
              "      <td>72.5</td>\n",
              "      <td>81.000000</td>\n",
              "      <td>154</td>\n",
              "      <td>-15.055944</td>\n",
              "      <td>0</td>\n",
              "      <td>824.0</td>\n",
              "      <td>4</td>\n",
              "      <td>1</td>\n",
              "      <td>0.854361</td>\n",
              "    </tr>\n",
              "    <tr>\n",
              "      <th>2569</th>\n",
              "      <td>106656104</td>\n",
              "      <td>41</td>\n",
              "      <td>721</td>\n",
              "      <td>8</td>\n",
              "      <td>0.0</td>\n",
              "      <td>0.000000</td>\n",
              "      <td>2813</td>\n",
              "      <td>0.000000</td>\n",
              "      <td>19</td>\n",
              "      <td>2979.0</td>\n",
              "      <td>2</td>\n",
              "      <td>1</td>\n",
              "      <td>0.848108</td>\n",
              "    </tr>\n",
              "    <tr>\n",
              "      <th>18606</th>\n",
              "      <td>109266862</td>\n",
              "      <td>41</td>\n",
              "      <td>270</td>\n",
              "      <td>4</td>\n",
              "      <td>0.0</td>\n",
              "      <td>1.916667</td>\n",
              "      <td>971</td>\n",
              "      <td>0.884615</td>\n",
              "      <td>0</td>\n",
              "      <td>660.0</td>\n",
              "      <td>2</td>\n",
              "      <td>1</td>\n",
              "      <td>0.826564</td>\n",
              "    </tr>\n",
              "    <tr>\n",
              "      <th>4385</th>\n",
              "      <td>109266978</td>\n",
              "      <td>41</td>\n",
              "      <td>270</td>\n",
              "      <td>4</td>\n",
              "      <td>62.0</td>\n",
              "      <td>43.250000</td>\n",
              "      <td>971</td>\n",
              "      <td>6.653846</td>\n",
              "      <td>0</td>\n",
              "      <td>1981.0</td>\n",
              "      <td>2</td>\n",
              "      <td>1</td>\n",
              "      <td>0.820392</td>\n",
              "    </tr>\n",
              "    <tr>\n",
              "      <th>13423</th>\n",
              "      <td>6179894</td>\n",
              "      <td>41</td>\n",
              "      <td>581</td>\n",
              "      <td>1</td>\n",
              "      <td>24.5</td>\n",
              "      <td>17.916667</td>\n",
              "      <td>233</td>\n",
              "      <td>-3.905594</td>\n",
              "      <td>1</td>\n",
              "      <td>215.0</td>\n",
              "      <td>2</td>\n",
              "      <td>1</td>\n",
              "      <td>0.812272</td>\n",
              "    </tr>\n",
              "  </tbody>\n",
              "</table>\n",
              "</div>\n",
              "      <button class=\"colab-df-convert\" onclick=\"convertToInteractive('df-7a3a7098-ea03-4723-b3a0-c3f71b3f8e03')\"\n",
              "              title=\"Convert this dataframe to an interactive table.\"\n",
              "              style=\"display:none;\">\n",
              "        \n",
              "  <svg xmlns=\"http://www.w3.org/2000/svg\" height=\"24px\"viewBox=\"0 0 24 24\"\n",
              "       width=\"24px\">\n",
              "    <path d=\"M0 0h24v24H0V0z\" fill=\"none\"/>\n",
              "    <path d=\"M18.56 5.44l.94 2.06.94-2.06 2.06-.94-2.06-.94-.94-2.06-.94 2.06-2.06.94zm-11 1L8.5 8.5l.94-2.06 2.06-.94-2.06-.94L8.5 2.5l-.94 2.06-2.06.94zm10 10l.94 2.06.94-2.06 2.06-.94-2.06-.94-.94-2.06-.94 2.06-2.06.94z\"/><path d=\"M17.41 7.96l-1.37-1.37c-.4-.4-.92-.59-1.43-.59-.52 0-1.04.2-1.43.59L10.3 9.45l-7.72 7.72c-.78.78-.78 2.05 0 2.83L4 21.41c.39.39.9.59 1.41.59.51 0 1.02-.2 1.41-.59l7.78-7.78 2.81-2.81c.8-.78.8-2.07 0-2.86zM5.41 20L4 18.59l7.72-7.72 1.47 1.35L5.41 20z\"/>\n",
              "  </svg>\n",
              "      </button>\n",
              "      \n",
              "  <style>\n",
              "    .colab-df-container {\n",
              "      display:flex;\n",
              "      flex-wrap:wrap;\n",
              "      gap: 12px;\n",
              "    }\n",
              "\n",
              "    .colab-df-convert {\n",
              "      background-color: #E8F0FE;\n",
              "      border: none;\n",
              "      border-radius: 50%;\n",
              "      cursor: pointer;\n",
              "      display: none;\n",
              "      fill: #1967D2;\n",
              "      height: 32px;\n",
              "      padding: 0 0 0 0;\n",
              "      width: 32px;\n",
              "    }\n",
              "\n",
              "    .colab-df-convert:hover {\n",
              "      background-color: #E2EBFA;\n",
              "      box-shadow: 0px 1px 2px rgba(60, 64, 67, 0.3), 0px 1px 3px 1px rgba(60, 64, 67, 0.15);\n",
              "      fill: #174EA6;\n",
              "    }\n",
              "\n",
              "    [theme=dark] .colab-df-convert {\n",
              "      background-color: #3B4455;\n",
              "      fill: #D2E3FC;\n",
              "    }\n",
              "\n",
              "    [theme=dark] .colab-df-convert:hover {\n",
              "      background-color: #434B5C;\n",
              "      box-shadow: 0px 1px 3px 1px rgba(0, 0, 0, 0.15);\n",
              "      filter: drop-shadow(0px 1px 2px rgba(0, 0, 0, 0.3));\n",
              "      fill: #FFFFFF;\n",
              "    }\n",
              "  </style>\n",
              "\n",
              "      <script>\n",
              "        const buttonEl =\n",
              "          document.querySelector('#df-7a3a7098-ea03-4723-b3a0-c3f71b3f8e03 button.colab-df-convert');\n",
              "        buttonEl.style.display =\n",
              "          google.colab.kernel.accessAllowed ? 'block' : 'none';\n",
              "\n",
              "        async function convertToInteractive(key) {\n",
              "          const element = document.querySelector('#df-7a3a7098-ea03-4723-b3a0-c3f71b3f8e03');\n",
              "          const dataTable =\n",
              "            await google.colab.kernel.invokeFunction('convertToInteractive',\n",
              "                                                     [key], {});\n",
              "          if (!dataTable) return;\n",
              "\n",
              "          const docLinkHtml = 'Like what you see? Visit the ' +\n",
              "            '<a target=\"_blank\" href=https://colab.research.google.com/notebooks/data_table.ipynb>data table notebook</a>'\n",
              "            + ' to learn more about interactive tables.';\n",
              "          element.innerHTML = '';\n",
              "          dataTable['output_type'] = 'display_data';\n",
              "          await google.colab.output.renderOutput(dataTable, element);\n",
              "          const docLink = document.createElement('div');\n",
              "          docLink.innerHTML = docLinkHtml;\n",
              "          element.appendChild(docLink);\n",
              "        }\n",
              "      </script>\n",
              "    </div>\n",
              "  </div>\n",
              "  "
            ]
          },
          "metadata": {},
          "execution_count": 104
        }
      ],
      "source": [
        "prev[prev['RESULT_MEAN'] == 1].sort_values(by='PROBABILIDADE', ascending = False).head(10)"
      ]
    },
    {
      "cell_type": "code",
      "execution_count": 105,
      "metadata": {
        "id": "b9WAw9ibxS61",
        "colab": {
          "base_uri": "https://localhost:8080/"
        },
        "outputId": "ed65d7bd-238d-4851-bda8-aadaca6798a0"
      },
      "outputs": [
        {
          "output_type": "execute_result",
          "data": {
            "text/plain": [
              "IDADE\n",
              "1     38\n",
              "16    23\n",
              "11    22\n",
              "3     20\n",
              "13    19\n",
              "12    19\n",
              "4     16\n",
              "5     15\n",
              "2     10\n",
              "6      6\n",
              "7      6\n",
              "14     6\n",
              "10     4\n",
              "9      4\n",
              "8      4\n",
              "15     2\n",
              "17     1\n",
              "29     1\n",
              "Name: IMOV_ID, dtype: int64"
            ]
          },
          "metadata": {},
          "execution_count": 105
        }
      ],
      "source": [
        "prev[prev['RESULT_MEAN'] == 1].groupby('IDADE')['IMOV_ID'].count().sort_values(ascending = False)"
      ]
    },
    {
      "cell_type": "code",
      "execution_count": 106,
      "metadata": {
        "id": "mWSFoisMEcHk",
        "colab": {
          "base_uri": "https://localhost:8080/",
          "height": 49
        },
        "outputId": "695c5663-5552-4f17-b710-ccfe3f4da302"
      },
      "outputs": [
        {
          "output_type": "execute_result",
          "data": {
            "text/plain": [
              "Empty DataFrame\n",
              "Columns: [IMOV_ID, LOCA_ID, STCM_CDSETORCOMERCIAL, IDADE, MEDIAN_ANT, MEAN_ANT, TEMPO_ATIVIDADE, SLOPE, QTDANORMALIDADELEITURA_ANT, SOMATORIO_CONSUMO, CAPACIDADE_HD, RESULT_MEAN, PROBABILIDADE]\n",
              "Index: []"
            ],
            "text/html": [
              "\n",
              "  <div id=\"df-789afeff-52d9-4b25-95f6-fc02717cd9b7\">\n",
              "    <div class=\"colab-df-container\">\n",
              "      <div>\n",
              "<style scoped>\n",
              "    .dataframe tbody tr th:only-of-type {\n",
              "        vertical-align: middle;\n",
              "    }\n",
              "\n",
              "    .dataframe tbody tr th {\n",
              "        vertical-align: top;\n",
              "    }\n",
              "\n",
              "    .dataframe thead th {\n",
              "        text-align: right;\n",
              "    }\n",
              "</style>\n",
              "<table border=\"1\" class=\"dataframe\">\n",
              "  <thead>\n",
              "    <tr style=\"text-align: right;\">\n",
              "      <th></th>\n",
              "      <th>IMOV_ID</th>\n",
              "      <th>LOCA_ID</th>\n",
              "      <th>STCM_CDSETORCOMERCIAL</th>\n",
              "      <th>IDADE</th>\n",
              "      <th>MEDIAN_ANT</th>\n",
              "      <th>MEAN_ANT</th>\n",
              "      <th>TEMPO_ATIVIDADE</th>\n",
              "      <th>SLOPE</th>\n",
              "      <th>QTDANORMALIDADELEITURA_ANT</th>\n",
              "      <th>SOMATORIO_CONSUMO</th>\n",
              "      <th>CAPACIDADE_HD</th>\n",
              "      <th>RESULT_MEAN</th>\n",
              "      <th>PROBABILIDADE</th>\n",
              "    </tr>\n",
              "  </thead>\n",
              "  <tbody>\n",
              "  </tbody>\n",
              "</table>\n",
              "</div>\n",
              "      <button class=\"colab-df-convert\" onclick=\"convertToInteractive('df-789afeff-52d9-4b25-95f6-fc02717cd9b7')\"\n",
              "              title=\"Convert this dataframe to an interactive table.\"\n",
              "              style=\"display:none;\">\n",
              "        \n",
              "  <svg xmlns=\"http://www.w3.org/2000/svg\" height=\"24px\"viewBox=\"0 0 24 24\"\n",
              "       width=\"24px\">\n",
              "    <path d=\"M0 0h24v24H0V0z\" fill=\"none\"/>\n",
              "    <path d=\"M18.56 5.44l.94 2.06.94-2.06 2.06-.94-2.06-.94-.94-2.06-.94 2.06-2.06.94zm-11 1L8.5 8.5l.94-2.06 2.06-.94-2.06-.94L8.5 2.5l-.94 2.06-2.06.94zm10 10l.94 2.06.94-2.06 2.06-.94-2.06-.94-.94-2.06-.94 2.06-2.06.94z\"/><path d=\"M17.41 7.96l-1.37-1.37c-.4-.4-.92-.59-1.43-.59-.52 0-1.04.2-1.43.59L10.3 9.45l-7.72 7.72c-.78.78-.78 2.05 0 2.83L4 21.41c.39.39.9.59 1.41.59.51 0 1.02-.2 1.41-.59l7.78-7.78 2.81-2.81c.8-.78.8-2.07 0-2.86zM5.41 20L4 18.59l7.72-7.72 1.47 1.35L5.41 20z\"/>\n",
              "  </svg>\n",
              "      </button>\n",
              "      \n",
              "  <style>\n",
              "    .colab-df-container {\n",
              "      display:flex;\n",
              "      flex-wrap:wrap;\n",
              "      gap: 12px;\n",
              "    }\n",
              "\n",
              "    .colab-df-convert {\n",
              "      background-color: #E8F0FE;\n",
              "      border: none;\n",
              "      border-radius: 50%;\n",
              "      cursor: pointer;\n",
              "      display: none;\n",
              "      fill: #1967D2;\n",
              "      height: 32px;\n",
              "      padding: 0 0 0 0;\n",
              "      width: 32px;\n",
              "    }\n",
              "\n",
              "    .colab-df-convert:hover {\n",
              "      background-color: #E2EBFA;\n",
              "      box-shadow: 0px 1px 2px rgba(60, 64, 67, 0.3), 0px 1px 3px 1px rgba(60, 64, 67, 0.15);\n",
              "      fill: #174EA6;\n",
              "    }\n",
              "\n",
              "    [theme=dark] .colab-df-convert {\n",
              "      background-color: #3B4455;\n",
              "      fill: #D2E3FC;\n",
              "    }\n",
              "\n",
              "    [theme=dark] .colab-df-convert:hover {\n",
              "      background-color: #434B5C;\n",
              "      box-shadow: 0px 1px 3px 1px rgba(0, 0, 0, 0.15);\n",
              "      filter: drop-shadow(0px 1px 2px rgba(0, 0, 0, 0.3));\n",
              "      fill: #FFFFFF;\n",
              "    }\n",
              "  </style>\n",
              "\n",
              "      <script>\n",
              "        const buttonEl =\n",
              "          document.querySelector('#df-789afeff-52d9-4b25-95f6-fc02717cd9b7 button.colab-df-convert');\n",
              "        buttonEl.style.display =\n",
              "          google.colab.kernel.accessAllowed ? 'block' : 'none';\n",
              "\n",
              "        async function convertToInteractive(key) {\n",
              "          const element = document.querySelector('#df-789afeff-52d9-4b25-95f6-fc02717cd9b7');\n",
              "          const dataTable =\n",
              "            await google.colab.kernel.invokeFunction('convertToInteractive',\n",
              "                                                     [key], {});\n",
              "          if (!dataTable) return;\n",
              "\n",
              "          const docLinkHtml = 'Like what you see? Visit the ' +\n",
              "            '<a target=\"_blank\" href=https://colab.research.google.com/notebooks/data_table.ipynb>data table notebook</a>'\n",
              "            + ' to learn more about interactive tables.';\n",
              "          element.innerHTML = '';\n",
              "          dataTable['output_type'] = 'display_data';\n",
              "          await google.colab.output.renderOutput(dataTable, element);\n",
              "          const docLink = document.createElement('div');\n",
              "          docLink.innerHTML = docLinkHtml;\n",
              "          element.appendChild(docLink);\n",
              "        }\n",
              "      </script>\n",
              "    </div>\n",
              "  </div>\n",
              "  "
            ]
          },
          "metadata": {},
          "execution_count": 106
        }
      ],
      "source": [
        "prev[(prev['LOCA_ID'] == 60) & (prev['PROBABILIDADE'] > 0.5)]"
      ]
    }
  ],
  "metadata": {
    "colab": {
      "provenance": [],
      "include_colab_link": true
    },
    "kernelspec": {
      "display_name": "Python 3",
      "name": "python3"
    },
    "language_info": {
      "name": "python"
    }
  },
  "nbformat": 4,
  "nbformat_minor": 0
}