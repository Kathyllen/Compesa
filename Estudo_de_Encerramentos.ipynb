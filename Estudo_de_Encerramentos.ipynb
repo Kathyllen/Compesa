{
  "cells": [
    {
      "cell_type": "markdown",
      "metadata": {
        "id": "view-in-github",
        "colab_type": "text"
      },
      "source": [
        "<a href=\"https://colab.research.google.com/github/Kathyllen/Compesa/blob/LabelEncoder/Estudo_de_Encerramentos.ipynb\" target=\"_parent\"><img src=\"https://colab.research.google.com/assets/colab-badge.svg\" alt=\"Open In Colab\"/></a>"
      ]
    },
    {
      "cell_type": "markdown",
      "source": [
        "### Importações"
      ],
      "metadata": {
        "id": "rTgcUdkNKqCG"
      }
    },
    {
      "cell_type": "code",
      "execution_count": 127,
      "metadata": {
        "id": "gI6ETadWc8ij",
        "colab": {
          "base_uri": "https://localhost:8080/"
        },
        "outputId": "b6ea2146-983c-4f4b-9a0a-94600a6078dd"
      },
      "outputs": [
        {
          "output_type": "stream",
          "name": "stderr",
          "text": [
            "[nltk_data] Downloading package stopwords to /root/nltk_data...\n",
            "[nltk_data]   Package stopwords is already up-to-date!\n"
          ]
        }
      ],
      "source": [
        "import re\n",
        "import nltk\n",
        "import unicodedata\n",
        "import numpy as np\n",
        "import pandas as pd\n",
        "import datetime as dt\n",
        "import xgboost as xgb\n",
        "nltk.download('stopwords')\n",
        "import matplotlib.pyplot as plt\n",
        "from nltk.corpus import stopwords\n",
        "from sklearn.preprocessing import LabelEncoder\n",
        "from sklearn.model_selection import train_test_split\n",
        "from sklearn.model_selection import learning_curve\n",
        "from sklearn.feature_extraction.text import CountVectorizer\n",
        "from sklearn.metrics import plot_confusion_matrix, accuracy_score\n",
        "from collections import defaultdict"
      ]
    },
    {
      "cell_type": "code",
      "execution_count": 128,
      "metadata": {
        "id": "h7l546JBbvsu",
        "colab": {
          "base_uri": "https://localhost:8080/"
        },
        "outputId": "4c8da184-9892-4f75-d1c4-41523a689ab2"
      },
      "outputs": [
        {
          "output_type": "stream",
          "name": "stderr",
          "text": [
            "<ipython-input-128-cab0ff8dea43>:4: FutureWarning: Inferring datetime64[ns] from data containing strings is deprecated and will be removed in a future version. To retain the old behavior explicitly pass Series(data, dtype={value.dtype})\n",
            "  train_df = pd.read_excel(path_train)\n"
          ]
        }
      ],
      "source": [
        "path_train = r'/content/20221025_Estudo_Encerramentos.xlsx'\n",
        "path_predict = r'/content/Estudo de encerramentos.xlsx'\n",
        "\n",
        "train_df = pd.read_excel(path_train)\n",
        "predict_df = pd.read_excel(path_predict)"
      ]
    },
    {
      "cell_type": "code",
      "source": [
        "predict_df = predict_df.loc[~predict_df['Número OS'].isin(train_df['Número OS'])]"
      ],
      "metadata": {
        "id": "YgjJPJs2jfzU"
      },
      "execution_count": 129,
      "outputs": []
    },
    {
      "cell_type": "code",
      "source": [
        "predict_df_sampled = predict_df.sample(50, random_state = 3)"
      ],
      "metadata": {
        "id": "AWIm2TgMHnDa"
      },
      "execution_count": 130,
      "outputs": []
    },
    {
      "cell_type": "code",
      "execution_count": 131,
      "metadata": {
        "id": "0C-q1oGEeXql",
        "colab": {
          "base_uri": "https://localhost:8080/"
        },
        "outputId": "0fe3eb0f-41a0-4508-8d87-10fb1853f496"
      },
      "outputs": [
        {
          "output_type": "stream",
          "name": "stdout",
          "text": [
            "<class 'pandas.core.frame.DataFrame'>\n",
            "RangeIndex: 1576 entries, 0 to 1575\n",
            "Data columns (total 14 columns):\n",
            " #   Column           Non-Null Count  Dtype         \n",
            "---  ------           --------------  -----         \n",
            " 0   Número OS        1576 non-null   int64         \n",
            " 1   IMOV_ID          1576 non-null   int64         \n",
            " 2   GERENCIA         1576 non-null   object        \n",
            " 3   Município        1576 non-null   object        \n",
            " 4   AM Geração OS    1576 non-null   int64         \n",
            " 5   AM Encer OS      1576 non-null   int64         \n",
            " 6   Dt Geração OS    1576 non-null   datetime64[ns]\n",
            " 7   Dt Encer OS      1576 non-null   datetime64[ns]\n",
            " 8   Tipo Serviço OS  1576 non-null   object        \n",
            " 9   Unid Abert OS    1576 non-null   object        \n",
            " 10  Motivo encer OS  1576 non-null   object        \n",
            " 11  Parecer Enc OS   1576 non-null   object        \n",
            " 12  Comentários      1576 non-null   object        \n",
            " 13  Conclusão        1576 non-null   object        \n",
            "dtypes: datetime64[ns](2), int64(4), object(8)\n",
            "memory usage: 172.5+ KB\n"
          ]
        }
      ],
      "source": [
        "train_df.info()"
      ]
    },
    {
      "cell_type": "code",
      "source": [
        "limite_train = train_df.shape[0]"
      ],
      "metadata": {
        "id": "JBxaf3Ne4ANi"
      },
      "execution_count": 132,
      "outputs": []
    },
    {
      "cell_type": "code",
      "source": [
        "train_df['Conclusão'] = (train_df['Conclusão']\n",
        "                         .replace(['É possível realizar o serviço.', 'Não é possível realizar o serviço.', 'Não precisa gerar outra OS. ', 'Gerar OS de remoção.', 'Gerar OS para instalar HD.', 'Inconclusivo'], \n",
        "                   [0, 1, 1, 2, 3, 4]))"
      ],
      "metadata": {
        "id": "1qciA2GRXfXa"
      },
      "execution_count": 133,
      "outputs": []
    },
    {
      "cell_type": "code",
      "source": [
        "train_df['Conclusão'].value_counts()"
      ],
      "metadata": {
        "colab": {
          "base_uri": "https://localhost:8080/"
        },
        "id": "3zeVy5k6-12I",
        "outputId": "b269ae9e-7460-463a-8ff8-bdc338be5ce7"
      },
      "execution_count": 134,
      "outputs": [
        {
          "output_type": "execute_result",
          "data": {
            "text/plain": [
              "0    762\n",
              "1    561\n",
              "4    121\n",
              "2     82\n",
              "3     50\n",
              "Name: Conclusão, dtype: int64"
            ]
          },
          "metadata": {},
          "execution_count": 134
        }
      ]
    },
    {
      "cell_type": "code",
      "source": [
        "dataframe = pd.concat([train_df, predict_df_sampled], axis = 0).copy()"
      ],
      "metadata": {
        "id": "Gdj5K6YU_t2u"
      },
      "execution_count": 135,
      "outputs": []
    },
    {
      "cell_type": "code",
      "source": [
        "dataframe['Dt Encer OS'] = pd.to_datetime(dataframe['Dt Encer OS'])\n",
        "\n",
        "today = pd.datetime.today()\n",
        "\n",
        "dataframe['TEMPO_DESDE_ENCERRAMENTO'] = (dt.datetime(2022, 11, 3) - dataframe['Dt Encer OS'])"
      ],
      "metadata": {
        "colab": {
          "base_uri": "https://localhost:8080/"
        },
        "id": "2LE7x8uIfpQX",
        "outputId": "a76408a6-5278-43ec-f485-fc36882de3e7"
      },
      "execution_count": 136,
      "outputs": [
        {
          "output_type": "stream",
          "name": "stderr",
          "text": [
            "<ipython-input-136-cd487c4f836f>:3: FutureWarning: The pandas.datetime class is deprecated and will be removed from pandas in a future version. Import from datetime module instead.\n",
            "  today = pd.datetime.today()\n"
          ]
        }
      ]
    },
    {
      "cell_type": "code",
      "source": [
        "dataframe['TEMPO_DESDE_ENCERRAMENTO'] = dataframe['TEMPO_DESDE_ENCERRAMENTO'].dt.days"
      ],
      "metadata": {
        "id": "VEf51muEAs7Y"
      },
      "execution_count": 137,
      "outputs": []
    },
    {
      "cell_type": "code",
      "source": [
        "dataframe = dataframe.drop(columns = ['Localidade', 'Número OS', 'IMOV_ID', 'AM Geração OS', 'AM Encer OS', 'Dt Geração OS', 'Dt Encer OS'])"
      ],
      "metadata": {
        "id": "2egu1nmWIsv1"
      },
      "execution_count": 138,
      "outputs": []
    },
    {
      "cell_type": "code",
      "source": [
        "Var_Categoricas = ['GERENCIA', 'Município', 'Tipo Serviço OS', 'Unid Abert OS', 'Motivo encer OS']"
      ],
      "metadata": {
        "id": "DSXOrlNLflSv"
      },
      "execution_count": 139,
      "outputs": []
    },
    {
      "cell_type": "code",
      "source": [
        "dataframe[Var_Categoricas] = dataframe[Var_Categoricas].astype('category')"
      ],
      "metadata": {
        "id": "8U9ajBYoR9aG"
      },
      "execution_count": 140,
      "outputs": []
    },
    {
      "cell_type": "code",
      "source": [
        "from sklearn.base import BaseEstimator, TransformerMixin\n",
        "from sklearn.preprocessing import LabelEncoder\n",
        "\n",
        "class CategoricalEncoder(BaseEstimator, TransformerMixin):\n",
        "    \n",
        "    def __init__(self, columns):\n",
        "        self.columns = columns\n",
        "        self.encoders = {}\n",
        "        \n",
        "    def fit(self, X, y=None):\n",
        "        for col in self.columns:\n",
        "            encoder = LabelEncoder()\n",
        "            encoder.fit(X[col])\n",
        "            self.encoders[col] = encoder\n",
        "        return self\n",
        "    \n",
        "    def transform(self, X):\n",
        "        X = X.copy()\n",
        "        for col, encoder in self.encoders.items():\n",
        "            X[col] = encoder.transform(X[col])\n",
        "        return X"
      ],
      "metadata": {
        "id": "H1K9r7e_aKsq"
      },
      "execution_count": 141,
      "outputs": []
    },
    {
      "cell_type": "code",
      "source": [
        "from sklearn.compose import ColumnTransformer\n",
        "\n",
        "cat_cols = ['GERENCIA', 'Município', 'Tipo Serviço OS', 'Unid Abert OS', 'Motivo encer OS']\n",
        "\n",
        "ct = ColumnTransformer(\n",
        "    transformers=[\n",
        "        ('cat', CategoricalEncoder(cat_cols), cat_cols),\n",
        "        # add more transformers for other types of columns\n",
        "    ],\n",
        "    remainder='passthrough')"
      ],
      "metadata": {
        "id": "-GG0ii-Habea"
      },
      "execution_count": 142,
      "outputs": []
    },
    {
      "cell_type": "code",
      "source": [
        "encoded_data = ct.fit_transform(dataframe)"
      ],
      "metadata": {
        "id": "NQzc_5zabut-"
      },
      "execution_count": 187,
      "outputs": []
    },
    {
      "cell_type": "code",
      "source": [
        "# create a dictionary of LabelEncoders, one for each categorical column\n",
        "label_encoders = {}\n",
        "for col in cat_cols:\n",
        "    encoder = LabelEncoder()\n",
        "    encoder.fit(encoded_data[col])\n",
        "    label_encoders[col] = encoder\n",
        "\n",
        "# create a copy of X_encoded\n",
        "X_decoded = encoded_data.copy()\n",
        "\n",
        "# iterate through the categorical columns and reverse the encoding\n",
        "for col, encoder in label_encoders.items():\n",
        "    col_idx = encoded_data.columns.get_loc(col)\n",
        "    X_decoded.iloc[:,col_idx] = encoder.inverse_transform(encoded_data.iloc[:, col_idx])"
      ],
      "metadata": {
        "colab": {
          "base_uri": "https://localhost:8080/",
          "height": 235
        },
        "id": "HA4n2AXpdCEO",
        "outputId": "c04f4dea-21e5-4cc8-e7f9-582b8dcacb9d"
      },
      "execution_count": 188,
      "outputs": [
        {
          "output_type": "error",
          "ename": "IndexError",
          "evalue": "ignored",
          "traceback": [
            "\u001b[0;31m---------------------------------------------------------------------------\u001b[0m",
            "\u001b[0;31mIndexError\u001b[0m                                Traceback (most recent call last)",
            "\u001b[0;32m<ipython-input-188-277a2b7eab79>\u001b[0m in \u001b[0;36m<module>\u001b[0;34m\u001b[0m\n\u001b[1;32m      3\u001b[0m \u001b[0;32mfor\u001b[0m \u001b[0mcol\u001b[0m \u001b[0;32min\u001b[0m \u001b[0mcat_cols\u001b[0m\u001b[0;34m:\u001b[0m\u001b[0;34m\u001b[0m\u001b[0;34m\u001b[0m\u001b[0m\n\u001b[1;32m      4\u001b[0m     \u001b[0mencoder\u001b[0m \u001b[0;34m=\u001b[0m \u001b[0mLabelEncoder\u001b[0m\u001b[0;34m(\u001b[0m\u001b[0;34m)\u001b[0m\u001b[0;34m\u001b[0m\u001b[0;34m\u001b[0m\u001b[0m\n\u001b[0;32m----> 5\u001b[0;31m     \u001b[0mencoder\u001b[0m\u001b[0;34m.\u001b[0m\u001b[0mfit\u001b[0m\u001b[0;34m(\u001b[0m\u001b[0mencoded_data\u001b[0m\u001b[0;34m[\u001b[0m\u001b[0mcol\u001b[0m\u001b[0;34m]\u001b[0m\u001b[0;34m)\u001b[0m\u001b[0;34m\u001b[0m\u001b[0;34m\u001b[0m\u001b[0m\n\u001b[0m\u001b[1;32m      6\u001b[0m     \u001b[0mlabel_encoders\u001b[0m\u001b[0;34m[\u001b[0m\u001b[0mcol\u001b[0m\u001b[0;34m]\u001b[0m \u001b[0;34m=\u001b[0m \u001b[0mencoder\u001b[0m\u001b[0;34m\u001b[0m\u001b[0;34m\u001b[0m\u001b[0m\n\u001b[1;32m      7\u001b[0m \u001b[0;34m\u001b[0m\u001b[0m\n",
            "\u001b[0;31mIndexError\u001b[0m: only integers, slices (`:`), ellipsis (`...`), numpy.newaxis (`None`) and integer or boolean arrays are valid indices"
          ]
        }
      ]
    },
    {
      "cell_type": "code",
      "source": [
        "for col, encoder in label_encoders.items():\n",
        "  print(encoded_data.columns.get_loc(col), encoder)"
      ],
      "metadata": {
        "colab": {
          "base_uri": "https://localhost:8080/"
        },
        "id": "4luTtRlQoSMT",
        "outputId": "ff5d0e6c-da84-467a-dc87-7605ec9af69d"
      },
      "execution_count": 183,
      "outputs": [
        {
          "output_type": "stream",
          "name": "stdout",
          "text": [
            "0 LabelEncoder()\n",
            "1 LabelEncoder()\n",
            "2 LabelEncoder()\n",
            "3 LabelEncoder()\n",
            "4 LabelEncoder()\n"
          ]
        }
      ]
    },
    {
      "cell_type": "code",
      "source": [
        "encoded_data."
      ],
      "metadata": {
        "colab": {
          "base_uri": "https://localhost:8080/",
          "height": 165
        },
        "id": "3tjcsiprqIZH",
        "outputId": "60b6a0c7-3862-4df6-f235-c8fd310dd0c1"
      },
      "execution_count": 189,
      "outputs": [
        {
          "output_type": "error",
          "ename": "AttributeError",
          "evalue": "ignored",
          "traceback": [
            "\u001b[0;31m---------------------------------------------------------------------------\u001b[0m",
            "\u001b[0;31mAttributeError\u001b[0m                            Traceback (most recent call last)",
            "\u001b[0;32m<ipython-input-189-b1fdd19140ef>\u001b[0m in \u001b[0;36m<module>\u001b[0;34m\u001b[0m\n\u001b[0;32m----> 1\u001b[0;31m \u001b[0mencoded_data\u001b[0m\u001b[0;34m.\u001b[0m\u001b[0mcolumns\u001b[0m\u001b[0;34m\u001b[0m\u001b[0;34m\u001b[0m\u001b[0m\n\u001b[0m",
            "\u001b[0;31mAttributeError\u001b[0m: 'numpy.ndarray' object has no attribute 'columns'"
          ]
        }
      ]
    },
    {
      "cell_type": "code",
      "source": [
        "X_decoded.iloc[:,4]"
      ],
      "metadata": {
        "colab": {
          "base_uri": "https://localhost:8080/"
        },
        "id": "h5VEZ2NQpmuV",
        "outputId": "8472def2-346a-4706-99e7-da2970dffd73"
      },
      "execution_count": 182,
      "outputs": [
        {
          "output_type": "execute_result",
          "data": {
            "text/plain": [
              "0       15\n",
              "1       15\n",
              "2       15\n",
              "3       15\n",
              "4       15\n",
              "        ..\n",
              "1621     0\n",
              "1622     6\n",
              "1623    13\n",
              "1624    11\n",
              "1625     6\n",
              "Name: Motivo encer OS, Length: 1626, dtype: object"
            ]
          },
          "metadata": {},
          "execution_count": 182
        }
      ]
    },
    {
      "cell_type": "code",
      "source": [
        "from sklearn.compose import ColumnTransformer\n",
        "ct = ColumnTransformer([('cat', LabelEncoder(), Var_Categoricas)], remainder='passthrough')"
      ],
      "metadata": {
        "id": "2JUD-oUpSknv"
      },
      "execution_count": 59,
      "outputs": []
    },
    {
      "cell_type": "code",
      "source": [
        "dataframe.columns"
      ],
      "metadata": {
        "colab": {
          "base_uri": "https://localhost:8080/"
        },
        "id": "W_VDwZjFUQuB",
        "outputId": "6bdd6dc4-83f8-4cbb-d330-160b64ced319"
      },
      "execution_count": 60,
      "outputs": [
        {
          "output_type": "execute_result",
          "data": {
            "text/plain": [
              "Index(['GERENCIA', 'Município', 'Tipo Serviço OS', 'Unid Abert OS',\n",
              "       'Motivo encer OS', 'Parecer Enc OS', 'Comentários', 'Conclusão',\n",
              "       'TEMPO_DESDE_ENCERRAMENTO'],\n",
              "      dtype='object')"
            ]
          },
          "metadata": {},
          "execution_count": 60
        }
      ]
    },
    {
      "cell_type": "code",
      "source": [
        "encoded_data = ct.fit_transform(dataframe)"
      ],
      "metadata": {
        "colab": {
          "base_uri": "https://localhost:8080/",
          "height": 450
        },
        "id": "nl-EkHTsSxvX",
        "outputId": "ae1693ef-a932-4711-c849-3aab1d569add"
      },
      "execution_count": 64,
      "outputs": [
        {
          "output_type": "error",
          "ename": "TypeError",
          "evalue": "ignored",
          "traceback": [
            "\u001b[0;31m---------------------------------------------------------------------------\u001b[0m",
            "\u001b[0;31mEmpty\u001b[0m                                     Traceback (most recent call last)",
            "\u001b[0;32m/usr/local/lib/python3.8/dist-packages/joblib/parallel.py\u001b[0m in \u001b[0;36mdispatch_one_batch\u001b[0;34m(self, iterator)\u001b[0m\n\u001b[1;32m    861\u001b[0m             \u001b[0;32mtry\u001b[0m\u001b[0;34m:\u001b[0m\u001b[0;34m\u001b[0m\u001b[0;34m\u001b[0m\u001b[0m\n\u001b[0;32m--> 862\u001b[0;31m                 \u001b[0mtasks\u001b[0m \u001b[0;34m=\u001b[0m \u001b[0mself\u001b[0m\u001b[0;34m.\u001b[0m\u001b[0m_ready_batches\u001b[0m\u001b[0;34m.\u001b[0m\u001b[0mget\u001b[0m\u001b[0;34m(\u001b[0m\u001b[0mblock\u001b[0m\u001b[0;34m=\u001b[0m\u001b[0;32mFalse\u001b[0m\u001b[0;34m)\u001b[0m\u001b[0;34m\u001b[0m\u001b[0;34m\u001b[0m\u001b[0m\n\u001b[0m\u001b[1;32m    863\u001b[0m             \u001b[0;32mexcept\u001b[0m \u001b[0mqueue\u001b[0m\u001b[0;34m.\u001b[0m\u001b[0mEmpty\u001b[0m\u001b[0;34m:\u001b[0m\u001b[0;34m\u001b[0m\u001b[0;34m\u001b[0m\u001b[0m\n",
            "\u001b[0;32m/usr/lib/python3.8/queue.py\u001b[0m in \u001b[0;36mget\u001b[0;34m(self, block, timeout)\u001b[0m\n\u001b[1;32m    166\u001b[0m                 \u001b[0;32mif\u001b[0m \u001b[0;32mnot\u001b[0m \u001b[0mself\u001b[0m\u001b[0;34m.\u001b[0m\u001b[0m_qsize\u001b[0m\u001b[0;34m(\u001b[0m\u001b[0;34m)\u001b[0m\u001b[0;34m:\u001b[0m\u001b[0;34m\u001b[0m\u001b[0;34m\u001b[0m\u001b[0m\n\u001b[0;32m--> 167\u001b[0;31m                     \u001b[0;32mraise\u001b[0m \u001b[0mEmpty\u001b[0m\u001b[0;34m\u001b[0m\u001b[0;34m\u001b[0m\u001b[0m\n\u001b[0m\u001b[1;32m    168\u001b[0m             \u001b[0;32melif\u001b[0m \u001b[0mtimeout\u001b[0m \u001b[0;32mis\u001b[0m \u001b[0;32mNone\u001b[0m\u001b[0;34m:\u001b[0m\u001b[0;34m\u001b[0m\u001b[0;34m\u001b[0m\u001b[0m\n",
            "\u001b[0;31mEmpty\u001b[0m: ",
            "\nDuring handling of the above exception, another exception occurred:\n",
            "\u001b[0;31mTypeError\u001b[0m                                 Traceback (most recent call last)",
            "\u001b[0;32m<ipython-input-64-84dd6ee1e821>\u001b[0m in \u001b[0;36m<module>\u001b[0;34m\u001b[0m\n\u001b[0;32m----> 1\u001b[0;31m \u001b[0mencoded_data\u001b[0m \u001b[0;34m=\u001b[0m \u001b[0mct\u001b[0m\u001b[0;34m.\u001b[0m\u001b[0mfit_transform\u001b[0m\u001b[0;34m(\u001b[0m\u001b[0mdataframe\u001b[0m\u001b[0;34m)\u001b[0m\u001b[0;34m\u001b[0m\u001b[0;34m\u001b[0m\u001b[0m\n\u001b[0m",
            "\u001b[0;32m/usr/local/lib/python3.8/dist-packages/sklearn/compose/_column_transformer.py\u001b[0m in \u001b[0;36mfit_transform\u001b[0;34m(self, X, y)\u001b[0m\n\u001b[1;32m    673\u001b[0m         \u001b[0mself\u001b[0m\u001b[0;34m.\u001b[0m\u001b[0m_validate_remainder\u001b[0m\u001b[0;34m(\u001b[0m\u001b[0mX\u001b[0m\u001b[0;34m)\u001b[0m\u001b[0;34m\u001b[0m\u001b[0;34m\u001b[0m\u001b[0m\n\u001b[1;32m    674\u001b[0m \u001b[0;34m\u001b[0m\u001b[0m\n\u001b[0;32m--> 675\u001b[0;31m         \u001b[0mresult\u001b[0m \u001b[0;34m=\u001b[0m \u001b[0mself\u001b[0m\u001b[0;34m.\u001b[0m\u001b[0m_fit_transform\u001b[0m\u001b[0;34m(\u001b[0m\u001b[0mX\u001b[0m\u001b[0;34m,\u001b[0m \u001b[0my\u001b[0m\u001b[0;34m,\u001b[0m \u001b[0m_fit_transform_one\u001b[0m\u001b[0;34m)\u001b[0m\u001b[0;34m\u001b[0m\u001b[0;34m\u001b[0m\u001b[0m\n\u001b[0m\u001b[1;32m    676\u001b[0m \u001b[0;34m\u001b[0m\u001b[0m\n\u001b[1;32m    677\u001b[0m         \u001b[0;32mif\u001b[0m \u001b[0;32mnot\u001b[0m \u001b[0mresult\u001b[0m\u001b[0;34m:\u001b[0m\u001b[0;34m\u001b[0m\u001b[0;34m\u001b[0m\u001b[0m\n",
            "\u001b[0;32m/usr/local/lib/python3.8/dist-packages/sklearn/compose/_column_transformer.py\u001b[0m in \u001b[0;36m_fit_transform\u001b[0;34m(self, X, y, func, fitted, column_as_strings)\u001b[0m\n\u001b[1;32m    604\u001b[0m         )\n\u001b[1;32m    605\u001b[0m         \u001b[0;32mtry\u001b[0m\u001b[0;34m:\u001b[0m\u001b[0;34m\u001b[0m\u001b[0;34m\u001b[0m\u001b[0m\n\u001b[0;32m--> 606\u001b[0;31m             return Parallel(n_jobs=self.n_jobs)(\n\u001b[0m\u001b[1;32m    607\u001b[0m                 delayed(func)(\n\u001b[1;32m    608\u001b[0m                     \u001b[0mtransformer\u001b[0m\u001b[0;34m=\u001b[0m\u001b[0mclone\u001b[0m\u001b[0;34m(\u001b[0m\u001b[0mtrans\u001b[0m\u001b[0;34m)\u001b[0m \u001b[0;32mif\u001b[0m \u001b[0;32mnot\u001b[0m \u001b[0mfitted\u001b[0m \u001b[0;32melse\u001b[0m \u001b[0mtrans\u001b[0m\u001b[0;34m,\u001b[0m\u001b[0;34m\u001b[0m\u001b[0;34m\u001b[0m\u001b[0m\n",
            "\u001b[0;32m/usr/local/lib/python3.8/dist-packages/joblib/parallel.py\u001b[0m in \u001b[0;36m__call__\u001b[0;34m(self, iterable)\u001b[0m\n\u001b[1;32m   1083\u001b[0m             \u001b[0;31m# remaining jobs.\u001b[0m\u001b[0;34m\u001b[0m\u001b[0;34m\u001b[0m\u001b[0;34m\u001b[0m\u001b[0m\n\u001b[1;32m   1084\u001b[0m             \u001b[0mself\u001b[0m\u001b[0;34m.\u001b[0m\u001b[0m_iterating\u001b[0m \u001b[0;34m=\u001b[0m \u001b[0;32mFalse\u001b[0m\u001b[0;34m\u001b[0m\u001b[0;34m\u001b[0m\u001b[0m\n\u001b[0;32m-> 1085\u001b[0;31m             \u001b[0;32mif\u001b[0m \u001b[0mself\u001b[0m\u001b[0;34m.\u001b[0m\u001b[0mdispatch_one_batch\u001b[0m\u001b[0;34m(\u001b[0m\u001b[0miterator\u001b[0m\u001b[0;34m)\u001b[0m\u001b[0;34m:\u001b[0m\u001b[0;34m\u001b[0m\u001b[0;34m\u001b[0m\u001b[0m\n\u001b[0m\u001b[1;32m   1086\u001b[0m                 \u001b[0mself\u001b[0m\u001b[0;34m.\u001b[0m\u001b[0m_iterating\u001b[0m \u001b[0;34m=\u001b[0m \u001b[0mself\u001b[0m\u001b[0;34m.\u001b[0m\u001b[0m_original_iterator\u001b[0m \u001b[0;32mis\u001b[0m \u001b[0;32mnot\u001b[0m \u001b[0;32mNone\u001b[0m\u001b[0;34m\u001b[0m\u001b[0;34m\u001b[0m\u001b[0m\n\u001b[1;32m   1087\u001b[0m \u001b[0;34m\u001b[0m\u001b[0m\n",
            "\u001b[0;32m/usr/local/lib/python3.8/dist-packages/joblib/parallel.py\u001b[0m in \u001b[0;36mdispatch_one_batch\u001b[0;34m(self, iterator)\u001b[0m\n\u001b[1;32m    871\u001b[0m                 \u001b[0mbig_batch_size\u001b[0m \u001b[0;34m=\u001b[0m \u001b[0mbatch_size\u001b[0m \u001b[0;34m*\u001b[0m \u001b[0mn_jobs\u001b[0m\u001b[0;34m\u001b[0m\u001b[0;34m\u001b[0m\u001b[0m\n\u001b[1;32m    872\u001b[0m \u001b[0;34m\u001b[0m\u001b[0m\n\u001b[0;32m--> 873\u001b[0;31m                 \u001b[0mislice\u001b[0m \u001b[0;34m=\u001b[0m \u001b[0mlist\u001b[0m\u001b[0;34m(\u001b[0m\u001b[0mitertools\u001b[0m\u001b[0;34m.\u001b[0m\u001b[0mislice\u001b[0m\u001b[0;34m(\u001b[0m\u001b[0miterator\u001b[0m\u001b[0;34m,\u001b[0m \u001b[0mbig_batch_size\u001b[0m\u001b[0;34m)\u001b[0m\u001b[0;34m)\u001b[0m\u001b[0;34m\u001b[0m\u001b[0;34m\u001b[0m\u001b[0m\n\u001b[0m\u001b[1;32m    874\u001b[0m                 \u001b[0;32mif\u001b[0m \u001b[0mlen\u001b[0m\u001b[0;34m(\u001b[0m\u001b[0mislice\u001b[0m\u001b[0;34m)\u001b[0m \u001b[0;34m==\u001b[0m \u001b[0;36m0\u001b[0m\u001b[0;34m:\u001b[0m\u001b[0;34m\u001b[0m\u001b[0;34m\u001b[0m\u001b[0m\n\u001b[1;32m    875\u001b[0m                     \u001b[0;32mreturn\u001b[0m \u001b[0;32mFalse\u001b[0m\u001b[0;34m\u001b[0m\u001b[0;34m\u001b[0m\u001b[0m\n",
            "\u001b[0;32m/usr/local/lib/python3.8/dist-packages/sklearn/compose/_column_transformer.py\u001b[0m in \u001b[0;36m<genexpr>\u001b[0;34m(.0)\u001b[0m\n\u001b[1;32m    606\u001b[0m             return Parallel(n_jobs=self.n_jobs)(\n\u001b[1;32m    607\u001b[0m                 delayed(func)(\n\u001b[0;32m--> 608\u001b[0;31m                     \u001b[0mtransformer\u001b[0m\u001b[0;34m=\u001b[0m\u001b[0mclone\u001b[0m\u001b[0;34m(\u001b[0m\u001b[0mtrans\u001b[0m\u001b[0;34m)\u001b[0m \u001b[0;32mif\u001b[0m \u001b[0;32mnot\u001b[0m \u001b[0mfitted\u001b[0m \u001b[0;32melse\u001b[0m \u001b[0mtrans\u001b[0m\u001b[0;34m,\u001b[0m\u001b[0;34m\u001b[0m\u001b[0;34m\u001b[0m\u001b[0m\n\u001b[0m\u001b[1;32m    609\u001b[0m                     \u001b[0mX\u001b[0m\u001b[0;34m=\u001b[0m\u001b[0m_safe_indexing\u001b[0m\u001b[0;34m(\u001b[0m\u001b[0mX\u001b[0m\u001b[0;34m,\u001b[0m \u001b[0mcolumn\u001b[0m\u001b[0;34m,\u001b[0m \u001b[0maxis\u001b[0m\u001b[0;34m=\u001b[0m\u001b[0;36m1\u001b[0m\u001b[0;34m)\u001b[0m\u001b[0;34m,\u001b[0m\u001b[0;34m\u001b[0m\u001b[0;34m\u001b[0m\u001b[0m\n\u001b[1;32m    610\u001b[0m                     \u001b[0my\u001b[0m\u001b[0;34m=\u001b[0m\u001b[0my\u001b[0m\u001b[0;34m,\u001b[0m\u001b[0;34m\u001b[0m\u001b[0;34m\u001b[0m\u001b[0m\n",
            "\u001b[0;32m/usr/local/lib/python3.8/dist-packages/sklearn/base.py\u001b[0m in \u001b[0;36mclone\u001b[0;34m(estimator, safe)\u001b[0m\n\u001b[1;32m     74\u001b[0m                 )\n\u001b[1;32m     75\u001b[0m             \u001b[0;32melse\u001b[0m\u001b[0;34m:\u001b[0m\u001b[0;34m\u001b[0m\u001b[0;34m\u001b[0m\u001b[0m\n\u001b[0;32m---> 76\u001b[0;31m                 raise TypeError(\n\u001b[0m\u001b[1;32m     77\u001b[0m                     \u001b[0;34m\"Cannot clone object '%s' (type %s): \"\u001b[0m\u001b[0;34m\u001b[0m\u001b[0;34m\u001b[0m\u001b[0m\n\u001b[1;32m     78\u001b[0m                     \u001b[0;34m\"it does not seem to be a scikit-learn \"\u001b[0m\u001b[0;34m\u001b[0m\u001b[0;34m\u001b[0m\u001b[0m\n",
            "\u001b[0;31mTypeError\u001b[0m: Cannot clone object '<__main__.MyLabelEncoder object at 0x7fdb75044070>' (type <class '__main__.MyLabelEncoder'>): it does not seem to be a scikit-learn estimator as it does not implement a 'get_params' method."
          ]
        }
      ]
    },
    {
      "cell_type": "code",
      "source": [
        "d = defaultdict(LabelEncoder)"
      ],
      "metadata": {
        "id": "T8LRvIwwQei2"
      },
      "execution_count": 48,
      "outputs": []
    },
    {
      "cell_type": "code",
      "source": [
        "LE = LabelEncoder()\n",
        "for i in Var_Categoricas:\n",
        "    #dataframe[i] = dataframe[[i]].apply(LE.fit_transform)\n",
        "    dataframe[i] = LE.fit_transform(dataframe[i])"
      ],
      "metadata": {
        "id": "TMMxa9CjebZv"
      },
      "execution_count": 17,
      "outputs": []
    },
    {
      "cell_type": "code",
      "execution_count": 18,
      "metadata": {
        "id": "IAEqh-t4nBAp"
      },
      "outputs": [],
      "source": [
        "#Função para tirar símbolos e acentos e deixar o texto em lowercase:\n",
        "def remove_punctuation(text):\n",
        "  # Unicode normalize transforma um caracter em seu equivalente em latin.\n",
        "    nfkd = unicodedata.normalize('NFKD', text)\n",
        "    no_punct = u\"\".join([c for c in nfkd if not unicodedata.combining(c)])\n",
        "\n",
        "    # Uso de re para retornar a palavra apenas com números, letras e espaço\n",
        "    return re.sub('[^a-zA-Z0-9 \\\\\\]', '', no_punct.lower())"
      ]
    },
    {
      "cell_type": "code",
      "source": [
        "dataframe['Parecer Enc OS'] = dataframe['Parecer Enc OS'].apply(lambda x:remove_punctuation(x))"
      ],
      "metadata": {
        "id": "FbMf9N6RAtbz"
      },
      "execution_count": 19,
      "outputs": []
    },
    {
      "cell_type": "code",
      "execution_count": 20,
      "metadata": {
        "id": "lUH1uA2UNkt2"
      },
      "outputs": [],
      "source": [
        "#Função para remover as palavras da lista:\n",
        "lista_palavras = ['dia', 'visita', 'realizada', 'antonio', 'amos', 'sendo', 'santana']\n",
        "def remove_words(text):\n",
        "  if(type(text)==float):\n",
        "    return text\n",
        "  ans=\"\"  \n",
        "  for texto in text:     \n",
        "    if texto not in lista_palavras:\n",
        "      ans+= \" \" + texto\n",
        "  return ans.lstrip()"
      ]
    },
    {
      "cell_type": "code",
      "source": [
        "dataframe['Parecer Enc OS'] = dataframe['Parecer Enc OS'].apply(lambda x:remove_words(x.split()))"
      ],
      "metadata": {
        "id": "cS_T7qpYAyu8"
      },
      "execution_count": 21,
      "outputs": []
    },
    {
      "cell_type": "code",
      "source": [
        "train_df_ = dataframe.iloc[:limite_train,:].copy()\n",
        "\n",
        "predict_df_ = dataframe.iloc[limite_train:,:].copy()"
      ],
      "metadata": {
        "id": "z8HI7j3uHBT2"
      },
      "execution_count": 22,
      "outputs": []
    },
    {
      "cell_type": "code",
      "execution_count": 23,
      "metadata": {
        "id": "qlisr-5Tf84D",
        "colab": {
          "base_uri": "https://localhost:8080/"
        },
        "outputId": "69dd9377-435b-437b-d977-e6eced72cb91"
      },
      "outputs": [
        {
          "output_type": "stream",
          "name": "stderr",
          "text": [
            "/usr/local/lib/python3.8/dist-packages/pandas/core/frame.py:4486: PerformanceWarning: DataFrame is highly fragmented.  This is usually the result of calling `frame.insert` many times, which has poor performance.  Consider joining all columns at once using pd.concat(axis=1) instead.  To get a de-fragmented frame, use `newframe = frame.copy()`\n",
            "  data[k] = com.apply_if_callable(v, data)\n",
            "/usr/local/lib/python3.8/dist-packages/pandas/core/frame.py:4486: PerformanceWarning: DataFrame is highly fragmented.  This is usually the result of calling `frame.insert` many times, which has poor performance.  Consider joining all columns at once using pd.concat(axis=1) instead.  To get a de-fragmented frame, use `newframe = frame.copy()`\n",
            "  data[k] = com.apply_if_callable(v, data)\n",
            "/usr/local/lib/python3.8/dist-packages/pandas/core/frame.py:4486: PerformanceWarning: DataFrame is highly fragmented.  This is usually the result of calling `frame.insert` many times, which has poor performance.  Consider joining all columns at once using pd.concat(axis=1) instead.  To get a de-fragmented frame, use `newframe = frame.copy()`\n",
            "  data[k] = com.apply_if_callable(v, data)\n",
            "/usr/local/lib/python3.8/dist-packages/pandas/core/frame.py:4486: PerformanceWarning: DataFrame is highly fragmented.  This is usually the result of calling `frame.insert` many times, which has poor performance.  Consider joining all columns at once using pd.concat(axis=1) instead.  To get a de-fragmented frame, use `newframe = frame.copy()`\n",
            "  data[k] = com.apply_if_callable(v, data)\n",
            "/usr/local/lib/python3.8/dist-packages/pandas/core/frame.py:4486: PerformanceWarning: DataFrame is highly fragmented.  This is usually the result of calling `frame.insert` many times, which has poor performance.  Consider joining all columns at once using pd.concat(axis=1) instead.  To get a de-fragmented frame, use `newframe = frame.copy()`\n",
            "  data[k] = com.apply_if_callable(v, data)\n",
            "/usr/local/lib/python3.8/dist-packages/pandas/core/frame.py:4486: PerformanceWarning: DataFrame is highly fragmented.  This is usually the result of calling `frame.insert` many times, which has poor performance.  Consider joining all columns at once using pd.concat(axis=1) instead.  To get a de-fragmented frame, use `newframe = frame.copy()`\n",
            "  data[k] = com.apply_if_callable(v, data)\n",
            "/usr/local/lib/python3.8/dist-packages/pandas/core/frame.py:4486: PerformanceWarning: DataFrame is highly fragmented.  This is usually the result of calling `frame.insert` many times, which has poor performance.  Consider joining all columns at once using pd.concat(axis=1) instead.  To get a de-fragmented frame, use `newframe = frame.copy()`\n",
            "  data[k] = com.apply_if_callable(v, data)\n",
            "/usr/local/lib/python3.8/dist-packages/pandas/core/frame.py:4486: PerformanceWarning: DataFrame is highly fragmented.  This is usually the result of calling `frame.insert` many times, which has poor performance.  Consider joining all columns at once using pd.concat(axis=1) instead.  To get a de-fragmented frame, use `newframe = frame.copy()`\n",
            "  data[k] = com.apply_if_callable(v, data)\n",
            "/usr/local/lib/python3.8/dist-packages/pandas/core/frame.py:4486: PerformanceWarning: DataFrame is highly fragmented.  This is usually the result of calling `frame.insert` many times, which has poor performance.  Consider joining all columns at once using pd.concat(axis=1) instead.  To get a de-fragmented frame, use `newframe = frame.copy()`\n",
            "  data[k] = com.apply_if_callable(v, data)\n",
            "/usr/local/lib/python3.8/dist-packages/pandas/core/frame.py:4486: PerformanceWarning: DataFrame is highly fragmented.  This is usually the result of calling `frame.insert` many times, which has poor performance.  Consider joining all columns at once using pd.concat(axis=1) instead.  To get a de-fragmented frame, use `newframe = frame.copy()`\n",
            "  data[k] = com.apply_if_callable(v, data)\n",
            "/usr/local/lib/python3.8/dist-packages/pandas/core/frame.py:4486: PerformanceWarning: DataFrame is highly fragmented.  This is usually the result of calling `frame.insert` many times, which has poor performance.  Consider joining all columns at once using pd.concat(axis=1) instead.  To get a de-fragmented frame, use `newframe = frame.copy()`\n",
            "  data[k] = com.apply_if_callable(v, data)\n",
            "/usr/local/lib/python3.8/dist-packages/pandas/core/frame.py:4486: PerformanceWarning: DataFrame is highly fragmented.  This is usually the result of calling `frame.insert` many times, which has poor performance.  Consider joining all columns at once using pd.concat(axis=1) instead.  To get a de-fragmented frame, use `newframe = frame.copy()`\n",
            "  data[k] = com.apply_if_callable(v, data)\n",
            "/usr/local/lib/python3.8/dist-packages/pandas/core/frame.py:4486: PerformanceWarning: DataFrame is highly fragmented.  This is usually the result of calling `frame.insert` many times, which has poor performance.  Consider joining all columns at once using pd.concat(axis=1) instead.  To get a de-fragmented frame, use `newframe = frame.copy()`\n",
            "  data[k] = com.apply_if_callable(v, data)\n",
            "/usr/local/lib/python3.8/dist-packages/pandas/core/frame.py:4486: PerformanceWarning: DataFrame is highly fragmented.  This is usually the result of calling `frame.insert` many times, which has poor performance.  Consider joining all columns at once using pd.concat(axis=1) instead.  To get a de-fragmented frame, use `newframe = frame.copy()`\n",
            "  data[k] = com.apply_if_callable(v, data)\n",
            "/usr/local/lib/python3.8/dist-packages/pandas/core/frame.py:4486: PerformanceWarning: DataFrame is highly fragmented.  This is usually the result of calling `frame.insert` many times, which has poor performance.  Consider joining all columns at once using pd.concat(axis=1) instead.  To get a de-fragmented frame, use `newframe = frame.copy()`\n",
            "  data[k] = com.apply_if_callable(v, data)\n",
            "/usr/local/lib/python3.8/dist-packages/pandas/core/frame.py:4486: PerformanceWarning: DataFrame is highly fragmented.  This is usually the result of calling `frame.insert` many times, which has poor performance.  Consider joining all columns at once using pd.concat(axis=1) instead.  To get a de-fragmented frame, use `newframe = frame.copy()`\n",
            "  data[k] = com.apply_if_callable(v, data)\n",
            "/usr/local/lib/python3.8/dist-packages/pandas/core/frame.py:4486: PerformanceWarning: DataFrame is highly fragmented.  This is usually the result of calling `frame.insert` many times, which has poor performance.  Consider joining all columns at once using pd.concat(axis=1) instead.  To get a de-fragmented frame, use `newframe = frame.copy()`\n",
            "  data[k] = com.apply_if_callable(v, data)\n",
            "/usr/local/lib/python3.8/dist-packages/pandas/core/frame.py:4486: PerformanceWarning: DataFrame is highly fragmented.  This is usually the result of calling `frame.insert` many times, which has poor performance.  Consider joining all columns at once using pd.concat(axis=1) instead.  To get a de-fragmented frame, use `newframe = frame.copy()`\n",
            "  data[k] = com.apply_if_callable(v, data)\n",
            "/usr/local/lib/python3.8/dist-packages/pandas/core/frame.py:4486: PerformanceWarning: DataFrame is highly fragmented.  This is usually the result of calling `frame.insert` many times, which has poor performance.  Consider joining all columns at once using pd.concat(axis=1) instead.  To get a de-fragmented frame, use `newframe = frame.copy()`\n",
            "  data[k] = com.apply_if_callable(v, data)\n",
            "/usr/local/lib/python3.8/dist-packages/pandas/core/frame.py:4486: PerformanceWarning: DataFrame is highly fragmented.  This is usually the result of calling `frame.insert` many times, which has poor performance.  Consider joining all columns at once using pd.concat(axis=1) instead.  To get a de-fragmented frame, use `newframe = frame.copy()`\n",
            "  data[k] = com.apply_if_callable(v, data)\n",
            "/usr/local/lib/python3.8/dist-packages/pandas/core/frame.py:4486: PerformanceWarning: DataFrame is highly fragmented.  This is usually the result of calling `frame.insert` many times, which has poor performance.  Consider joining all columns at once using pd.concat(axis=1) instead.  To get a de-fragmented frame, use `newframe = frame.copy()`\n",
            "  data[k] = com.apply_if_callable(v, data)\n",
            "/usr/local/lib/python3.8/dist-packages/pandas/core/frame.py:4486: PerformanceWarning: DataFrame is highly fragmented.  This is usually the result of calling `frame.insert` many times, which has poor performance.  Consider joining all columns at once using pd.concat(axis=1) instead.  To get a de-fragmented frame, use `newframe = frame.copy()`\n",
            "  data[k] = com.apply_if_callable(v, data)\n",
            "/usr/local/lib/python3.8/dist-packages/pandas/core/frame.py:4486: PerformanceWarning: DataFrame is highly fragmented.  This is usually the result of calling `frame.insert` many times, which has poor performance.  Consider joining all columns at once using pd.concat(axis=1) instead.  To get a de-fragmented frame, use `newframe = frame.copy()`\n",
            "  data[k] = com.apply_if_callable(v, data)\n"
          ]
        }
      ],
      "source": [
        "x_vec = train_df_['Parecer Enc OS'].values\n",
        "\n",
        "ctv = CountVectorizer(analyzer='word',token_pattern=r'\\w{1,}',\n",
        "            ngram_range = (1, 3), stop_words = set(stopwords.words('portuguese')))\n",
        "\n",
        "# Fitting Count Vectorizer to both training and test sets (semi-supervised learning)\n",
        "ctv.fit(list(x_vec))\n",
        "x_ctv = ctv.transform(x_vec) \n",
        "\n",
        "# Add the columns from the sparse matrix to the existing DataFrame\n",
        "x_vec_com_tudo = train_df_.assign(**{col: x_ctv[:, i].toarray().ravel() for i, col in enumerate(ctv.get_feature_names_out())})"
      ]
    },
    {
      "cell_type": "code",
      "source": [
        "x_vec_pred = predict_df_['Parecer Enc OS'].values\n",
        "\n",
        "ctv_pred = CountVectorizer(analyzer='word',token_pattern=r'\\w{1,}',\n",
        "            ngram_range = (1, 3), stop_words = set(stopwords.words('portuguese')))\n",
        "\n",
        "# Fitting Count Vectorizer to both training and test sets (semi-supervised learning)\n",
        "ctv_pred.fit(list(x_vec_pred))\n",
        "x_ctv_pred = ctv_pred.transform(x_vec_pred) \n",
        "\n",
        "# Add the columns from the sparse matrix to the existing DataFrame\n",
        "x_vec_com_tudo_pred = (predict_df_.assign(**{col: x_ctv_pred[:, i]\n",
        "                                             .toarray()\n",
        "                                             .ravel() for i, col in enumerate(ctv_pred.get_feature_names())})).copy()"
      ],
      "metadata": {
        "id": "bo3w2NubArq0",
        "colab": {
          "base_uri": "https://localhost:8080/"
        },
        "outputId": "51115155-0b99-4f1d-d911-00da5ae58718"
      },
      "execution_count": 24,
      "outputs": [
        {
          "output_type": "stream",
          "name": "stderr",
          "text": [
            "/usr/local/lib/python3.8/dist-packages/sklearn/utils/deprecation.py:87: FutureWarning: Function get_feature_names is deprecated; get_feature_names is deprecated in 1.0 and will be removed in 1.2. Please use get_feature_names_out instead.\n",
            "  warnings.warn(msg, category=FutureWarning)\n"
          ]
        }
      ]
    },
    {
      "cell_type": "code",
      "source": [
        "# Removendo os dados que não se repetem pelo menos duas vezes\n",
        "x_vec_temp = (x_vec_com_tudo_pred.iloc[:,9:]\n",
        "              .loc[:, x_vec_com_tudo_pred.iloc[:,9:]\n",
        "                   .sum() > 1]).copy()\n",
        "\n",
        "x_vec_filtered = pd.concat([x_vec_com_tudo_pred.iloc[:,:9], x_vec_temp], axis=1).drop(columns= ['Parecer Enc OS', 'Comentários', 'Conclusão']).copy()"
      ],
      "metadata": {
        "id": "dXHA7DXCwLOf"
      },
      "execution_count": 25,
      "outputs": []
    },
    {
      "cell_type": "markdown",
      "source": [
        "### XGBoost"
      ],
      "metadata": {
        "id": "IihF63xGSYRy"
      }
    },
    {
      "cell_type": "code",
      "source": [
        "Y = x_vec_com_tudo.iloc[:, 7]\n",
        "\n",
        "X = x_vec_com_tudo.loc[:, x_vec_com_tudo.columns.intersection(x_vec_filtered.columns)]\n",
        "\n",
        "X_train, X_test, Y_train, Y_test = train_test_split(X, Y, test_size = 0.2, random_state = 5)"
      ],
      "metadata": {
        "id": "na4hdZ-ESWSi"
      },
      "execution_count": 26,
      "outputs": []
    },
    {
      "cell_type": "code",
      "source": [
        "reg = xgb.XGBClassifier()\n",
        "\n",
        "reg.fit(X_train, Y_train,\n",
        "        eval_metric=\"auc\")"
      ],
      "metadata": {
        "id": "tabArHuEWZdT",
        "colab": {
          "base_uri": "https://localhost:8080/"
        },
        "outputId": "7359409b-b077-4e7a-d5eb-6505610429dd"
      },
      "execution_count": 27,
      "outputs": [
        {
          "output_type": "execute_result",
          "data": {
            "text/plain": [
              "XGBClassifier(objective='multi:softprob')"
            ]
          },
          "metadata": {},
          "execution_count": 27
        }
      ]
    },
    {
      "cell_type": "code",
      "source": [
        "ypred = reg.predict(X_test)\n",
        "\n",
        "print(\"Accuracy do modelo: {:.2%}\".format(accuracy_score(ypred,Y_test)))\n",
        "print('\\n')\n",
        "print('Confusion Matrix:')\n",
        "\n",
        "plot_confusion_matrix(reg, X_test, Y_test)\n",
        "\n",
        "plt.show()"
      ],
      "metadata": {
        "id": "dIgW6VRHmREC",
        "colab": {
          "base_uri": "https://localhost:8080/",
          "height": 403
        },
        "outputId": "bc83e0f2-87e7-48c4-9c9c-a5285aea93ce"
      },
      "execution_count": 28,
      "outputs": [
        {
          "output_type": "stream",
          "name": "stdout",
          "text": [
            "Accuracy do modelo: 86.08%\n",
            "\n",
            "\n",
            "Confusion Matrix:\n"
          ]
        },
        {
          "output_type": "stream",
          "name": "stderr",
          "text": [
            "/usr/local/lib/python3.8/dist-packages/sklearn/utils/deprecation.py:87: FutureWarning: Function plot_confusion_matrix is deprecated; Function `plot_confusion_matrix` is deprecated in 1.0 and will be removed in 1.2. Use one of the class methods: ConfusionMatrixDisplay.from_predictions or ConfusionMatrixDisplay.from_estimator.\n",
            "  warnings.warn(msg, category=FutureWarning)\n"
          ]
        },
        {
          "output_type": "display_data",
          "data": {
            "text/plain": [
              "<Figure size 432x288 with 2 Axes>"
            ],
            "image/png": "[encoded data removed]"
          },
          "metadata": {
            "needs_background": "light"
          }
        }
      ]
    },
    {
      "cell_type": "code",
      "source": [
        "X_pred = x_vec_com_tudo_pred.loc[: , x_vec_com_tudo_pred.columns[x_vec_com_tudo_pred.columns.isin(X)]]\n",
        "\n",
        "y_pred_x = reg.predict(X_pred)\n",
        "\n",
        "y_pred_x_index = reg.predict(X_pred.sort_index())"
      ],
      "metadata": {
        "id": "cVW2Nbm307cH"
      },
      "execution_count": 29,
      "outputs": []
    },
    {
      "cell_type": "code",
      "source": [
        "dataframe.Município.value_counts()"
      ],
      "metadata": {
        "colab": {
          "base_uri": "https://localhost:8080/"
        },
        "id": "uMNgWPi_Nqvk",
        "outputId": "efde9201-9114-4034-eceb-89b5ad2ae934"
      },
      "execution_count": 30,
      "outputs": [
        {
          "output_type": "execute_result",
          "data": {
            "text/plain": [
              "49    397\n",
              "41    200\n",
              "14    157\n",
              "47    127\n",
              "21    100\n",
              "     ... \n",
              "30      1\n",
              "19      1\n",
              "59      1\n",
              "24      1\n",
              "44      1\n",
              "Name: Município, Length: 63, dtype: int64"
            ]
          },
          "metadata": {},
          "execution_count": 30
        }
      ]
    },
    {
      "cell_type": "code",
      "source": [
        "dataframe.columns"
      ],
      "metadata": {
        "colab": {
          "base_uri": "https://localhost:8080/"
        },
        "id": "H_ZOQc0YOSlh",
        "outputId": "d494ce71-7651-4c8b-f6cf-0406e02a57fe"
      },
      "execution_count": 31,
      "outputs": [
        {
          "output_type": "execute_result",
          "data": {
            "text/plain": [
              "Index(['GERENCIA', 'Município', 'Tipo Serviço OS', 'Unid Abert OS',\n",
              "       'Motivo encer OS', 'Parecer Enc OS', 'Comentários', 'Conclusão',\n",
              "       'TEMPO_DESDE_ENCERRAMENTO'],\n",
              "      dtype='object')"
            ]
          },
          "metadata": {},
          "execution_count": 31
        }
      ]
    },
    {
      "cell_type": "code",
      "source": [
        " LE.inverse_transform(X_pred['GERENCIA'])"
      ],
      "metadata": {
        "colab": {
          "base_uri": "https://localhost:8080/"
        },
        "id": "MccEuY8tP9dr",
        "outputId": "1df36e1f-45ad-4f32-d4e0-22ccc59822ae"
      },
      "execution_count": 32,
      "outputs": [
        {
          "output_type": "execute_result",
          "data": {
            "text/plain": [
              "array(['DUPLICIDADE DE SOLICITACAO', 'CODIGO SERVICO ERRADO',\n",
              "       'IMOVEL NAO LOCALIZADO', 'IMOVEL DESOCUPADO', 'IMOVEL DEMOLIDO',\n",
              "       'IMOVEL NAO LOCALIZADO', 'RA/OS CANCELADA', 'IMOVEL DEMOLIDO',\n",
              "       'SEM REDE DE ABASTECIMENTO', 'IMOVEL FECHADO', 'RAMAL CORTADO',\n",
              "       'NAO HOUVE ACORDO P/REGULARIZAR DEBITO', 'IMOVEL DEMOLIDO',\n",
              "       'IMOVEL DEMOLIDO', 'NAO HOUVE ACORDO P/REGULARIZAR DEBITO',\n",
              "       'IMOVEL FECHADO', 'DESISTENCIA DO USUARIO',\n",
              "       'CODIGO SERVICO ERRADO', 'CODIGO SERVICO ERRADO',\n",
              "       'DUPLICIDADE DE SOLICITACAO', 'RAMAL NÃO LOCALIZADO',\n",
              "       'IMOVEL NAO LOCALIZADO', 'NAO CONCLUSAO DO SERVICO',\n",
              "       'IMOVEL DEMOLIDO', 'NAO HOUVE ACORDO P/REGULARIZAR DEBITO',\n",
              "       'RA/OS CANCELADA', 'SEM REDE DE ABASTECIMENTO',\n",
              "       'SEM REDE DE ABASTECIMENTO', 'SEM REDE DE ABASTECIMENTO',\n",
              "       'DESISTENCIA DO USUARIO', 'SEM REDE DE ABASTECIMENTO',\n",
              "       'IMOVEL DEMOLIDO', 'NAO HOUVE ACORDO P/REGULARIZAR DEBITO',\n",
              "       'CODIGO SERVICO ERRADO', 'NÃO HOUVE IRREGULARIDADE',\n",
              "       'IMOVEL FECHADO', 'RA/OS CANCELADA', 'IMOVEL FECHADO',\n",
              "       'IMOVEL DESOCUPADO', 'IMOVEL DESOCUPADO', 'IMOVEL FECHADO',\n",
              "       'SEM REDE DE ABASTECIMENTO',\n",
              "       'NAO HOUVE ACORDO P/REGULARIZAR DEBITO', 'RAMAL CORTADO',\n",
              "       'DESISTENCIA DO USUARIO', 'DUPLICIDADE DE SOLICITACAO',\n",
              "       'CODIGO SERVICO ERRADO', 'IMOVEL DEMOLIDO',\n",
              "       'SEM REDE DE ABASTECIMENTO', 'IMOVEL NAO LOCALIZADO'], dtype=object)"
            ]
          },
          "metadata": {},
          "execution_count": 32
        }
      ]
    },
    {
      "cell_type": "code",
      "source": [
        "X_uncoded = pd.DataFrame()\n",
        "for n, array in enumerate(Var_Categoricas):\n",
        "  print(n, array)\n",
        "  LE.inverse_transform(X_pred[array])\n",
        "  #inv_tranformed = LE.inverse_transform(X_pred[array])\n",
        "  #X_uncoded.append(inv_tranformed)"
      ],
      "metadata": {
        "colab": {
          "base_uri": "https://localhost:8080/",
          "height": 391
        },
        "id": "1EEm27JWAxQi",
        "outputId": "5df163c1-6f67-4e93-dca0-b0722d1a05e5"
      },
      "execution_count": 33,
      "outputs": [
        {
          "output_type": "stream",
          "name": "stdout",
          "text": [
            "0 GERENCIA\n",
            "1 Município\n"
          ]
        },
        {
          "output_type": "error",
          "ename": "ValueError",
          "evalue": "ignored",
          "traceback": [
            "\u001b[0;31m---------------------------------------------------------------------------\u001b[0m",
            "\u001b[0;31mValueError\u001b[0m                                Traceback (most recent call last)",
            "\u001b[0;32m<ipython-input-33-a589e277ae09>\u001b[0m in \u001b[0;36m<module>\u001b[0;34m\u001b[0m\n\u001b[1;32m      2\u001b[0m \u001b[0;32mfor\u001b[0m \u001b[0mn\u001b[0m\u001b[0;34m,\u001b[0m \u001b[0marray\u001b[0m \u001b[0;32min\u001b[0m \u001b[0menumerate\u001b[0m\u001b[0;34m(\u001b[0m\u001b[0mVar_Categoricas\u001b[0m\u001b[0;34m)\u001b[0m\u001b[0;34m:\u001b[0m\u001b[0;34m\u001b[0m\u001b[0;34m\u001b[0m\u001b[0m\n\u001b[1;32m      3\u001b[0m   \u001b[0mprint\u001b[0m\u001b[0;34m(\u001b[0m\u001b[0mn\u001b[0m\u001b[0;34m,\u001b[0m \u001b[0marray\u001b[0m\u001b[0;34m)\u001b[0m\u001b[0;34m\u001b[0m\u001b[0;34m\u001b[0m\u001b[0m\n\u001b[0;32m----> 4\u001b[0;31m   \u001b[0mLE\u001b[0m\u001b[0;34m.\u001b[0m\u001b[0minverse_transform\u001b[0m\u001b[0;34m(\u001b[0m\u001b[0mX_pred\u001b[0m\u001b[0;34m[\u001b[0m\u001b[0marray\u001b[0m\u001b[0;34m]\u001b[0m\u001b[0;34m)\u001b[0m\u001b[0;34m\u001b[0m\u001b[0;34m\u001b[0m\u001b[0m\n\u001b[0m\u001b[1;32m      5\u001b[0m   \u001b[0;31m#inv_tranformed = LE.inverse_transform(X_pred[array])\u001b[0m\u001b[0;34m\u001b[0m\u001b[0;34m\u001b[0m\u001b[0;34m\u001b[0m\u001b[0m\n\u001b[1;32m      6\u001b[0m   \u001b[0;31m#X_uncoded.append(inv_tranformed)\u001b[0m\u001b[0;34m\u001b[0m\u001b[0;34m\u001b[0m\u001b[0;34m\u001b[0m\u001b[0m\n",
            "\u001b[0;32m/usr/local/lib/python3.8/dist-packages/sklearn/preprocessing/_label.py\u001b[0m in \u001b[0;36minverse_transform\u001b[0;34m(self, y)\u001b[0m\n\u001b[1;32m    159\u001b[0m         \u001b[0mdiff\u001b[0m \u001b[0;34m=\u001b[0m \u001b[0mnp\u001b[0m\u001b[0;34m.\u001b[0m\u001b[0msetdiff1d\u001b[0m\u001b[0;34m(\u001b[0m\u001b[0my\u001b[0m\u001b[0;34m,\u001b[0m \u001b[0mnp\u001b[0m\u001b[0;34m.\u001b[0m\u001b[0marange\u001b[0m\u001b[0;34m(\u001b[0m\u001b[0mlen\u001b[0m\u001b[0;34m(\u001b[0m\u001b[0mself\u001b[0m\u001b[0;34m.\u001b[0m\u001b[0mclasses_\u001b[0m\u001b[0;34m)\u001b[0m\u001b[0;34m)\u001b[0m\u001b[0;34m)\u001b[0m\u001b[0;34m\u001b[0m\u001b[0;34m\u001b[0m\u001b[0m\n\u001b[1;32m    160\u001b[0m         \u001b[0;32mif\u001b[0m \u001b[0mlen\u001b[0m\u001b[0;34m(\u001b[0m\u001b[0mdiff\u001b[0m\u001b[0;34m)\u001b[0m\u001b[0;34m:\u001b[0m\u001b[0;34m\u001b[0m\u001b[0;34m\u001b[0m\u001b[0m\n\u001b[0;32m--> 161\u001b[0;31m             \u001b[0;32mraise\u001b[0m \u001b[0mValueError\u001b[0m\u001b[0;34m(\u001b[0m\u001b[0;34m\"y contains previously unseen labels: %s\"\u001b[0m \u001b[0;34m%\u001b[0m \u001b[0mstr\u001b[0m\u001b[0;34m(\u001b[0m\u001b[0mdiff\u001b[0m\u001b[0;34m)\u001b[0m\u001b[0;34m)\u001b[0m\u001b[0;34m\u001b[0m\u001b[0;34m\u001b[0m\u001b[0m\n\u001b[0m\u001b[1;32m    162\u001b[0m         \u001b[0my\u001b[0m \u001b[0;34m=\u001b[0m \u001b[0mnp\u001b[0m\u001b[0;34m.\u001b[0m\u001b[0masarray\u001b[0m\u001b[0;34m(\u001b[0m\u001b[0my\u001b[0m\u001b[0;34m)\u001b[0m\u001b[0;34m\u001b[0m\u001b[0;34m\u001b[0m\u001b[0m\n\u001b[1;32m    163\u001b[0m         \u001b[0;32mreturn\u001b[0m \u001b[0mself\u001b[0m\u001b[0;34m.\u001b[0m\u001b[0mclasses_\u001b[0m\u001b[0;34m[\u001b[0m\u001b[0my\u001b[0m\u001b[0;34m]\u001b[0m\u001b[0;34m\u001b[0m\u001b[0;34m\u001b[0m\u001b[0m\n",
            "\u001b[0;31mValueError\u001b[0m: y contains previously unseen labels: [18 20 21 24 26 27 31 33 35 37 38 40 41 44 45 47 49 52 55 57 62]"
          ]
        }
      ]
    },
    {
      "cell_type": "code",
      "source": [
        "X_pred['Município'].value_counts()"
      ],
      "metadata": {
        "id": "ijoQ7JjxPuou"
      },
      "execution_count": null,
      "outputs": []
    },
    {
      "cell_type": "code",
      "source": [
        "predicted_df = pd.concat([predict_df.iloc[:, :8].reset_index().drop(columns='index'), pd.Series(y_pred_x, name = 'Predição')], axis = 1)"
      ],
      "metadata": {
        "id": "7heNAbOr11SZ"
      },
      "execution_count": null,
      "outputs": []
    },
    {
      "cell_type": "code",
      "source": [
        "predicted_df.to_csv('Previsões OS de Encerramento.csv')"
      ],
      "metadata": {
        "id": "YcBiwbblDhq-"
      },
      "execution_count": null,
      "outputs": []
    },
    {
      "cell_type": "code",
      "source": [
        "predicted_df[predicted_df['Predição'] == 0]"
      ],
      "metadata": {
        "id": "epn0kl6sC_8H"
      },
      "execution_count": null,
      "outputs": []
    },
    {
      "cell_type": "markdown",
      "source": [
        "### Top 20 Features importances"
      ],
      "metadata": {
        "id": "ZtaT6Oa4Io1r"
      }
    },
    {
      "cell_type": "code",
      "source": [
        "dici = dict(zip(X.columns, reg.feature_importances_))\n",
        "\n",
        "dici = dict(sorted(dici.items(), key=lambda item: item[1], reverse=True))\n",
        "\n",
        "features = list(dici.keys())\n",
        "\n",
        "fig, axes = plt.subplots(figsize = (8, 5))\n",
        "\n",
        "plt.title('Feature Importance', fontsize = 15)\n",
        "\n",
        "importances = reg.feature_importances_\n",
        "indices = np.argsort(importances)[::-1]\n",
        "\n",
        "plt.bar(range(20), importances[indices[:20]])\n",
        "plt.xticks(range(20), features, rotation = 90)\n",
        "plt.show()"
      ],
      "metadata": {
        "id": "27d0emJ0ytt-"
      },
      "execution_count": null,
      "outputs": []
    },
    {
      "cell_type": "markdown",
      "source": [
        "### Learning Curve"
      ],
      "metadata": {
        "id": "bJq4eB0SH6jJ"
      }
    },
    {
      "cell_type": "code",
      "source": [
        "train_sizes, train_scores, test_scores = learning_curve(reg, X, Y, cv=5)\n",
        "\n",
        "# calculate the mean and standard deviation of the scores\n",
        "train_scores_mean = np.mean(train_scores, axis=1)\n",
        "train_scores_std = np.std(train_scores, axis=1)\n",
        "test_scores_mean = np.mean(test_scores, axis=1)\n",
        "test_scores_std = np.std(test_scores, axis=1)\n",
        "\n",
        "# plot the learning curve\n",
        "plt.fill_between(train_sizes, train_scores_mean - train_scores_std, train_scores_mean + train_scores_std, color=\"r\", alpha=0.1)\n",
        "plt.fill_between(train_sizes, test_scores_mean - test_scores_std, test_scores_mean + test_scores_std, color=\"g\", alpha=0.1)\n",
        "plt.plot(train_sizes, train_scores_mean, 'o-', color=\"r\", label=\"Training Score\")\n",
        "plt.plot(train_sizes, test_scores_mean, 'o-', color=\"g\", label=\"Cross-Validation Score\")\n",
        "\n",
        "plt.xlabel(\"Training Examples\")\n",
        "plt.ylabel(\"Score\")\n",
        "plt.legend(loc=\"best\")\n",
        "plt.show()"
      ],
      "metadata": {
        "id": "w8zm0hx_FY59"
      },
      "execution_count": null,
      "outputs": []
    }
  ],
  "metadata": {
    "colab": {
      "provenance": [],
      "include_colab_link": true
    },
    "kernelspec": {
      "display_name": "Python 3",
      "name": "python3"
    },
    "language_info": {
      "name": "python"
    }
  },
  "nbformat": 4,
  "nbformat_minor": 0
}